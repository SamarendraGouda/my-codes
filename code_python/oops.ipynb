{
 "cells": [
  {
   "cell_type": "markdown",
   "id": "8dc9a4bd-0473-417b-a7de-f98c57f47d7b",
   "metadata": {},
   "source": [
    "# Object Oriented Programming in Python"
   ]
  },
  {
   "cell_type": "markdown",
   "id": "54333f53-4226-43f6-9ed1-34d14b6e0045",
   "metadata": {},
   "source": [
    "### Classes"
   ]
  },
  {
   "cell_type": "code",
   "execution_count": 13,
   "id": "99f4dab7-4ecb-4391-b5f9-4ce6a360d5c7",
   "metadata": {},
   "outputs": [],
   "source": [
    "class Item:\n",
    "    #Method to Calculate the total cost required\n",
    "    def calc_price(self,x,y):\n",
    "        return x*y"
   ]
  },
  {
   "cell_type": "code",
   "execution_count": 14,
   "id": "8c7fc3ca-1525-4e5e-af63-4795f2568f3a",
   "metadata": {},
   "outputs": [],
   "source": [
    "item1 = Item()\n",
    "item1.name = \"Phone\"\n",
    "item1.price = 100\n",
    "item1.quantity = 5"
   ]
  },
  {
   "cell_type": "code",
   "execution_count": 4,
   "id": "ca5f8290-8b2a-425f-9807-74ff253a1597",
   "metadata": {},
   "outputs": [
    {
     "data": {
      "text/plain": [
       "'Phone'"
      ]
     },
     "execution_count": 4,
     "metadata": {},
     "output_type": "execute_result"
    }
   ],
   "source": [
    "item1.name"
   ]
  },
  {
   "cell_type": "code",
   "execution_count": 6,
   "id": "47019c83-ea47-4f59-b260-c3e25ee6e030",
   "metadata": {},
   "outputs": [
    {
     "data": {
      "text/plain": [
       "100"
      ]
     },
     "execution_count": 6,
     "metadata": {},
     "output_type": "execute_result"
    }
   ],
   "source": [
    "item1.price"
   ]
  },
  {
   "cell_type": "code",
   "execution_count": 19,
   "id": "8a063c99-33b6-4c1b-867f-42fd661a00c8",
   "metadata": {},
   "outputs": [],
   "source": [
    "p1 = (item1.calc_price(item1.price,item1.quantity))"
   ]
  },
  {
   "cell_type": "code",
   "execution_count": 16,
   "id": "bf7e9d28-3d1a-489b-9844-fa4b752baf30",
   "metadata": {},
   "outputs": [],
   "source": [
    "item2 = Item()\n",
    "item2.name = \"Laptop\"\n",
    "item2.price = 1000\n",
    "item2.quantity = 3"
   ]
  },
  {
   "cell_type": "code",
   "execution_count": 20,
   "id": "b19b93af-3c98-4773-ba1a-0e85a1dfc6d6",
   "metadata": {},
   "outputs": [],
   "source": [
    "p2 = (item2.calc_price(item2.price,item2.quantity))"
   ]
  },
  {
   "cell_type": "code",
   "execution_count": 21,
   "id": "25285210-d58d-4433-a749-0ff29fd68f07",
   "metadata": {},
   "outputs": [
    {
     "name": "stdout",
     "output_type": "stream",
     "text": [
      "The total cost for Phone and Laptop is 3500\n"
     ]
    }
   ],
   "source": [
    "total = print(\"The total cost for\",item1.name,\"and\",item2.name,\"is\",p1+p2)"
   ]
  },
  {
   "cell_type": "code",
   "execution_count": null,
   "id": "131bbb93-1b50-4259-bc93-4bb100521cf4",
   "metadata": {},
   "outputs": [],
   "source": []
  },
  {
   "cell_type": "markdown",
   "id": "2e6f083b-1d1b-41e4-9933-9ece7778c820",
   "metadata": {
    "tags": []
   },
   "source": [
    "### Constructor"
   ]
  },
  {
   "cell_type": "code",
   "execution_count": 38,
   "id": "99c17041-13bf-4097-9a71-a2b08365765f",
   "metadata": {},
   "outputs": [],
   "source": [
    "class Item:\n",
    "     # Class Atrributes\n",
    "    pay_rate = 0.8 # Applies a 20% Discount for Price\n",
    "    all = []\n",
    "    def __init__(self,name: str,price: float,quantity=0):\n",
    "                \n",
    "        # Validating the inputted Values\n",
    "        assert price >= 0, f\"The Quantity {quantity} is less than zero.\"\n",
    "        assert quantity >=0, f\"The Quantity {quantity} is less than zero.\"\n",
    "        # Assigning Values to Self Object\n",
    "        self.name = name\n",
    "        self.price = price\n",
    "        self. quantity = quantity\n",
    "        \n",
    "        # Actions\n",
    "        Item.all.append(self)\n",
    "       \n",
    "    def calc_price(self):\n",
    "        return self.price*self.quantity\n",
    "    def apply_discount(self):\n",
    "        self.price = self.price* self.pay_rate\n",
    "        \n",
    "    def __repr__(self):\n",
    "        return f\"Item('{self.name}',{self.price},{self.quantity})\""
   ]
  },
  {
   "cell_type": "code",
   "execution_count": 39,
   "id": "52d68bfa-e5a5-4935-9085-d3b38c7979cd",
   "metadata": {},
   "outputs": [],
   "source": [
    "item1 = Item(\"Phone\",100,5)"
   ]
  },
  {
   "cell_type": "code",
   "execution_count": 40,
   "id": "dce03cee-1ac0-4aa9-9109-ab5fb9b3911e",
   "metadata": {},
   "outputs": [],
   "source": [
    "item2 = Item(\"Laptop\",1000,3)"
   ]
  },
  {
   "cell_type": "code",
   "execution_count": 41,
   "id": "efc97ece-41cf-4d53-a8f3-2c8ba94f122e",
   "metadata": {},
   "outputs": [
    {
     "name": "stdout",
     "output_type": "stream",
     "text": [
      "500\n"
     ]
    }
   ],
   "source": [
    "print(item1.calc_price())"
   ]
  },
  {
   "cell_type": "code",
   "execution_count": 42,
   "id": "e58c5c68-8aa3-44e7-8919-653d1f873d3c",
   "metadata": {},
   "outputs": [
    {
     "name": "stdout",
     "output_type": "stream",
     "text": [
      "3000\n"
     ]
    }
   ],
   "source": [
    "print(item2.calc_price())"
   ]
  },
  {
   "cell_type": "code",
   "execution_count": 43,
   "id": "1dc22b75-a6e2-4be1-892f-deac544bf373",
   "metadata": {},
   "outputs": [
    {
     "data": {
      "text/plain": [
       "[Item('Phone',100,5), Item('Laptop',1000,3)]"
      ]
     },
     "execution_count": 43,
     "metadata": {},
     "output_type": "execute_result"
    }
   ],
   "source": [
    "Item.all"
   ]
  },
  {
   "cell_type": "code",
   "execution_count": 44,
   "id": "bf9b17c2-1f3a-490c-b41b-98edc8c988aa",
   "metadata": {},
   "outputs": [],
   "source": [
    "item3 = Item(\"Keyboard\",50,50)"
   ]
  },
  {
   "cell_type": "code",
   "execution_count": 45,
   "id": "00768ac3-f9b7-4de4-b80e-90b998db2002",
   "metadata": {},
   "outputs": [],
   "source": [
    "item4 = Item(\"Mouse\",50,50)"
   ]
  },
  {
   "cell_type": "code",
   "execution_count": 46,
   "id": "43847064-33f6-432c-9c83-120bdea04821",
   "metadata": {},
   "outputs": [
    {
     "data": {
      "text/plain": [
       "[Item('Phone',100,5),\n",
       " Item('Laptop',1000,3),\n",
       " Item('Keyboard',50,50),\n",
       " Item('Mouse',50,50)]"
      ]
     },
     "execution_count": 46,
     "metadata": {},
     "output_type": "execute_result"
    }
   ],
   "source": [
    "Item.all"
   ]
  },
  {
   "cell_type": "code",
   "execution_count": null,
   "id": "3a24dea0-f3cc-4784-a30b-e037757559fc",
   "metadata": {},
   "outputs": [],
   "source": []
  },
  {
   "cell_type": "markdown",
   "id": "a3b46a08-decd-449c-9011-40c80d2b9811",
   "metadata": {},
   "source": [
    "## Skipped Class Methods and Static Methods"
   ]
  },
  {
   "cell_type": "markdown",
   "id": "237b30f8-0a0d-4dda-abac-b4307c0be532",
   "metadata": {},
   "source": [
    "### Inheritence"
   ]
  },
  {
   "cell_type": "code",
   "execution_count": null,
   "id": "9e5a2a83-0302-47cb-b4f4-9945f0f0da64",
   "metadata": {},
   "outputs": [],
   "source": []
  }
 ],
 "metadata": {
  "kernelspec": {
   "display_name": "Python 3 (ipykernel)",
   "language": "python",
   "name": "python3"
  },
  "language_info": {
   "codemirror_mode": {
    "name": "ipython",
    "version": 3
   },
   "file_extension": ".py",
   "mimetype": "text/x-python",
   "name": "python",
   "nbconvert_exporter": "python",
   "pygments_lexer": "ipython3",
   "version": "3.9.7"
  }
 },
 "nbformat": 4,
 "nbformat_minor": 5
}
