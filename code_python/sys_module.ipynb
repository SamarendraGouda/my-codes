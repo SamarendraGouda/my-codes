{
 "cells": [
  {
   "cell_type": "markdown",
   "id": "8eacd95f-4536-48b7-9b10-a713109edef7",
   "metadata": {},
   "source": [
    "### sys Module"
   ]
  },
  {
   "cell_type": "code",
   "execution_count": 1,
   "id": "949c439b-b731-47d4-a8ab-107ed52cd863",
   "metadata": {},
   "outputs": [],
   "source": [
    "import sys"
   ]
  },
  {
   "cell_type": "code",
   "execution_count": 2,
   "id": "50f11671-03d4-4cec-864b-3c23a43e68ed",
   "metadata": {},
   "outputs": [
    {
     "data": {
      "text/plain": [
       "['__breakpointhook__',\n",
       " '__displayhook__',\n",
       " '__doc__',\n",
       " '__excepthook__',\n",
       " '__interactivehook__',\n",
       " '__loader__',\n",
       " '__name__',\n",
       " '__package__',\n",
       " '__spec__',\n",
       " '__stderr__',\n",
       " '__stdin__',\n",
       " '__stdout__',\n",
       " '__unraisablehook__',\n",
       " '_base_executable',\n",
       " '_clear_type_cache',\n",
       " '_current_frames',\n",
       " '_debugmallocstats',\n",
       " '_enablelegacywindowsfsencoding',\n",
       " '_framework',\n",
       " '_getframe',\n",
       " '_git',\n",
       " '_home',\n",
       " '_xoptions',\n",
       " 'addaudithook',\n",
       " 'api_version',\n",
       " 'argv',\n",
       " 'audit',\n",
       " 'base_exec_prefix',\n",
       " 'base_prefix',\n",
       " 'breakpointhook',\n",
       " 'builtin_module_names',\n",
       " 'byteorder',\n",
       " 'call_tracing',\n",
       " 'copyright',\n",
       " 'displayhook',\n",
       " 'dllhandle',\n",
       " 'dont_write_bytecode',\n",
       " 'exc_info',\n",
       " 'excepthook',\n",
       " 'exec_prefix',\n",
       " 'executable',\n",
       " 'exit',\n",
       " 'flags',\n",
       " 'float_info',\n",
       " 'float_repr_style',\n",
       " 'get_asyncgen_hooks',\n",
       " 'get_coroutine_origin_tracking_depth',\n",
       " 'getallocatedblocks',\n",
       " 'getdefaultencoding',\n",
       " 'getfilesystemencodeerrors',\n",
       " 'getfilesystemencoding',\n",
       " 'getprofile',\n",
       " 'getrecursionlimit',\n",
       " 'getrefcount',\n",
       " 'getsizeof',\n",
       " 'getswitchinterval',\n",
       " 'gettrace',\n",
       " 'getwindowsversion',\n",
       " 'hash_info',\n",
       " 'hexversion',\n",
       " 'implementation',\n",
       " 'int_info',\n",
       " 'intern',\n",
       " 'is_finalizing',\n",
       " 'maxsize',\n",
       " 'maxunicode',\n",
       " 'meta_path',\n",
       " 'modules',\n",
       " 'path',\n",
       " 'path_hooks',\n",
       " 'path_importer_cache',\n",
       " 'platform',\n",
       " 'platlibdir',\n",
       " 'prefix',\n",
       " 'ps1',\n",
       " 'ps2',\n",
       " 'ps3',\n",
       " 'pycache_prefix',\n",
       " 'set_asyncgen_hooks',\n",
       " 'set_coroutine_origin_tracking_depth',\n",
       " 'setprofile',\n",
       " 'setrecursionlimit',\n",
       " 'setswitchinterval',\n",
       " 'settrace',\n",
       " 'stderr',\n",
       " 'stdin',\n",
       " 'stdout',\n",
       " 'thread_info',\n",
       " 'unraisablehook',\n",
       " 'version',\n",
       " 'version_info',\n",
       " 'warnoptions',\n",
       " 'winver']"
      ]
     },
     "execution_count": 2,
     "metadata": {},
     "output_type": "execute_result"
    }
   ],
   "source": [
    "dir(sys)"
   ]
  },
  {
   "cell_type": "code",
   "execution_count": 4,
   "id": "70a3edaf-1924-43f2-8241-43f45ea3fdc6",
   "metadata": {},
   "outputs": [
    {
     "data": {
      "text/plain": [
       "['C:\\\\Users\\\\samar\\\\anaconda3\\\\lib\\\\site-packages\\\\ipykernel_launcher.py',\n",
       " '-f',\n",
       " 'C:\\\\Users\\\\samar\\\\AppData\\\\Roaming\\\\jupyter\\\\runtime\\\\kernel-c6e67ffc-d0dc-4de1-b3dc-5d582cabe77a.json']"
      ]
     },
     "execution_count": 4,
     "metadata": {},
     "output_type": "execute_result"
    }
   ],
   "source": [
    "sys.argv"
   ]
  },
  {
   "cell_type": "code",
   "execution_count": 5,
   "id": "f71fb63a-a3e3-4cb3-bac8-ffe17c17fd86",
   "metadata": {},
   "outputs": [
    {
     "data": {
      "text/plain": [
       "['C:\\\\Users\\\\samar\\\\Desktop\\\\code_python',\n",
       " 'C:\\\\Users\\\\samar\\\\anaconda3\\\\python39.zip',\n",
       " 'C:\\\\Users\\\\samar\\\\anaconda3\\\\DLLs',\n",
       " 'C:\\\\Users\\\\samar\\\\anaconda3\\\\lib',\n",
       " 'C:\\\\Users\\\\samar\\\\anaconda3',\n",
       " '',\n",
       " 'C:\\\\Users\\\\samar\\\\anaconda3\\\\lib\\\\site-packages',\n",
       " 'C:\\\\Users\\\\samar\\\\anaconda3\\\\lib\\\\site-packages\\\\locket-0.2.1-py3.9.egg',\n",
       " 'C:\\\\Users\\\\samar\\\\anaconda3\\\\lib\\\\site-packages\\\\win32',\n",
       " 'C:\\\\Users\\\\samar\\\\anaconda3\\\\lib\\\\site-packages\\\\win32\\\\lib',\n",
       " 'C:\\\\Users\\\\samar\\\\anaconda3\\\\lib\\\\site-packages\\\\Pythonwin',\n",
       " 'C:\\\\Users\\\\samar\\\\anaconda3\\\\lib\\\\site-packages\\\\IPython\\\\extensions',\n",
       " 'C:\\\\Users\\\\samar\\\\.ipython']"
      ]
     },
     "execution_count": 5,
     "metadata": {},
     "output_type": "execute_result"
    }
   ],
   "source": [
    "sys.path"
   ]
  },
  {
   "cell_type": "code",
   "execution_count": 7,
   "id": "f3c7bba7-6ce1-4b5c-abbd-0afdf20c003e",
   "metadata": {},
   "outputs": [
    {
     "data": {
      "text/plain": [
       "\u001b[1;31mType:\u001b[0m        str\n",
       "\u001b[1;31mString form:\u001b[0m win32\n",
       "\u001b[1;31mLength:\u001b[0m      5\n",
       "\u001b[1;31mDocstring:\u001b[0m  \n",
       "str(object='') -> str\n",
       "str(bytes_or_buffer[, encoding[, errors]]) -> str\n",
       "\n",
       "Create a new string object from the given object. If encoding or\n",
       "errors is specified, then the object must expose a data buffer\n",
       "that will be decoded using the given encoding and error handler.\n",
       "Otherwise, returns the result of object.__str__() (if defined)\n",
       "or repr(object).\n",
       "encoding defaults to sys.getdefaultencoding().\n",
       "errors defaults to 'strict'.\n"
      ]
     },
     "metadata": {},
     "output_type": "display_data"
    }
   ],
   "source": [
    "sys.platform?"
   ]
  },
  {
   "cell_type": "code",
   "execution_count": 8,
   "id": "f3a8378b-34f5-4882-8f17-a3cdd7878820",
   "metadata": {},
   "outputs": [
    {
     "data": {
      "text/plain": [
       "\u001b[1;31mType:\u001b[0m        TextIOWrapper\n",
       "\u001b[1;31mString form:\u001b[0m <_io.TextIOWrapper name='<stdin>' mode='r' encoding='cp1252'>\n",
       "\u001b[1;31mDocstring:\u001b[0m  \n",
       "Character and line based layer over a BufferedIOBase object, buffer.\n",
       "\n",
       "encoding gives the name of the encoding that the stream will be\n",
       "decoded or encoded with. It defaults to locale.getpreferredencoding(False).\n",
       "\n",
       "errors determines the strictness of encoding and decoding (see\n",
       "help(codecs.Codec) or the documentation for codecs.register) and\n",
       "defaults to \"strict\".\n",
       "\n",
       "newline controls how line endings are handled. It can be None, '',\n",
       "'\\n', '\\r', and '\\r\\n'.  It works as follows:\n",
       "\n",
       "* On input, if newline is None, universal newlines mode is\n",
       "  enabled. Lines in the input can end in '\\n', '\\r', or '\\r\\n', and\n",
       "  these are translated into '\\n' before being returned to the\n",
       "  caller. If it is '', universal newline mode is enabled, but line\n",
       "  endings are returned to the caller untranslated. If it has any of\n",
       "  the other legal values, input lines are only terminated by the given\n",
       "  string, and the line ending is returned to the caller untranslated.\n",
       "\n",
       "* On output, if newline is None, any '\\n' characters written are\n",
       "  translated to the system default line separator, os.linesep. If\n",
       "  newline is '' or '\\n', no translation takes place. If newline is any\n",
       "  of the other legal values, any '\\n' characters written are translated\n",
       "  to the given string.\n",
       "\n",
       "If line_buffering is True, a call to flush is implied when a call to\n",
       "write contains a newline character.\n"
      ]
     },
     "metadata": {},
     "output_type": "display_data"
    }
   ],
   "source": [
    "sys.stdin?"
   ]
  },
  {
   "cell_type": "code",
   "execution_count": 16,
   "id": "d00bacc0-14f3-4613-a12e-c33e0a216523",
   "metadata": {},
   "outputs": [
    {
     "data": {
      "text/plain": [
       "\u001b[1;31mType:\u001b[0m           OutStream\n",
       "\u001b[1;31mString form:\u001b[0m    <ipykernel.iostream.OutStream object at 0x000002CF302D3B80>\n",
       "\u001b[1;31mFile:\u001b[0m           c:\\users\\samar\\anaconda3\\lib\\site-packages\\ipykernel\\iostream.py\n",
       "\u001b[1;31mDocstring:\u001b[0m     \n",
       "A file like object that publishes the stream to a 0MQ PUB socket.\n",
       "\n",
       "Output is handed off to an IO Thread\n",
       "\u001b[1;31mInit docstring:\u001b[0m\n",
       "Parameters\n",
       "----------\n",
       "name : str {'stderr', 'stdout'}\n",
       "    the name of the standard stream to replace\n",
       "watchfd : bool (default, True)\n",
       "    Watch the file descripttor corresponding to the replaced stream.\n",
       "    This is useful if you know some underlying code will write directly\n",
       "    the file descriptor by its number. It will spawn a watching thread,\n",
       "    that will swap the give file descriptor for a pipe, read from the\n",
       "    pipe, and insert this into the current Stream.\n",
       "isatty : bool (default, False)\n",
       "    Indication of whether this stream has termimal capabilities (e.g. can handle colors)\n"
      ]
     },
     "metadata": {},
     "output_type": "display_data"
    }
   ],
   "source": [
    "sys.stdout?"
   ]
  },
  {
   "cell_type": "code",
   "execution_count": null,
   "id": "e8a68ea1-83c8-4176-90a5-ad18e16f7522",
   "metadata": {},
   "outputs": [],
   "source": []
  }
 ],
 "metadata": {
  "kernelspec": {
   "display_name": "Python 3 (ipykernel)",
   "language": "python",
   "name": "python3"
  },
  "language_info": {
   "codemirror_mode": {
    "name": "ipython",
    "version": 3
   },
   "file_extension": ".py",
   "mimetype": "text/x-python",
   "name": "python",
   "nbconvert_exporter": "python",
   "pygments_lexer": "ipython3",
   "version": "3.9.7"
  }
 },
 "nbformat": 4,
 "nbformat_minor": 5
}
