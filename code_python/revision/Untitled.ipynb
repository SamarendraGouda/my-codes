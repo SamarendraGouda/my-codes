{
 "cells": [
  {
   "cell_type": "markdown",
   "id": "3a2a2c5b-658f-49d3-9404-c521120ce1e7",
   "metadata": {},
   "source": [
    "# Viva"
   ]
  },
  {
   "cell_type": "code",
   "execution_count": null,
   "id": "e7ad3b44-483a-4f62-adf9-45cc95cbc878",
   "metadata": {},
   "outputs": [],
   "source": []
  }
 ],
 "metadata": {
  "kernelspec": {
   "display_name": "Python 3 (ipykernel)",
   "language": "python",
   "name": "python3"
  },
  "language_info": {
   "codemirror_mode": {
    "name": "ipython",
    "version": 3
   },
   "file_extension": ".py",
   "mimetype": "text/x-python",
   "name": "python",
   "nbconvert_exporter": "python",
   "pygments_lexer": "ipython3",
   "version": "3.9.7"
  }
 },
 "nbformat": 4,
 "nbformat_minor": 5
}
