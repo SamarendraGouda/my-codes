{
 "cells": [
  {
   "cell_type": "markdown",
   "id": "f519cf3b-b614-48ee-9321-408c43444b95",
   "metadata": {},
   "source": [
    "### lambda"
   ]
  },
  {
   "cell_type": "code",
   "execution_count": 3,
   "id": "b0cf4457-4121-4cdf-af11-2c6ff4ca9762",
   "metadata": {},
   "outputs": [],
   "source": [
    "import math"
   ]
  },
  {
   "cell_type": "code",
   "execution_count": 4,
   "id": "0acb4f86-5079-4fb0-8e08-7b7957daf6dc",
   "metadata": {},
   "outputs": [],
   "source": [
    "def sqroot(x):\n",
    "    return math.sqrt(x)"
   ]
  },
  {
   "cell_type": "code",
   "execution_count": 5,
   "id": "b9dd3ef1-f2af-4dd8-9849-ad60a5938a25",
   "metadata": {},
   "outputs": [],
   "source": [
    "square_root = lambda x: math.sqrt(x)"
   ]
  },
  {
   "cell_type": "code",
   "execution_count": 6,
   "id": "fdb44e36-8227-4139-96cf-993e41a2037c",
   "metadata": {},
   "outputs": [
    {
     "data": {
      "text/plain": [
       "5.0"
      ]
     },
     "execution_count": 6,
     "metadata": {},
     "output_type": "execute_result"
    }
   ],
   "source": [
    "square_root(25)"
   ]
  },
  {
   "cell_type": "markdown",
   "id": "a73e9790-64dd-4ef7-accd-a0139e07a396",
   "metadata": {},
   "source": [
    "### Creating custom packages"
   ]
  },
  {
   "cell_type": "code",
   "execution_count": 16,
   "id": "1a137520-7314-47a6-91cd-5c12e0525cf4",
   "metadata": {},
   "outputs": [],
   "source": [
    "import myCalculate"
   ]
  },
  {
   "cell_type": "code",
   "execution_count": 15,
   "id": "dfa20120-2fbf-430a-8db3-480143ec3274",
   "metadata": {},
   "outputs": [
    {
     "data": {
      "text/plain": [
       "5.0"
      ]
     },
     "execution_count": 15,
     "metadata": {},
     "output_type": "execute_result"
    }
   ],
   "source": [
    "myCalculate.divide(10, 2)"
   ]
  },
  {
   "cell_type": "code",
   "execution_count": 55,
   "id": "43df1e34-ec52-4522-b4aa-bba72b33efb6",
   "metadata": {},
   "outputs": [
    {
     "name": "stdout",
     "output_type": "stream",
     "text": [
      "arguements after operation should be real numbers\n"
     ]
    }
   ],
   "source": [
    "!python myCalculate.py -a 1.4 S"
   ]
  }
 ],
 "metadata": {
  "kernelspec": {
   "display_name": "Python 3 (ipykernel)",
   "language": "python",
   "name": "python3"
  },
  "language_info": {
   "codemirror_mode": {
    "name": "ipython",
    "version": 3
   },
   "file_extension": ".py",
   "mimetype": "text/x-python",
   "name": "python",
   "nbconvert_exporter": "python",
   "pygments_lexer": "ipython3",
   "version": "3.9.7"
  }
 },
 "nbformat": 4,
 "nbformat_minor": 5
}
