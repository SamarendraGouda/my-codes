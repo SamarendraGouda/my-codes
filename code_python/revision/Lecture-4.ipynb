{
 "cells": [
  {
   "cell_type": "markdown",
   "id": "793aa2f9-896c-492a-ada0-5c715dd45ecb",
   "metadata": {},
   "source": [
    "### Exceptions and how to handle them"
   ]
  },
  {
   "cell_type": "code",
   "execution_count": 1,
   "id": "c8c7bfff-5752-48fe-9cd0-55c03d31e405",
   "metadata": {},
   "outputs": [
    {
     "ename": "NameError",
     "evalue": "name 'k' is not defined",
     "output_type": "error",
     "traceback": [
      "\u001b[1;31m---------------------------------------------------------------------------\u001b[0m",
      "\u001b[1;31mNameError\u001b[0m                                 Traceback (most recent call last)",
      "\u001b[1;32m<ipython-input-1-eb2fa875d160>\u001b[0m in \u001b[0;36m<module>\u001b[1;34m\u001b[0m\n\u001b[1;32m----> 1\u001b[1;33m \u001b[0mprint\u001b[0m\u001b[1;33m(\u001b[0m\u001b[0mk\u001b[0m\u001b[1;33m)\u001b[0m\u001b[1;33m\u001b[0m\u001b[1;33m\u001b[0m\u001b[0m\n\u001b[0m",
      "\u001b[1;31mNameError\u001b[0m: name 'k' is not defined"
     ]
    }
   ],
   "source": [
    "print(k)"
   ]
  },
  {
   "cell_type": "code",
   "execution_count": 2,
   "id": "e8dd43a1-6ed8-45d2-978b-040fb3e095fc",
   "metadata": {},
   "outputs": [
    {
     "ename": "IndexError",
     "evalue": "list index out of range",
     "output_type": "error",
     "traceback": [
      "\u001b[1;31m---------------------------------------------------------------------------\u001b[0m",
      "\u001b[1;31mIndexError\u001b[0m                                Traceback (most recent call last)",
      "\u001b[1;32m<ipython-input-2-89633be69705>\u001b[0m in \u001b[0;36m<module>\u001b[1;34m\u001b[0m\n\u001b[0;32m      1\u001b[0m \u001b[0ml\u001b[0m \u001b[1;33m=\u001b[0m \u001b[1;33m[\u001b[0m\u001b[1;36m1\u001b[0m\u001b[1;33m,\u001b[0m \u001b[1;36m2\u001b[0m\u001b[1;33m,\u001b[0m \u001b[1;36m3\u001b[0m\u001b[1;33m]\u001b[0m\u001b[1;33m\u001b[0m\u001b[1;33m\u001b[0m\u001b[0m\n\u001b[1;32m----> 2\u001b[1;33m \u001b[0mprint\u001b[0m\u001b[1;33m(\u001b[0m\u001b[0ml\u001b[0m\u001b[1;33m[\u001b[0m\u001b[1;36m3\u001b[0m\u001b[1;33m]\u001b[0m\u001b[1;33m)\u001b[0m\u001b[1;33m\u001b[0m\u001b[1;33m\u001b[0m\u001b[0m\n\u001b[0m",
      "\u001b[1;31mIndexError\u001b[0m: list index out of range"
     ]
    }
   ],
   "source": [
    "l = [1, 2, 3]\n",
    "print(l[3])"
   ]
  },
  {
   "cell_type": "code",
   "execution_count": 3,
   "id": "6bc8f0e4-cc82-4e21-877c-0585739d4fe5",
   "metadata": {},
   "outputs": [
    {
     "ename": "KeyError",
     "evalue": "'a'",
     "output_type": "error",
     "traceback": [
      "\u001b[1;31m---------------------------------------------------------------------------\u001b[0m",
      "\u001b[1;31mKeyError\u001b[0m                                  Traceback (most recent call last)",
      "\u001b[1;32m<ipython-input-3-5f7f4d96a9e8>\u001b[0m in \u001b[0;36m<module>\u001b[1;34m\u001b[0m\n\u001b[0;32m      1\u001b[0m \u001b[0md\u001b[0m \u001b[1;33m=\u001b[0m \u001b[1;33m{\u001b[0m\u001b[1;33m}\u001b[0m\u001b[1;33m\u001b[0m\u001b[1;33m\u001b[0m\u001b[0m\n\u001b[1;32m----> 2\u001b[1;33m \u001b[0mprint\u001b[0m\u001b[1;33m(\u001b[0m\u001b[0md\u001b[0m\u001b[1;33m[\u001b[0m\u001b[1;34m\"a\"\u001b[0m\u001b[1;33m]\u001b[0m\u001b[1;33m)\u001b[0m\u001b[1;33m\u001b[0m\u001b[1;33m\u001b[0m\u001b[0m\n\u001b[0m",
      "\u001b[1;31mKeyError\u001b[0m: 'a'"
     ]
    }
   ],
   "source": [
    "d = {}\n",
    "print(d[\"a\"])"
   ]
  },
  {
   "cell_type": "code",
   "execution_count": 4,
   "id": "2943fe45-b5ff-48ba-a073-bb9e269dd561",
   "metadata": {},
   "outputs": [
    {
     "ename": "TypeError",
     "evalue": "can only concatenate str (not \"int\") to str",
     "output_type": "error",
     "traceback": [
      "\u001b[1;31m---------------------------------------------------------------------------\u001b[0m",
      "\u001b[1;31mTypeError\u001b[0m                                 Traceback (most recent call last)",
      "\u001b[1;32m<ipython-input-4-a6f2315ab1ed>\u001b[0m in \u001b[0;36m<module>\u001b[1;34m\u001b[0m\n\u001b[0;32m      1\u001b[0m \u001b[0mx\u001b[0m \u001b[1;33m=\u001b[0m \u001b[1;34m\"3\"\u001b[0m\u001b[1;33m\u001b[0m\u001b[1;33m\u001b[0m\u001b[0m\n\u001b[1;32m----> 2\u001b[1;33m \u001b[0mprint\u001b[0m\u001b[1;33m(\u001b[0m\u001b[0mx\u001b[0m\u001b[1;33m+\u001b[0m\u001b[1;36m5\u001b[0m\u001b[1;33m)\u001b[0m\u001b[1;33m\u001b[0m\u001b[1;33m\u001b[0m\u001b[0m\n\u001b[0m",
      "\u001b[1;31mTypeError\u001b[0m: can only concatenate str (not \"int\") to str"
     ]
    }
   ],
   "source": [
    "x = \"3\"\n",
    "print(x+5)"
   ]
  },
  {
   "cell_type": "code",
   "execution_count": 5,
   "id": "89166622-d459-4d2e-92af-7ec77bd55330",
   "metadata": {},
   "outputs": [
    {
     "ename": "TypeError",
     "evalue": "unsupported operand type(s) for +: 'int' and 'str'",
     "output_type": "error",
     "traceback": [
      "\u001b[1;31m---------------------------------------------------------------------------\u001b[0m",
      "\u001b[1;31mTypeError\u001b[0m                                 Traceback (most recent call last)",
      "\u001b[1;32m<ipython-input-5-574931e847d0>\u001b[0m in \u001b[0;36m<module>\u001b[1;34m\u001b[0m\n\u001b[0;32m      1\u001b[0m \u001b[0mx\u001b[0m \u001b[1;33m=\u001b[0m \u001b[1;36m3\u001b[0m\u001b[1;33m\u001b[0m\u001b[1;33m\u001b[0m\u001b[0m\n\u001b[1;32m----> 2\u001b[1;33m \u001b[0mprint\u001b[0m\u001b[1;33m(\u001b[0m\u001b[1;36m3\u001b[0m\u001b[1;33m+\u001b[0m\u001b[1;34m\"5\"\u001b[0m\u001b[1;33m)\u001b[0m\u001b[1;33m\u001b[0m\u001b[1;33m\u001b[0m\u001b[0m\n\u001b[0m",
      "\u001b[1;31mTypeError\u001b[0m: unsupported operand type(s) for +: 'int' and 'str'"
     ]
    }
   ],
   "source": [
    "x = 3\n",
    "print(3+\"5\")"
   ]
  },
  {
   "cell_type": "code",
   "execution_count": 6,
   "id": "d60841a5-344c-45e7-be9a-6f1f21d3d2be",
   "metadata": {},
   "outputs": [
    {
     "ename": "ZeroDivisionError",
     "evalue": "division by zero",
     "output_type": "error",
     "traceback": [
      "\u001b[1;31m---------------------------------------------------------------------------\u001b[0m",
      "\u001b[1;31mZeroDivisionError\u001b[0m                         Traceback (most recent call last)",
      "\u001b[1;32m<ipython-input-6-9e1622b385b6>\u001b[0m in \u001b[0;36m<module>\u001b[1;34m\u001b[0m\n\u001b[1;32m----> 1\u001b[1;33m \u001b[1;36m1\u001b[0m\u001b[1;33m/\u001b[0m\u001b[1;36m0\u001b[0m\u001b[1;33m\u001b[0m\u001b[1;33m\u001b[0m\u001b[0m\n\u001b[0m",
      "\u001b[1;31mZeroDivisionError\u001b[0m: division by zero"
     ]
    }
   ],
   "source": [
    "1/0"
   ]
  },
  {
   "cell_type": "code",
   "execution_count": 7,
   "id": "8ed30bd1-526d-417d-84b7-5e31bed491cd",
   "metadata": {},
   "outputs": [
    {
     "ename": "KeyboardInterrupt",
     "evalue": "",
     "output_type": "error",
     "traceback": [
      "\u001b[1;31m---------------------------------------------------------------------------\u001b[0m",
      "\u001b[1;31mKeyboardInterrupt\u001b[0m                         Traceback (most recent call last)",
      "\u001b[1;32m<ipython-input-7-859ee07082ba>\u001b[0m in \u001b[0;36m<module>\u001b[1;34m\u001b[0m\n\u001b[0;32m      1\u001b[0m \u001b[1;32mwhile\u001b[0m \u001b[1;32mTrue\u001b[0m\u001b[1;33m:\u001b[0m\u001b[1;33m\u001b[0m\u001b[1;33m\u001b[0m\u001b[0m\n\u001b[1;32m----> 2\u001b[1;33m     \u001b[0mr\u001b[0m \u001b[1;33m=\u001b[0m \u001b[1;36m1\u001b[0m\u001b[1;33m\u001b[0m\u001b[1;33m\u001b[0m\u001b[0m\n\u001b[0m",
      "\u001b[1;31mKeyboardInterrupt\u001b[0m: "
     ]
    }
   ],
   "source": [
    "while True:\n",
    "    r = 1"
   ]
  },
  {
   "cell_type": "code",
   "execution_count": 8,
   "id": "f6edc680-6a1f-4939-9ee5-94bfc9031357",
   "metadata": {},
   "outputs": [
    {
     "ename": "ZeroDivisionError",
     "evalue": "division by zero",
     "output_type": "error",
     "traceback": [
      "\u001b[1;31m---------------------------------------------------------------------------\u001b[0m",
      "\u001b[1;31mZeroDivisionError\u001b[0m                         Traceback (most recent call last)",
      "\u001b[1;32m<ipython-input-8-a5cf0b2ef366>\u001b[0m in \u001b[0;36m<module>\u001b[1;34m\u001b[0m\n\u001b[1;32m----> 1\u001b[1;33m \u001b[0mt\u001b[0m \u001b[1;33m=\u001b[0m \u001b[1;36m1\u001b[0m\u001b[1;33m/\u001b[0m\u001b[1;36m0\u001b[0m\u001b[1;33m\u001b[0m\u001b[1;33m\u001b[0m\u001b[0m\n\u001b[0m\u001b[0;32m      2\u001b[0m \u001b[1;31m### some other stuff\u001b[0m\u001b[1;33m\u001b[0m\u001b[1;33m\u001b[0m\u001b[1;33m\u001b[0m\u001b[0m\n\u001b[0;32m      3\u001b[0m \u001b[0mprint\u001b[0m\u001b[1;33m(\u001b[0m\u001b[1;34m\"Code finished\"\u001b[0m\u001b[1;33m)\u001b[0m\u001b[1;33m\u001b[0m\u001b[1;33m\u001b[0m\u001b[0m\n",
      "\u001b[1;31mZeroDivisionError\u001b[0m: division by zero"
     ]
    }
   ],
   "source": [
    "t = 1/0\n",
    "### some other stuff\n",
    "print(\"Code finished\")"
   ]
  },
  {
   "cell_type": "code",
   "execution_count": 11,
   "id": "579606aa-9159-41b6-b486-7be6bf074eb1",
   "metadata": {},
   "outputs": [
    {
     "name": "stdout",
     "output_type": "stream",
     "text": [
      "Some error raised\n",
      "Code finished\n"
     ]
    }
   ],
   "source": [
    "try:\n",
    "    t = 1/0\n",
    "except:\n",
    "    print(\"Some error raised\")\n",
    "### some other stuff\n",
    "print(\"Code finished\")"
   ]
  },
  {
   "cell_type": "code",
   "execution_count": 13,
   "id": "ebb45267-cb5d-402a-ab98-981290f3c0d2",
   "metadata": {},
   "outputs": [
    {
     "name": "stdout",
     "output_type": "stream",
     "text": [
      "The key is missing\n"
     ]
    }
   ],
   "source": [
    "d = {'a':0, 'b':1}\n",
    "try:\n",
    "    value = d['c']\n",
    "except KeyError:\n",
    "    print(\"The key is missing\")\n",
    "except IndexError:\n",
    "    print(\"The index does not exist\")\n",
    "except:\n",
    "    print(\"Error raised\")"
   ]
  },
  {
   "cell_type": "code",
   "execution_count": null,
   "id": "871ec491-1ae0-4f76-9e97-c71bb57e1dfd",
   "metadata": {},
   "outputs": [],
   "source": [
    "d = {'a':0, 'b':1}\n",
    "try:\n",
    "    value = d['c']\n",
    "except (KeyError, IndexError):\n",
    "    print(\"The key is missing or index out of range\")\n",
    "except:\n",
    "    print(\"Error raised\")"
   ]
  },
  {
   "cell_type": "code",
   "execution_count": null,
   "id": "5d75c837-1de4-45a2-89ab-210c9ca5abf2",
   "metadata": {},
   "outputs": [],
   "source": [
    "## finally"
   ]
  },
  {
   "cell_type": "code",
   "execution_count": 16,
   "id": "8e97a4fe-c049-498f-85b1-eff7804db098",
   "metadata": {},
   "outputs": [
    {
     "name": "stdout",
     "output_type": "stream",
     "text": [
      "No error occurred\n"
     ]
    }
   ],
   "source": [
    "d = {'a':0, 'b':1}\n",
    "try:\n",
    "    value = d['a']\n",
    "except (KeyError, IndexError):\n",
    "    print(\"The key is missing or index out of range\")\n",
    "else:\n",
    "    # if there was no error, we might want to use \"else\",\n",
    "    # because even if try didn't raise error, after-code can\n",
    "    print(\"No error occurred\")\n",
    "finally:\n",
    "    print(\"finally do this\")"
   ]
  },
  {
   "cell_type": "code",
   "execution_count": null,
   "id": "7efe0e73-3dae-4a00-b2a6-3bdf254b8efb",
   "metadata": {},
   "outputs": [],
   "source": [
    "d = {'a':0, 'b':1}\n",
    "try:\n",
    "    value = d['a']\n",
    "except (KeyError, IndexError):\n",
    "    print(\"The key is missing or index out of range\")\n",
    "except:\n",
    "    print(\"Error raised\")\n",
    "print(\"finally do this\")"
   ]
  },
  {
   "cell_type": "code",
   "execution_count": 17,
   "id": "9b28cf77-e657-4df6-a9f9-cfdc4e419106",
   "metadata": {},
   "outputs": [
    {
     "ename": "KeyError",
     "evalue": "'f'",
     "output_type": "error",
     "traceback": [
      "\u001b[1;31m---------------------------------------------------------------------------\u001b[0m",
      "\u001b[1;31mKeyError\u001b[0m                                  Traceback (most recent call last)",
      "\u001b[1;32m<ipython-input-17-12851ee974c4>\u001b[0m in \u001b[0;36m<module>\u001b[1;34m\u001b[0m\n\u001b[0;32m      1\u001b[0m \u001b[0md\u001b[0m \u001b[1;33m=\u001b[0m \u001b[1;33m{\u001b[0m\u001b[1;34m'a'\u001b[0m\u001b[1;33m:\u001b[0m\u001b[1;36m0\u001b[0m\u001b[1;33m,\u001b[0m \u001b[1;34m'b'\u001b[0m\u001b[1;33m:\u001b[0m\u001b[1;36m1\u001b[0m\u001b[1;33m}\u001b[0m\u001b[1;33m\u001b[0m\u001b[1;33m\u001b[0m\u001b[0m\n\u001b[0;32m      2\u001b[0m \u001b[1;32mtry\u001b[0m\u001b[1;33m:\u001b[0m\u001b[1;33m\u001b[0m\u001b[1;33m\u001b[0m\u001b[0m\n\u001b[1;32m----> 3\u001b[1;33m     \u001b[0mvalue\u001b[0m \u001b[1;33m=\u001b[0m \u001b[0md\u001b[0m\u001b[1;33m[\u001b[0m\u001b[1;34m'f'\u001b[0m\u001b[1;33m]\u001b[0m\u001b[1;33m\u001b[0m\u001b[1;33m\u001b[0m\u001b[0m\n\u001b[0m\u001b[0;32m      4\u001b[0m \u001b[1;32mexcept\u001b[0m \u001b[0mIndexError\u001b[0m\u001b[1;33m:\u001b[0m\u001b[1;33m\u001b[0m\u001b[1;33m\u001b[0m\u001b[0m\n\u001b[0;32m      5\u001b[0m     \u001b[0mprint\u001b[0m\u001b[1;33m(\u001b[0m\u001b[1;34m\"The index out of range\"\u001b[0m\u001b[1;33m)\u001b[0m\u001b[1;33m\u001b[0m\u001b[1;33m\u001b[0m\u001b[0m\n",
      "\u001b[1;31mKeyError\u001b[0m: 'f'"
     ]
    }
   ],
   "source": [
    "d = {'a':0, 'b':1}\n",
    "try:\n",
    "    value = d['f']\n",
    "except IndexError:\n",
    "    print(\"The index out of range\")"
   ]
  },
  {
   "cell_type": "code",
   "execution_count": 31,
   "id": "b5b767a3-7302-4fdb-923d-26e630348102",
   "metadata": {},
   "outputs": [
    {
     "name": "stdout",
     "output_type": "stream",
     "text": [
      "m\\n\\t\\p\n"
     ]
    }
   ],
   "source": [
    "s = \"m\\\\n\\\\t\\p\"\n",
    "print(s)"
   ]
  },
  {
   "cell_type": "markdown",
   "id": "632a508c-c89c-43fa-b1ff-3ec8e3da30a1",
   "metadata": {},
   "source": [
    "### File io"
   ]
  },
  {
   "cell_type": "code",
   "execution_count": 62,
   "id": "0cc93596-acb8-4a48-8a2b-b2a9da7a6a87",
   "metadata": {},
   "outputs": [],
   "source": [
    "f = open(\"./DataFolder/data.txt\")\n",
    "data = f.read()\n",
    "f.close()"
   ]
  },
  {
   "cell_type": "code",
   "execution_count": null,
   "id": "2467b3cd-a791-4553-ba60-ee711b95cdb2",
   "metadata": {},
   "outputs": [],
   "source": [
    "data"
   ]
  },
  {
   "cell_type": "code",
   "execution_count": null,
   "id": "6c1c4b3a-069e-4a04-b09a-846c23aaa316",
   "metadata": {},
   "outputs": [],
   "source": [
    "data = data.split(\"\\n\")\n",
    "data"
   ]
  },
  {
   "cell_type": "code",
   "execution_count": 47,
   "id": "78d20005-919e-482d-ae3d-249a0e542760",
   "metadata": {},
   "outputs": [
    {
     "name": "stdout",
     "output_type": "stream",
     "text": [
      "['1100', 'A']\n",
      "['1101', 'B']\n",
      "['1102', 'C']\n",
      "['1103', 'D']\n",
      "['1104', 'E']\n",
      "{'1100': 'A', '1101': 'B', '1102': 'C', '1103': 'D', '1104': 'E'}\n"
     ]
    }
   ],
   "source": [
    "data_dict = {}\n",
    "for i in range(len(data)):\n",
    "    tmp = data[i]\n",
    "    tmp = tmp.split(\" \")\n",
    "    print(tmp)\n",
    "    data_dict[tmp[0]] = tmp[1]\n",
    "print(data_dict)"
   ]
  },
  {
   "cell_type": "code",
   "execution_count": 48,
   "id": "9fb8a2de-7f6b-48b6-9135-3dfb2b0235ac",
   "metadata": {},
   "outputs": [
    {
     "data": {
      "text/plain": [
       "'E'"
      ]
     },
     "execution_count": 48,
     "metadata": {},
     "output_type": "execute_result"
    }
   ],
   "source": [
    "data_dict['1104']"
   ]
  },
  {
   "cell_type": "code",
   "execution_count": 57,
   "id": "63b28796-f979-4add-8638-fef36f6ee3eb",
   "metadata": {},
   "outputs": [
    {
     "data": {
      "text/plain": [
       "'A'"
      ]
     },
     "execution_count": 57,
     "metadata": {},
     "output_type": "execute_result"
    }
   ],
   "source": [
    "tmp = \"A\\n\"\n",
    "tmp.split(\"\\n\")[0]"
   ]
  },
  {
   "cell_type": "code",
   "execution_count": 58,
   "id": "2b845a7b-7a02-4ef7-aebc-789bb3897cf3",
   "metadata": {},
   "outputs": [],
   "source": [
    "f = open(\"./DataFolder/data.txt\")\n",
    "data_dict = {}\n",
    "for line in f:\n",
    "    tmp = line.split(\" \")\n",
    "    data_dict[tmp[0]] = tmp[1].split(\"\\n\")[0]"
   ]
  },
  {
   "cell_type": "code",
   "execution_count": 59,
   "id": "9486990e-e57a-4bc9-822c-f05f303e786b",
   "metadata": {},
   "outputs": [
    {
     "data": {
      "text/plain": [
       "{'1100': 'A', '1101': 'B', '1102': 'C', '1103': 'D', '1104': 'E'}"
      ]
     },
     "execution_count": 59,
     "metadata": {},
     "output_type": "execute_result"
    }
   ],
   "source": [
    "data_dict"
   ]
  },
  {
   "cell_type": "code",
   "execution_count": 60,
   "id": "c9961cc9-302d-4f13-9f5e-22d9d823d710",
   "metadata": {},
   "outputs": [],
   "source": [
    "f = open(\"./DataFolder/data.txt\")\n",
    "data = f.readlines()\n",
    "f.close()"
   ]
  },
  {
   "cell_type": "code",
   "execution_count": null,
   "id": "9a60a496-6a6f-47ff-ba04-4699e5b2e56e",
   "metadata": {},
   "outputs": [],
   "source": [
    "data"
   ]
  },
  {
   "cell_type": "code",
   "execution_count": null,
   "id": "f80c7c88-914d-4674-acf6-479338520d8e",
   "metadata": {},
   "outputs": [],
   "source": []
  }
 ],
 "metadata": {
  "kernelspec": {
   "display_name": "Python 3 (ipykernel)",
   "language": "python",
   "name": "python3"
  },
  "language_info": {
   "codemirror_mode": {
    "name": "ipython",
    "version": 3
   },
   "file_extension": ".py",
   "mimetype": "text/x-python",
   "name": "python",
   "nbconvert_exporter": "python",
   "pygments_lexer": "ipython3",
   "version": "3.9.7"
  }
 },
 "nbformat": 4,
 "nbformat_minor": 5
}
