{
 "cells": [
  {
   "cell_type": "markdown",
   "id": "fdb73635-072d-4792-8582-a514d33f1e70",
   "metadata": {},
   "source": [
    "### Lists, Tuples, Dictionaries"
   ]
  },
  {
   "cell_type": "code",
   "execution_count": 2,
   "id": "d4a51660-e12a-4fcd-b2ec-0ed2e7ce996b",
   "metadata": {},
   "outputs": [
    {
     "name": "stdout",
     "output_type": "stream",
     "text": [
      "[1, 2, 3, 4, 5, 6, 7, 8, 9]\n"
     ]
    }
   ],
   "source": [
    "test_list = [1, 2, 3, 4, 5,6, 7, 8, 9]\n",
    "print(test_list)"
   ]
  },
  {
   "cell_type": "code",
   "execution_count": 3,
   "id": "38a4259c-1dc3-4d20-a455-f22e0c33671e",
   "metadata": {},
   "outputs": [
    {
     "name": "stdout",
     "output_type": "stream",
     "text": [
      "['erer', 'sdfv', 'sjdsds']\n"
     ]
    }
   ],
   "source": [
    "test_list = [\"erer\", \"sdfv\", \"sjdsds\"]\n",
    "print(test_list)"
   ]
  },
  {
   "cell_type": "code",
   "execution_count": 4,
   "id": "ceff8128-2750-4acb-9c04-fb0f3b92d502",
   "metadata": {},
   "outputs": [
    {
     "name": "stdout",
     "output_type": "stream",
     "text": [
      "[43, 'jjv', 'jhvjcnv', 656, 43543.434]\n"
     ]
    }
   ],
   "source": [
    "test_list = [43, \"jjv\", \"jhvjcnv\", 656, 43543.434]\n",
    "print(test_list)"
   ]
  },
  {
   "cell_type": "code",
   "execution_count": 9,
   "id": "d74d4e71-a281-493b-acc8-291b92ec5caf",
   "metadata": {},
   "outputs": [
    {
     "ename": "IndexError",
     "evalue": "list index out of range",
     "output_type": "error",
     "traceback": [
      "\u001b[1;31m---------------------------------------------------------------------------\u001b[0m",
      "\u001b[1;31mIndexError\u001b[0m                                Traceback (most recent call last)",
      "\u001b[1;32m<ipython-input-9-116e5c0b62b0>\u001b[0m in \u001b[0;36m<module>\u001b[1;34m\u001b[0m\n\u001b[1;32m----> 1\u001b[1;33m \u001b[0mtest_list\u001b[0m\u001b[1;33m[\u001b[0m\u001b[1;36m5\u001b[0m\u001b[1;33m]\u001b[0m\u001b[1;33m\u001b[0m\u001b[1;33m\u001b[0m\u001b[0m\n\u001b[0m",
      "\u001b[1;31mIndexError\u001b[0m: list index out of range"
     ]
    }
   ],
   "source": [
    "test_list[5]"
   ]
  },
  {
   "cell_type": "code",
   "execution_count": 5,
   "id": "141d4264-85b4-4bf9-a010-a3e07d41dd8e",
   "metadata": {},
   "outputs": [
    {
     "data": {
      "text/plain": [
       "5"
      ]
     },
     "execution_count": 5,
     "metadata": {},
     "output_type": "execute_result"
    }
   ],
   "source": [
    "len(test_list)"
   ]
  },
  {
   "cell_type": "code",
   "execution_count": 13,
   "id": "59b4a88f-dd05-4b4d-b660-5c511a87df49",
   "metadata": {},
   "outputs": [],
   "source": [
    "test = list((1,2,4,4,4,2,1))\n",
    "t = set(test)"
   ]
  },
  {
   "cell_type": "code",
   "execution_count": 14,
   "id": "8cef9364-245c-484b-a009-5ef1eb9406ab",
   "metadata": {},
   "outputs": [
    {
     "name": "stdout",
     "output_type": "stream",
     "text": [
      "{1, 2, 4}\n"
     ]
    }
   ],
   "source": [
    "print(t)"
   ]
  },
  {
   "cell_type": "code",
   "execution_count": 12,
   "id": "f72cd057-dd41-4690-a8ab-bb167c7d2b99",
   "metadata": {},
   "outputs": [],
   "source": [
    "# Nested Lists\n",
    "test = [34, 4545, [545, 343, 3434,4 ], 54, 343, [\"44\", \"sdfsdf\", \"fsf\"]]"
   ]
  },
  {
   "cell_type": "code",
   "execution_count": 17,
   "id": "e1a18a0f-ae80-483a-acdb-8652e4914d36",
   "metadata": {},
   "outputs": [
    {
     "name": "stdout",
     "output_type": "stream",
     "text": [
      "[[345, 345, 345, 345, 45], [3543, 345, 345, 54, 234, 45]]\n"
     ]
    }
   ],
   "source": [
    "t1 = [345,345 , 345, 345, 45]\n",
    "t2 = [3543, 345, 345, 54, 234, 45]\n",
    "t3 = [t1, t2]\n",
    "print(t3)"
   ]
  },
  {
   "cell_type": "code",
   "execution_count": 22,
   "id": "642bb970-676a-495d-9d2c-174d4140dc1c",
   "metadata": {},
   "outputs": [
    {
     "name": "stdout",
     "output_type": "stream",
     "text": [
      "[345, 345, 345, 345, 45, 3543, 345, 345, 54, 234, 45]\n"
     ]
    }
   ],
   "source": [
    "t3 = t1 + t2\n",
    "print(t3)"
   ]
  },
  {
   "cell_type": "code",
   "execution_count": 23,
   "id": "5e8567c7-e421-40b9-a117-729f9e0e7233",
   "metadata": {},
   "outputs": [
    {
     "data": {
      "text/plain": [
       "[345, 345, 345, 345, 99, 45, 3543, 345, 345, 54, 234, 45]"
      ]
     },
     "execution_count": 23,
     "metadata": {},
     "output_type": "execute_result"
    }
   ],
   "source": [
    "t3.insert(4, 99)\n",
    "t3"
   ]
  },
  {
   "cell_type": "code",
   "execution_count": 25,
   "id": "25a87c40-2611-476b-9397-4d7775e39c15",
   "metadata": {},
   "outputs": [
    {
     "data": {
      "text/plain": [
       "[345, 345, 345, 345, 99, 45, 3543, 345, 345, 54, 234, 45, 88]"
      ]
     },
     "execution_count": 25,
     "metadata": {},
     "output_type": "execute_result"
    }
   ],
   "source": [
    "t3.append(88)\n",
    "t3"
   ]
  },
  {
   "cell_type": "code",
   "execution_count": 26,
   "id": "8ce59d33-3ab8-4b27-bb86-2b16e047b72b",
   "metadata": {},
   "outputs": [
    {
     "data": {
      "text/plain": [
       "[345, 345, 345, 345, 99, 45, 3543, 345, 345, 54, 234, 45, 88, 100, 101, 102]"
      ]
     },
     "execution_count": 26,
     "metadata": {},
     "output_type": "execute_result"
    }
   ],
   "source": [
    "t3.extend([100, 101, 102])\n",
    "t3"
   ]
  },
  {
   "cell_type": "code",
   "execution_count": 33,
   "id": "457fd616-0d01-435d-998d-f25890e25d3c",
   "metadata": {},
   "outputs": [
    {
     "name": "stdout",
     "output_type": "stream",
     "text": [
      "[3543, 345, 345, 345, 345, 345, 345, 234, 102, 101, 100, 99, 88, 54, 45, 45]\n"
     ]
    }
   ],
   "source": [
    "# sort is performed in-place, can't be assined to another variable\n",
    "sorted_t3 = t3\n",
    "sorted_t3.sort(reverse = True)\n",
    "print(sorted_t3)"
   ]
  },
  {
   "cell_type": "code",
   "execution_count": 34,
   "id": "412bf1c6-da6b-40e2-9ce5-8fd2c3130ed5",
   "metadata": {},
   "outputs": [
    {
     "data": {
      "text/plain": [
       "\u001b[1;31mSignature:\u001b[0m \u001b[0mt3\u001b[0m\u001b[1;33m.\u001b[0m\u001b[0msort\u001b[0m\u001b[1;33m(\u001b[0m\u001b[1;33m*\u001b[0m\u001b[1;33m,\u001b[0m \u001b[0mkey\u001b[0m\u001b[1;33m=\u001b[0m\u001b[1;32mNone\u001b[0m\u001b[1;33m,\u001b[0m \u001b[0mreverse\u001b[0m\u001b[1;33m=\u001b[0m\u001b[1;32mFalse\u001b[0m\u001b[1;33m)\u001b[0m\u001b[1;33m\u001b[0m\u001b[1;33m\u001b[0m\u001b[0m\n",
       "\u001b[1;31mDocstring:\u001b[0m\n",
       "Sort the list in ascending order and return None.\n",
       "\n",
       "The sort is in-place (i.e. the list itself is modified) and stable (i.e. the\n",
       "order of two equal elements is maintained).\n",
       "\n",
       "If a key function is given, apply it once to each list item and sort them,\n",
       "ascending or descending, according to their function values.\n",
       "\n",
       "The reverse flag can be set to sort in descending order.\n",
       "\u001b[1;31mType:\u001b[0m      builtin_function_or_method\n"
      ]
     },
     "metadata": {},
     "output_type": "display_data"
    }
   ],
   "source": [
    "t3.sort?"
   ]
  },
  {
   "cell_type": "code",
   "execution_count": 41,
   "id": "10e32157-68fe-4c2a-b946-18bc8b4a85a2",
   "metadata": {},
   "outputs": [
    {
     "name": "stdout",
     "output_type": "stream",
     "text": [
      "[10000, 345, 345, 345, 345]\n"
     ]
    }
   ],
   "source": [
    "t3[0] = 10000\n",
    "print(t3[:5])"
   ]
  },
  {
   "cell_type": "code",
   "execution_count": null,
   "id": "4422caf3-b9aa-4a8f-9292-082379c81158",
   "metadata": {},
   "outputs": [],
   "source": [
    "coordinates = [[3, 2], [1, 4], [5, 6], [7, 8], [1, 4]]\n",
    "'''\n",
    "3 2\n",
    "1 4\n",
    "5 6\n",
    "7 8\n",
    "1 4\n",
    "'''"
   ]
  },
  {
   "cell_type": "code",
   "execution_count": null,
   "id": "93e81049-b9ee-4939-96b3-f6690c42281b",
   "metadata": {},
   "outputs": [],
   "source": [
    "# Tuple\n",
    "# immutable list"
   ]
  },
  {
   "cell_type": "code",
   "execution_count": 37,
   "id": "56cf1717-618a-490e-8daf-3a1de219f667",
   "metadata": {},
   "outputs": [
    {
     "name": "stdout",
     "output_type": "stream",
     "text": [
      "(1, 2, 3, 5)\n"
     ]
    }
   ],
   "source": [
    "test_tuple = (1, 2, 3, 5)\n",
    "print(test_tuple)"
   ]
  },
  {
   "cell_type": "code",
   "execution_count": 42,
   "id": "ce4f741d-8b35-4bbc-9f31-c95103206059",
   "metadata": {},
   "outputs": [
    {
     "name": "stdout",
     "output_type": "stream",
     "text": [
      "(0, 2, 3, 5)\n"
     ]
    }
   ],
   "source": [
    "test_tuple = (0, 2, 3, 5)\n",
    "print(test_tuple)"
   ]
  },
  {
   "cell_type": "code",
   "execution_count": null,
   "id": "fe32d656-83a5-4968-8ae4-29ebc8757671",
   "metadata": {},
   "outputs": [],
   "source": [
    "# list to tuple\n",
    "# tuple to list"
   ]
  },
  {
   "cell_type": "code",
   "execution_count": 44,
   "id": "012dd89f-145f-4bd2-aa93-b8dae9fadc38",
   "metadata": {},
   "outputs": [
    {
     "name": "stdout",
     "output_type": "stream",
     "text": [
      "(10000, 345, 345, 345, 345, 345, 345, 234, 102, 101, 100, 99, 88, 54, 45, 45)\n",
      "[10000, 345, 345, 345, 345, 345, 345, 234, 102, 101, 100, 99, 88, 54, 45, 45]\n"
     ]
    }
   ],
   "source": [
    "t3_tuple = tuple(t3)\n",
    "print(t3_tuple)\n",
    "t3_list = list(t3_tuple)\n",
    "print(t3_list)"
   ]
  },
  {
   "cell_type": "code",
   "execution_count": 45,
   "id": "df669da2-8475-4a15-981a-85a4d2140a76",
   "metadata": {},
   "outputs": [
    {
     "data": {
      "text/plain": [
       "[0, 2, 3, 5]"
      ]
     },
     "execution_count": 45,
     "metadata": {},
     "output_type": "execute_result"
    }
   ],
   "source": [
    "list(test_tuple)"
   ]
  },
  {
   "cell_type": "code",
   "execution_count": null,
   "id": "cbb22e5b-e687-47d3-a024-2f28f59020ca",
   "metadata": {},
   "outputs": [],
   "source": [
    "# Dictionaries\n",
    "# key:value pair\n",
    "# {}"
   ]
  },
  {
   "cell_type": "code",
   "execution_count": 48,
   "id": "f625e79d-3460-452c-b6db-fb334e81ab39",
   "metadata": {},
   "outputs": [
    {
     "name": "stdout",
     "output_type": "stream",
     "text": [
      "{1200012: 'Akash', 1200013: 'Anu', 1204535: 'XYZ'}\n"
     ]
    }
   ],
   "source": [
    "studentnames = {}\n",
    "studentnames[1200012] = \"Akash\"\n",
    "studentnames[1200013] = \"Anu\"\n",
    "studentnames[1204535] = \"XYZ\"\n",
    "print(studentnames)"
   ]
  },
  {
   "cell_type": "code",
   "execution_count": 52,
   "id": "2c3d7c9c-e7d8-4d5c-867a-aa52bffc1b50",
   "metadata": {},
   "outputs": [
    {
     "name": "stdout",
     "output_type": "stream",
     "text": [
      "{1200012: 10, 1200013: 9, 1204535: 8}\n"
     ]
    }
   ],
   "source": [
    "studentgrades = {}\n",
    "studentgrades[1200012] = 10\n",
    "studentgrades[1200013] = 9\n",
    "studentgrades[1204535] = 8\n",
    "print(studentgrades)"
   ]
  },
  {
   "cell_type": "code",
   "execution_count": 55,
   "id": "2280bf83-03af-4627-994d-399c91a37350",
   "metadata": {},
   "outputs": [
    {
     "name": "stdout",
     "output_type": "stream",
     "text": [
      "{1200012: {'name': 'Akash', 'degree': 'Btech', 'cgpa': 9, 'city': 'Delhi'}, 1200013: {'name': 'Anu', 'degree': 'Btech', 'cgpa': 10, 'city': 'Chandigarh'}}\n"
     ]
    }
   ],
   "source": [
    "student_info = {}\n",
    "student_info[1200012] = {\"name\": \"Akash\", \"degree\": \"Btech\", \"cgpa\": 9, \"city\": \"Delhi\"}\n",
    "student_info[1200013] = {\"name\": \"Anu\", \"degree\": \"Btech\", \"cgpa\": 10, \"city\": \"Chandigarh\"}\n",
    "print(student_info)"
   ]
  },
  {
   "cell_type": "code",
   "execution_count": 59,
   "id": "a033ae7a-a493-49c9-a6cc-230baf693a6e",
   "metadata": {},
   "outputs": [
    {
     "name": "stdout",
     "output_type": "stream",
     "text": [
      "{1200012: {'name': 'Akash', 'degree': 'Btech', 'cgpa': 9, 'address': {'state': 'Delhi', 'city': 'Delhi'}}, 1200013: {'name': 'Anu', 'degree': 'Btech', 'cgpa': 10, 'address': {'state': 'Punjab', 'city': 'Chandigarh'}}}\n"
     ]
    }
   ],
   "source": [
    "student_info = {}\n",
    "student_info[1200012] = {\"name\": \"Akash\", \"degree\": \"Btech\", \"cgpa\": 9}\n",
    "student_info[1200012][\"address\"] = {\"state\":\"Delhi\", \"city\": \"Delhi\"}\n",
    "student_info[1200013] = {\"name\": \"Anu\", \"degree\": \"Btech\", \"cgpa\": 10}\n",
    "student_info[1200013][\"address\"] = {\"state\":\"Punjab\", \"city\": \"Chandigarh\"}\n",
    "print(student_info)"
   ]
  },
  {
   "cell_type": "code",
   "execution_count": 63,
   "id": "7688e739-0af9-48c0-8361-f5c758525071",
   "metadata": {},
   "outputs": [
    {
     "data": {
      "text/plain": [
       "'Anu'"
      ]
     },
     "execution_count": 63,
     "metadata": {},
     "output_type": "execute_result"
    }
   ],
   "source": [
    "student_info[1200013][\"name\"]"
   ]
  },
  {
   "cell_type": "code",
   "execution_count": 69,
   "id": "483702b7-8e85-4723-8423-b912c3a2c021",
   "metadata": {},
   "outputs": [
    {
     "data": {
      "text/plain": [
       "True"
      ]
     },
     "execution_count": 69,
     "metadata": {},
     "output_type": "execute_result"
    }
   ],
   "source": [
    "1200013 in student_info"
   ]
  },
  {
   "cell_type": "code",
   "execution_count": 70,
   "id": "1ce533c6-ac6b-49dc-9d13-96ed734fd316",
   "metadata": {},
   "outputs": [
    {
     "data": {
      "text/plain": [
       "False"
      ]
     },
     "execution_count": 70,
     "metadata": {},
     "output_type": "execute_result"
    }
   ],
   "source": [
    "student_info[1200016] = {\"name\":}"
   ]
  },
  {
   "cell_type": "code",
   "execution_count": null,
   "id": "88240601-f6d6-43fe-8cab-f2459ad7f955",
   "metadata": {},
   "outputs": [],
   "source": [
    "# Conditional IF ELSE statements"
   ]
  },
  {
   "cell_type": "code",
   "execution_count": 74,
   "id": "e3059556-780f-49a7-b28a-dd207199599f",
   "metadata": {},
   "outputs": [
    {
     "name": "stdout",
     "output_type": "stream",
     "text": [
      "Y\n",
      "Yes outside If\n"
     ]
    }
   ],
   "source": [
    "if 2 > 3:\n",
    "    print(\"Yes1\")\n",
    "    print(\"Yes2\")\n",
    "elif 4 < 3:\n",
    "    print(\"4<3\")\n",
    "elif 7>5:\n",
    "    print(\"Y\")\n",
    "else:\n",
    "    print(\"otherwise\")\n",
    "print(\"Yes outside If\")"
   ]
  },
  {
   "cell_type": "code",
   "execution_count": 79,
   "id": "cf3fd2f0-cc09-4493-acfa-6c66493a76ca",
   "metadata": {},
   "outputs": [
    {
     "data": {
      "text/plain": [
       "True"
      ]
     },
     "execution_count": 79,
     "metadata": {},
     "output_type": "execute_result"
    }
   ],
   "source": [
    "v1 = 3\n",
    "v2 = 4\n",
    "v1 != v2"
   ]
  },
  {
   "cell_type": "code",
   "execution_count": 83,
   "id": "6e930857-aaef-4de1-a668-d43d9b38f2c8",
   "metadata": {},
   "outputs": [
    {
     "data": {
      "text/plain": [
       "False"
      ]
     },
     "execution_count": 83,
     "metadata": {},
     "output_type": "execute_result"
    }
   ],
   "source": [
    "s1 = \"qwerty\"\n",
    "s2 = \"fsdfsdfg\"\n",
    "s1 == s2"
   ]
  },
  {
   "cell_type": "code",
   "execution_count": 16,
   "id": "ca092b64-fb2f-46f8-bc93-2954dcb4cb58",
   "metadata": {},
   "outputs": [
    {
     "data": {
      "text/plain": [
       "False"
      ]
     },
     "execution_count": 16,
     "metadata": {},
     "output_type": "execute_result"
    }
   ],
   "source": [
    "l1 = [1, 2, 3, 4, 5]\n",
    "7 in l1"
   ]
  },
  {
   "cell_type": "code",
   "execution_count": 87,
   "id": "2afdeaef-cc97-4064-93fe-3880261e9bf7",
   "metadata": {},
   "outputs": [
    {
     "name": "stdout",
     "output_type": "stream",
     "text": [
      "No\n"
     ]
    }
   ],
   "source": [
    "if not 4 in l1:\n",
    "    print(\"Yes\")\n",
    "else:\n",
    "    print(\"No\")"
   ]
  },
  {
   "cell_type": "code",
   "execution_count": 19,
   "id": "ab890e02-1ae1-44a1-830f-7b532ea29a90",
   "metadata": {},
   "outputs": [],
   "source": [
    "if 4 in l1 and 6 in l1:\n",
    "    print(\"Yes both\")"
   ]
  },
  {
   "cell_type": "code",
   "execution_count": 98,
   "id": "1e0e6990-ca06-43f5-bdf6-2a9ae78afb41",
   "metadata": {},
   "outputs": [
    {
     "name": "stdout",
     "output_type": "stream",
     "text": [
      "B\n"
     ]
    }
   ],
   "source": [
    "# >=8: A\n",
    "# 6-7: B\n",
    "# <6: C\n",
    "grade = 6.5\n",
    "if grade>=8:\n",
    "    print(\"A\")\n",
    "elif grade>=6:\n",
    "    print(\"B\")\n",
    "else:\n",
    "    print(\"C\")"
   ]
  }
 ],
 "metadata": {
  "kernelspec": {
   "display_name": "Python 3 (ipykernel)",
   "language": "python",
   "name": "python3"
  },
  "language_info": {
   "codemirror_mode": {
    "name": "ipython",
    "version": 3
   },
   "file_extension": ".py",
   "mimetype": "text/x-python",
   "name": "python",
   "nbconvert_exporter": "python",
   "pygments_lexer": "ipython3",
   "version": "3.9.7"
  }
 },
 "nbformat": 4,
 "nbformat_minor": 5
}
