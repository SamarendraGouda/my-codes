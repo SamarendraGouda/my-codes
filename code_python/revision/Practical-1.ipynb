{
 "cells": [
  {
   "cell_type": "code",
   "execution_count": 45,
   "id": "9bcf10f9-5683-4079-bad8-bf65d73b2821",
   "metadata": {},
   "outputs": [
    {
     "name": "stdout",
     "output_type": "stream",
     "text": [
      "[353, 265, 25, 381, 104, 226, 223, 227, 99, 397, 225, 363, 333, 299, 139, 415, 5, 490, 239, 249, 37, 266, 159, 273, 364, 341, 333, 462, 45, 299, 347, 406, 226, 316, 72, 31, 453, 450, 239, 384, 318, 157, 400, 45, 251, 467, 393, 96, 489, 7]\n"
     ]
    }
   ],
   "source": [
    "import random\n",
    "l = [random.randrange(1, 500, 1) for i in range(50)]\n",
    "print(l)"
   ]
  },
  {
   "cell_type": "markdown",
   "id": "e457e744-ec2f-4aa5-a035-a107de4e90d9",
   "metadata": {},
   "source": [
    "### 1. Find two largest and two smallest numbers in list"
   ]
  },
  {
   "cell_type": "markdown",
   "id": "718ccd5c-f8d9-4f57-9fea-fafb0e7fbe04",
   "metadata": {},
   "source": [
    "### 2. Find all the prime numbers between 1 and 200"
   ]
  },
  {
   "cell_type": "markdown",
   "id": "780c7f7a-e71b-47ef-bb7d-4c6e5ce41c90",
   "metadata": {},
   "source": [
    "### 3. Reverse words in a string"
   ]
  },
  {
   "cell_type": "code",
   "execution_count": 51,
   "id": "00ca9ad9-d222-49ca-ba07-28eb074138a7",
   "metadata": {},
   "outputs": [],
   "source": [
    "# example:\n",
    "s = \"reverse words in a string\"\n",
    "s_reversed = \"string a in words reverse\""
   ]
  },
  {
   "cell_type": "code",
   "execution_count": 73,
   "id": "22700e78-6fbf-4605-9e9e-3ff2ca6c0d53",
   "metadata": {},
   "outputs": [
    {
     "name": "stdout",
     "output_type": "stream",
     "text": [
      "string a in words reverse\n"
     ]
    }
   ],
   "source": [
    "s_split = s.split(\" \")\n",
    "s_r = \"\"\n",
    "for i in reversed(s_split):\n",
    "    s_r = s_r + \" \" + i\n",
    "print(s_r.strip())"
   ]
  }
 ],
 "metadata": {
  "kernelspec": {
   "display_name": "Python 3",
   "language": "python",
   "name": "python3"
  },
  "language_info": {
   "codemirror_mode": {
    "name": "ipython",
    "version": 3
   },
   "file_extension": ".py",
   "mimetype": "text/x-python",
   "name": "python",
   "nbconvert_exporter": "python",
   "pygments_lexer": "ipython3",
   "version": "3.8.8"
  }
 },
 "nbformat": 4,
 "nbformat_minor": 5
}
