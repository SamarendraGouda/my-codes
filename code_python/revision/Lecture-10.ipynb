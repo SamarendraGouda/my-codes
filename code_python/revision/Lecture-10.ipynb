{
 "cells": [
  {
   "cell_type": "code",
   "execution_count": 1,
   "id": "456ea3a2-69aa-4995-864d-0190eb0f10b1",
   "metadata": {},
   "outputs": [],
   "source": [
    "import os"
   ]
  },
  {
   "cell_type": "code",
   "execution_count": 4,
   "id": "612c8020-4556-470d-a3b1-90aa81e4c994",
   "metadata": {},
   "outputs": [
    {
     "data": {
      "text/plain": [
       "'nt'"
      ]
     },
     "execution_count": 4,
     "metadata": {},
     "output_type": "execute_result"
    }
   ],
   "source": [
    "os.name"
   ]
  },
  {
   "cell_type": "code",
   "execution_count": 6,
   "id": "f189e008-125c-473b-a1d0-5310fce97752",
   "metadata": {},
   "outputs": [
    {
     "data": {
      "text/plain": [
       "environ{'ALLUSERSPROFILE': 'C:\\\\ProgramData',\n",
       "        'APPDATA': 'C:\\\\Users\\\\JitinSingla\\\\AppData\\\\Roaming',\n",
       "        'COMMONPROGRAMFILES': 'C:\\\\Program Files\\\\Common Files',\n",
       "        'COMMONPROGRAMFILES(X86)': 'C:\\\\Program Files (x86)\\\\Common Files',\n",
       "        'COMMONPROGRAMW6432': 'C:\\\\Program Files\\\\Common Files',\n",
       "        'COMPUTERNAME': 'JITIN-HP',\n",
       "        'COMSPEC': 'C:\\\\WINDOWS\\\\system32\\\\cmd.exe',\n",
       "        'CONDA_DEFAULT_ENV': 'base',\n",
       "        'CONDA_EXE': 'C:\\\\Users\\\\JitinSingla\\\\anaconda3\\\\Scripts\\\\conda.exe',\n",
       "        'CONDA_PROMPT_MODIFIER': '(base) ',\n",
       "        'CONDA_PYTHON_EXE': 'C:\\\\Users\\\\JitinSingla\\\\anaconda3\\\\python.exe',\n",
       "        'CONDA_SHLVL': '1',\n",
       "        'DRIVERDATA': 'C:\\\\Windows\\\\System32\\\\Drivers\\\\DriverData',\n",
       "        'HOME': 'C:\\\\Users\\\\Dr. Jitin Singla',\n",
       "        'HOMEDRIVE': 'C:',\n",
       "        'HOMEPATH': '\\\\Users\\\\JitinSingla',\n",
       "        'IMOD_CALIB_DIR': 'C:\\\\ProgramData\\\\IMOD',\n",
       "        'IMOD_DIR': 'C:\\\\Program Files\\\\IMOD',\n",
       "        'IMOD_PLUGIN_DIR': 'C:\\\\Program Files\\\\IMOD\\\\lib\\\\imodplug',\n",
       "        'LOCALAPPDATA': 'C:\\\\Users\\\\JitinSingla\\\\AppData\\\\Local',\n",
       "        'LOGONSERVER': '\\\\\\\\JITIN-HP',\n",
       "        'NUMBER_OF_PROCESSORS': '8',\n",
       "        'ONEDRIVE': 'C:\\\\Users\\\\JitinSingla\\\\OneDrive - iitr.ac.in',\n",
       "        'ONEDRIVECOMMERCIAL': 'C:\\\\Users\\\\JitinSingla\\\\OneDrive - iitr.ac.in',\n",
       "        'ONLINESERVICES': 'Online Services',\n",
       "        'OS': 'Windows_NT',\n",
       "        'PATH': 'C:\\\\Users\\\\JitinSingla\\\\anaconda3;C:\\\\Users\\\\JitinSingla\\\\anaconda3\\\\Library\\\\mingw-w64\\\\bin;C:\\\\Users\\\\JitinSingla\\\\anaconda3\\\\Library\\\\usr\\\\bin;C:\\\\Users\\\\JitinSingla\\\\anaconda3\\\\Library\\\\bin;C:\\\\Users\\\\JitinSingla\\\\anaconda3\\\\Scripts;C:\\\\Users\\\\JitinSingla\\\\anaconda3\\\\bin;C:\\\\Users\\\\JitinSingla\\\\anaconda3\\\\condabin;C:\\\\Users\\\\JitinSingla\\\\anaconda3;C:\\\\Users\\\\JitinSingla\\\\anaconda3\\\\Library\\\\mingw-w64\\\\bin;C:\\\\Users\\\\JitinSingla\\\\anaconda3\\\\Library\\\\usr\\\\bin;C:\\\\Users\\\\JitinSingla\\\\anaconda3\\\\Library\\\\bin;C:\\\\Users\\\\JitinSingla\\\\anaconda3\\\\Scripts;C:\\\\Users\\\\JitinSingla\\\\anaconda3;C:\\\\Program Files\\\\IMOD\\\\bin;C:\\\\WINDOWS\\\\system32;C:\\\\WINDOWS;C:\\\\WINDOWS\\\\System32\\\\Wbem;C:\\\\WINDOWS\\\\System32\\\\WindowsPowerShell\\\\v1.0;C:\\\\WINDOWS\\\\System32\\\\OpenSSH;C:\\\\Program Files\\\\PuTTY;C:\\\\Users\\\\JitinSingla\\\\AppData\\\\Local\\\\Microsoft\\\\WindowsApps;C:\\\\Users\\\\JitinSingla\\\\AppData\\\\Local\\\\Programs\\\\DERIVA Client Tools',\n",
       "        'PATHEXT': '.COM;.EXE;.BAT;.CMD;.VBS;.VBE;.JS;.JSE;.WSF;.WSH;.MSC',\n",
       "        'PLATFORMCODE': 'KV',\n",
       "        'PROCESSOR_ARCHITECTURE': 'AMD64',\n",
       "        'PROCESSOR_IDENTIFIER': 'Intel64 Family 6 Model 140 Stepping 1, GenuineIntel',\n",
       "        'PROCESSOR_LEVEL': '6',\n",
       "        'PROCESSOR_REVISION': '8c01',\n",
       "        'PROGRAMDATA': 'C:\\\\ProgramData',\n",
       "        'PROGRAMFILES': 'C:\\\\Program Files',\n",
       "        'PROGRAMFILES(X86)': 'C:\\\\Program Files (x86)',\n",
       "        'PROGRAMW6432': 'C:\\\\Program Files',\n",
       "        'PROMPT': '(base) $P$G',\n",
       "        'PSMODULEPATH': 'C:\\\\Program Files\\\\WindowsPowerShell\\\\Modules;C:\\\\WINDOWS\\\\system32\\\\WindowsPowerShell\\\\v1.0\\\\Modules',\n",
       "        'PUBLIC': 'C:\\\\Users\\\\Public',\n",
       "        'REGIONCODE': 'APJ',\n",
       "        'SESSIONNAME': 'Console',\n",
       "        'SYSTEMDRIVE': 'C:',\n",
       "        'SYSTEMROOT': 'C:\\\\WINDOWS',\n",
       "        'TEMP': 'C:\\\\Users\\\\JITINS~1\\\\AppData\\\\Local\\\\Temp',\n",
       "        'TMP': 'C:\\\\Users\\\\JITINS~1\\\\AppData\\\\Local\\\\Temp',\n",
       "        'USERDOMAIN': 'JITIN-HP',\n",
       "        'USERDOMAIN_ROAMINGPROFILE': 'JITIN-HP',\n",
       "        'USERNAME': 'Dr. Jitin Singla',\n",
       "        'USERPROFILE': 'C:\\\\Users\\\\JitinSingla',\n",
       "        'VBOX_MSI_INSTALL_PATH': 'C:\\\\Program Files\\\\Oracle\\\\VirtualBox\\\\',\n",
       "        'WINDIR': 'C:\\\\WINDOWS',\n",
       "        'ZES_ENABLE_SYSMAN': '1',\n",
       "        'CONDA_PREFIX': 'C:\\\\Users\\\\JitinSingla\\\\anaconda3',\n",
       "        'CONDA_ROOT': 'C:\\\\Users\\\\JitinSingla\\\\anaconda3',\n",
       "        'JPY_INTERRUPT_EVENT': '3768',\n",
       "        'IPY_INTERRUPT_EVENT': '3768',\n",
       "        'JPY_PARENT_PID': '3844',\n",
       "        'TERM': 'xterm-color',\n",
       "        'CLICOLOR': '1',\n",
       "        'PAGER': 'cat',\n",
       "        'GIT_PAGER': 'cat',\n",
       "        'MPLBACKEND': 'module://ipykernel.pylab.backend_inline'}"
      ]
     },
     "execution_count": 6,
     "metadata": {},
     "output_type": "execute_result"
    }
   ],
   "source": [
    "os.environ"
   ]
  },
  {
   "cell_type": "code",
   "execution_count": 7,
   "id": "bf0cba2c-914e-45da-918d-81806482cc21",
   "metadata": {},
   "outputs": [
    {
     "data": {
      "text/plain": [
       "'C:\\\\Users\\\\JitinSingla\\\\Dropbox\\\\IITR\\\\Teaching\\\\Autumn_2021_22\\\\BE-103\\\\Notebooks'"
      ]
     },
     "execution_count": 7,
     "metadata": {},
     "output_type": "execute_result"
    }
   ],
   "source": [
    "os.getcwd()"
   ]
  },
  {
   "cell_type": "code",
   "execution_count": 9,
   "id": "acd16f81-437b-4826-af56-2861e1f723c7",
   "metadata": {},
   "outputs": [],
   "source": [
    "os.chdir('C:\\\\Users\\\\JitinSingla\\\\Dropbox\\\\IITR\\\\Teaching\\\\Autumn_2021_22\\\\BE-103')"
   ]
  },
  {
   "cell_type": "code",
   "execution_count": 10,
   "id": "584364ae-5905-49ee-b31f-f5959a261ebc",
   "metadata": {},
   "outputs": [
    {
     "data": {
      "text/plain": [
       "'C:\\\\Users\\\\JitinSingla\\\\Dropbox\\\\IITR\\\\Teaching\\\\Autumn_2021_22\\\\BE-103'"
      ]
     },
     "execution_count": 10,
     "metadata": {},
     "output_type": "execute_result"
    }
   ],
   "source": [
    "os.getcwd()"
   ]
  },
  {
   "cell_type": "code",
   "execution_count": 11,
   "id": "24ed9f2d-1d42-43c5-ae5f-119185d7e8e2",
   "metadata": {},
   "outputs": [],
   "source": [
    "os.chdir('C:\\\\Users\\\\JitinSingla\\\\Dropbox\\\\IITR\\\\Teaching\\\\Autumn_2021_22\\\\BE-103\\\\Notebooks')"
   ]
  },
  {
   "cell_type": "code",
   "execution_count": 12,
   "id": "4862d30f-ad4b-41ec-8be4-7e364a2f2718",
   "metadata": {},
   "outputs": [],
   "source": [
    "os.mkdir(\"Test\")"
   ]
  },
  {
   "cell_type": "code",
   "execution_count": 15,
   "id": "cb27ef2b-77ef-4127-9bce-9af716cbc166",
   "metadata": {},
   "outputs": [],
   "source": [
    "os.rmdir(\"Test\")"
   ]
  },
  {
   "cell_type": "code",
   "execution_count": 19,
   "id": "cae49125-f1ea-43bb-92af-549de3a72fa4",
   "metadata": {},
   "outputs": [],
   "source": [
    "os.startfile(\"test.txt\")"
   ]
  },
  {
   "cell_type": "code",
   "execution_count": 33,
   "id": "173846bf-4503-4873-b2df-e67aa1524a02",
   "metadata": {},
   "outputs": [
    {
     "name": "stdout",
     "output_type": "stream",
     "text": [
      "['.ipynb_checkpoints', 'DataFolder', 'Lecture-1.ipynb', 'Lecture-10.ipynb', 'Lecture-2.ipynb', 'Lecture-3.ipynb', 'Lecture-4.ipynb', 'Lecture-5-6.ipynb', 'Lecture-7.ipynb', 'Lecture-8.ipynb', 'Lecture-9.ipynb', 'Practical-1.ipynb', 'Untitled.ipynb', 'untitled.txt']\n"
     ]
    }
   ],
   "source": [
    "oslist = os.listdir()\n",
    "print(oslist)"
   ]
  },
  {
   "cell_type": "code",
   "execution_count": 34,
   "id": "53954b63-bf4c-44bf-8e93-8951fdad6122",
   "metadata": {},
   "outputs": [],
   "source": [
    "nblist = [f for f in oslist if os.path.isfile(f) and f.endswith(\".ipynb\")]"
   ]
  },
  {
   "cell_type": "code",
   "execution_count": 35,
   "id": "4c4e25ce-fc69-4123-8e9c-30ead41a205a",
   "metadata": {},
   "outputs": [
    {
     "data": {
      "text/plain": [
       "['Lecture-1.ipynb',\n",
       " 'Lecture-10.ipynb',\n",
       " 'Lecture-2.ipynb',\n",
       " 'Lecture-3.ipynb',\n",
       " 'Lecture-4.ipynb',\n",
       " 'Lecture-5-6.ipynb',\n",
       " 'Lecture-7.ipynb',\n",
       " 'Lecture-8.ipynb',\n",
       " 'Lecture-9.ipynb',\n",
       " 'Practical-1.ipynb',\n",
       " 'Untitled.ipynb']"
      ]
     },
     "execution_count": 35,
     "metadata": {},
     "output_type": "execute_result"
    }
   ],
   "source": [
    "nblist"
   ]
  },
  {
   "cell_type": "code",
   "execution_count": 46,
   "id": "76280db5-f375-4b43-b8b8-584616c0d81d",
   "metadata": {},
   "outputs": [],
   "source": [
    "myPath = \".\\DataFolder\""
   ]
  },
  {
   "cell_type": "code",
   "execution_count": 47,
   "id": "a626c189-3185-4a0f-bedc-9e186df50f60",
   "metadata": {},
   "outputs": [
    {
     "data": {
      "text/plain": [
       "['.ipynb_checkpoints', 'data.txt', 'data_output.txt']"
      ]
     },
     "execution_count": 47,
     "metadata": {},
     "output_type": "execute_result"
    }
   ],
   "source": [
    "os.listdir(myPath)"
   ]
  },
  {
   "cell_type": "code",
   "execution_count": 48,
   "id": "a1d4aed6-c909-4c76-af70-67b0cfb90412",
   "metadata": {},
   "outputs": [
    {
     "data": {
      "text/plain": [
       "'C:\\\\Users\\\\JitinSingla\\\\Dropbox\\\\IITR\\\\Teaching\\\\Autumn_2021_22\\\\BE-103\\\\Notebooks\\\\DataFolder'"
      ]
     },
     "execution_count": 48,
     "metadata": {},
     "output_type": "execute_result"
    }
   ],
   "source": [
    "os.path.abspath(myPath)"
   ]
  },
  {
   "cell_type": "code",
   "execution_count": 51,
   "id": "9a243ac8-3d93-4ee8-9cbf-770b2eaa1e1d",
   "metadata": {},
   "outputs": [
    {
     "name": "stdout",
     "output_type": "stream",
     "text": [
      ".\\DataFolder\\0.txt\n",
      ".\\DataFolder\\1.txt\n",
      ".\\DataFolder\\2.txt\n",
      ".\\DataFolder\\3.txt\n",
      ".\\DataFolder\\4.txt\n",
      ".\\DataFolder\\5.txt\n",
      ".\\DataFolder\\6.txt\n",
      ".\\DataFolder\\7.txt\n",
      ".\\DataFolder\\8.txt\n",
      ".\\DataFolder\\9.txt\n"
     ]
    }
   ],
   "source": [
    "for i in range(10):\n",
    "    filepath = os.path.join(myPath, str(i) + \".txt\")\n",
    "    print(filepath)\n",
    "    \n",
    "    output = str(i)\n",
    "    f = open(filepath, \"w\")\n",
    "    f.write(output)\n",
    "    f.close"
   ]
  },
  {
   "cell_type": "code",
   "execution_count": 55,
   "id": "df5d0c44-41ee-4c35-8140-caa1d836408d",
   "metadata": {},
   "outputs": [
    {
     "data": {
      "text/plain": [
       "'.\\\\DataFolder\\\\9.txt'"
      ]
     },
     "execution_count": 55,
     "metadata": {},
     "output_type": "execute_result"
    }
   ],
   "source": [
    "filepath"
   ]
  },
  {
   "cell_type": "code",
   "execution_count": 56,
   "id": "d7fe2cd1-9d9c-4ac8-a1a9-311b5b0efadb",
   "metadata": {},
   "outputs": [
    {
     "data": {
      "text/plain": [
       "'9.txt'"
      ]
     },
     "execution_count": 56,
     "metadata": {},
     "output_type": "execute_result"
    }
   ],
   "source": [
    "# return filename from a path\n",
    "os.path.basename(filepath)"
   ]
  },
  {
   "cell_type": "code",
   "execution_count": 57,
   "id": "f38def5a-d632-4991-83d0-266f16d208c2",
   "metadata": {},
   "outputs": [
    {
     "data": {
      "text/plain": [
       "'.\\\\DataFolder'"
      ]
     },
     "execution_count": 57,
     "metadata": {},
     "output_type": "execute_result"
    }
   ],
   "source": [
    "os.path.dirname(filepath)"
   ]
  },
  {
   "cell_type": "code",
   "execution_count": 62,
   "id": "f019898b-21b1-4422-858f-bfca0f26bff3",
   "metadata": {},
   "outputs": [
    {
     "data": {
      "text/plain": [
       "False"
      ]
     },
     "execution_count": 62,
     "metadata": {},
     "output_type": "execute_result"
    }
   ],
   "source": [
    "os.path.exists(\"./DataFolder/10.txt\")"
   ]
  },
  {
   "cell_type": "code",
   "execution_count": 63,
   "id": "b083fb84-5e77-40eb-acdc-e0672a1f5a96",
   "metadata": {},
   "outputs": [
    {
     "ename": "TypeError",
     "evalue": "walk() missing 1 required positional argument: 'top'",
     "output_type": "error",
     "traceback": [
      "\u001b[1;31m---------------------------------------------------------------------------\u001b[0m",
      "\u001b[1;31mTypeError\u001b[0m                                 Traceback (most recent call last)",
      "\u001b[1;32m<ipython-input-63-7f906606989b>\u001b[0m in \u001b[0;36m<module>\u001b[1;34m\u001b[0m\n\u001b[1;32m----> 1\u001b[1;33m \u001b[0mos\u001b[0m\u001b[1;33m.\u001b[0m\u001b[0mwalk\u001b[0m\u001b[1;33m(\u001b[0m\u001b[1;33m)\u001b[0m\u001b[1;33m\u001b[0m\u001b[1;33m\u001b[0m\u001b[0m\n\u001b[0m",
      "\u001b[1;31mTypeError\u001b[0m: walk() missing 1 required positional argument: 'top'"
     ]
    }
   ],
   "source": [
    "## iterate over a root directory and list all the files and folders\n",
    "os.walk()"
   ]
  },
  {
   "cell_type": "code",
   "execution_count": 64,
   "id": "cbab8378-36d4-4e77-94ec-35adb95a7112",
   "metadata": {},
   "outputs": [],
   "source": [
    "myPath = 'C:\\\\Users\\\\JitinSingla\\\\Dropbox\\\\IITR\\\\Teaching\\\\Autumn_2021_22\\\\BE-103'"
   ]
  },
  {
   "cell_type": "code",
   "execution_count": 65,
   "id": "b2b62c4f-2289-48aa-b7c0-fb2b5f4bfa25",
   "metadata": {},
   "outputs": [
    {
     "data": {
      "text/plain": [
       "['.ipynb_checkpoints',\n",
       " 'Notebooks',\n",
       " 'Python Teaching Notes.docx',\n",
       " 'PythonSyllabus.docx']"
      ]
     },
     "execution_count": 65,
     "metadata": {},
     "output_type": "execute_result"
    }
   ],
   "source": [
    "os.listdir(myPath)"
   ]
  },
  {
   "cell_type": "code",
   "execution_count": 76,
   "id": "f5a60acb-47ec-47e7-b0ac-86fca9c99a93",
   "metadata": {},
   "outputs": [
    {
     "name": "stdout",
     "output_type": "stream",
     "text": [
      "C:\\Users\\JitinSingla\\Dropbox\\IITR\\Teaching\\Autumn_2021_22\\BE-103 ['Notebooks'] ['Python Teaching Notes.docx', 'PythonSyllabus.docx']\n",
      "   \n",
      "   \n",
      "C:\\Users\\JitinSingla\\Dropbox\\IITR\\Teaching\\Autumn_2021_22\\BE-103\\Notebooks ['DataFolder'] ['Lecture-1.ipynb', 'Lecture-10.ipynb', 'Lecture-2.ipynb', 'Lecture-3.ipynb', 'Lecture-4.ipynb', 'Lecture-5-6.ipynb', 'Lecture-7.ipynb', 'Lecture-8.ipynb', 'Lecture-9.ipynb', 'Practical-1.ipynb', 'Untitled.ipynb', 'untitled.txt']\n",
      "   \n",
      "   \n",
      "C:\\Users\\JitinSingla\\Dropbox\\IITR\\Teaching\\Autumn_2021_22\\BE-103\\Notebooks\\DataFolder [] ['0.txt', '1.txt', '2.txt', '3.txt', '4.txt', '5.txt', '6.txt', '7.txt', '8.txt', '9.txt', 'data.txt', 'data_output.txt']\n",
      "   \n",
      "   \n"
     ]
    }
   ],
   "source": [
    "for root, dirs, files in os.walk(myPath):\n",
    "    print(root, dirs, files)\n",
    "    print(\"   \")\n",
    "    print(\"   \")"
   ]
  },
  {
   "cell_type": "code",
   "execution_count": 88,
   "id": "13a01d87-4eac-4061-a90b-7914d553845e",
   "metadata": {},
   "outputs": [],
   "source": [
    "filelist = !dir /b"
   ]
  },
  {
   "cell_type": "code",
   "execution_count": 89,
   "id": "78645ebf-d637-47c5-a388-5a085c1a1623",
   "metadata": {},
   "outputs": [
    {
     "data": {
      "text/plain": [
       "['.ipynb_checkpoints',\n",
       " 'DataFolder',\n",
       " 'Lecture-1.ipynb',\n",
       " 'Lecture-10.ipynb',\n",
       " 'Lecture-2.ipynb',\n",
       " 'Lecture-3.ipynb',\n",
       " 'Lecture-4.ipynb',\n",
       " 'Lecture-5-6.ipynb',\n",
       " 'Lecture-7.ipynb',\n",
       " 'Lecture-8.ipynb',\n",
       " 'Lecture-9.ipynb',\n",
       " 'Practical-1.ipynb',\n",
       " 'Untitled.ipynb',\n",
       " 'untitled.txt']"
      ]
     },
     "execution_count": 89,
     "metadata": {},
     "output_type": "execute_result"
    }
   ],
   "source": [
    "filelist"
   ]
  }
 ],
 "metadata": {
  "kernelspec": {
   "display_name": "Python 3 (ipykernel)",
   "language": "python",
   "name": "python3"
  },
  "language_info": {
   "codemirror_mode": {
    "name": "ipython",
    "version": 3
   },
   "file_extension": ".py",
   "mimetype": "text/x-python",
   "name": "python",
   "nbconvert_exporter": "python",
   "pygments_lexer": "ipython3",
   "version": "3.9.7"
  }
 },
 "nbformat": 4,
 "nbformat_minor": 5
}
