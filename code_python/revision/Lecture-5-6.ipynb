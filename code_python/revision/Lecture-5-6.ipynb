{
 "cells": [
  {
   "cell_type": "code",
   "execution_count": null,
   "id": "843b1845-e26f-4499-b796-f4a8d7d63ca6",
   "metadata": {},
   "outputs": [],
   "source": [
    "### Write a txt file"
   ]
  },
  {
   "cell_type": "code",
   "execution_count": 1,
   "id": "b16cafa8-e3d0-49be-a635-70e30523e6b2",
   "metadata": {},
   "outputs": [],
   "source": [
    "f = open(\"./DataFolder/data_output.txt\", \"w\")\n",
    "data = f.write(\"This is write testing!\")\n",
    "f.close()"
   ]
  },
  {
   "cell_type": "code",
   "execution_count": 12,
   "id": "4676b211-92bc-4ed2-92a0-781303e023ea",
   "metadata": {},
   "outputs": [],
   "source": [
    "output_str = \"\"\n",
    "d_dict = {'1100': 'A', '1101': 'B', '1102': 'C', '1103': 'D', '1104': 'E'}"
   ]
  },
  {
   "cell_type": "code",
   "execution_count": 13,
   "id": "8b966c94-3c91-4b54-8deb-eb6244cc9086",
   "metadata": {},
   "outputs": [
    {
     "data": {
      "text/plain": [
       "'1100\\tA\\n1101\\tB\\n1102\\tC\\n1103\\tD\\n1104\\tE\\n'"
      ]
     },
     "execution_count": 13,
     "metadata": {},
     "output_type": "execute_result"
    }
   ],
   "source": [
    "for key in d_dict:\n",
    "    output_str = output_str + key + \"\\t\" + d_dict[key] + \"\\n\"\n",
    "output_str"
   ]
  },
  {
   "cell_type": "code",
   "execution_count": 14,
   "id": "9492b26d-05da-40f4-8e52-4141e79a9638",
   "metadata": {},
   "outputs": [],
   "source": [
    "f = open(\"./DataFolder/data_output.txt\", \"w\")\n",
    "data = f.write(output_str)\n",
    "f.close()"
   ]
  },
  {
   "cell_type": "markdown",
   "id": "0becce9f-d16c-476c-9924-276296963b06",
   "metadata": {},
   "source": [
    "### Importing"
   ]
  },
  {
   "cell_type": "code",
   "execution_count": 5,
   "id": "0705fe2d-bc70-4697-8618-9c05b60906cf",
   "metadata": {},
   "outputs": [],
   "source": [
    "import math"
   ]
  },
  {
   "cell_type": "code",
   "execution_count": 11,
   "id": "9850de55-7183-4b0f-a4e4-a037e4de7535",
   "metadata": {},
   "outputs": [
    {
     "name": "stdout",
     "output_type": "stream",
     "text": [
      "5.916079783099616\n",
      "3.141592653589793\n",
      "15.707963267948966\n"
     ]
    }
   ],
   "source": [
    "print(math.sqrt(35))\n",
    "print(math.pi)\n",
    "print(math.sqrt(25)*math.pi)"
   ]
  },
  {
   "cell_type": "code",
   "execution_count": 9,
   "id": "6e222865-170f-4386-998d-e7a4afa3f1f7",
   "metadata": {},
   "outputs": [],
   "source": [
    "from math import sqrt, pi"
   ]
  },
  {
   "cell_type": "code",
   "execution_count": 10,
   "id": "9c4f6a14-d370-4f0b-be39-1beffc841720",
   "metadata": {},
   "outputs": [
    {
     "data": {
      "text/plain": [
       "15.707963267948966"
      ]
     },
     "execution_count": 10,
     "metadata": {},
     "output_type": "execute_result"
    }
   ],
   "source": [
    "sqrt(25)*pi"
   ]
  },
  {
   "cell_type": "code",
   "execution_count": 12,
   "id": "c8ae077a-79b4-488a-83b7-1a9f4dd1ad77",
   "metadata": {},
   "outputs": [],
   "source": [
    "from math import *"
   ]
  },
  {
   "cell_type": "code",
   "execution_count": 13,
   "id": "8b0e388f-0410-429e-b4e5-7675dbdf96dd",
   "metadata": {},
   "outputs": [
    {
     "data": {
      "text/plain": [
       "5.0"
      ]
     },
     "execution_count": 13,
     "metadata": {},
     "output_type": "execute_result"
    }
   ],
   "source": [
    "sqrt(25)"
   ]
  },
  {
   "cell_type": "code",
   "execution_count": 14,
   "id": "5c29b95e-3db9-4d91-8d7a-e1ac7cd482ba",
   "metadata": {},
   "outputs": [
    {
     "data": {
      "text/plain": [
       "3.141592653589793"
      ]
     },
     "execution_count": 14,
     "metadata": {},
     "output_type": "execute_result"
    }
   ],
   "source": [
    "pi"
   ]
  },
  {
   "cell_type": "code",
   "execution_count": 15,
   "id": "29adcad5-cc8a-422e-8d19-f731237591b8",
   "metadata": {},
   "outputs": [
    {
     "data": {
      "text/plain": [
       "-0.6536436208636119"
      ]
     },
     "execution_count": 15,
     "metadata": {},
     "output_type": "execute_result"
    }
   ],
   "source": [
    "cos(4)"
   ]
  },
  {
   "cell_type": "code",
   "execution_count": 1,
   "id": "3489053e-cd80-415c-a716-4795966b6816",
   "metadata": {},
   "outputs": [],
   "source": [
    "import random"
   ]
  },
  {
   "cell_type": "code",
   "execution_count": 7,
   "id": "3ef4ecd2-4bd0-4094-93b4-30aac96d3cf3",
   "metadata": {},
   "outputs": [
    {
     "name": "stdout",
     "output_type": "stream",
     "text": [
      "Head: 50.1075\n",
      "Tail: 49.8925\n"
     ]
    }
   ],
   "source": [
    "count_H = 0\n",
    "count_T = 0\n",
    "total_flips = 200000\n",
    "for i in range(total_flips):\n",
    "    tmp = random.choice([\"H\", \"T\"])\n",
    "    if tmp==\"H\":\n",
    "        count_H += 1\n",
    "    else:\n",
    "        count_T += 1\n",
    "print(\"Head:\", count_H*100/total_flips)\n",
    "print(\"Tail:\", count_T*100/total_flips)"
   ]
  },
  {
   "cell_type": "code",
   "execution_count": 3,
   "id": "0fb45743-4bfc-4ce7-97ee-6748679a0ef6",
   "metadata": {},
   "outputs": [
    {
     "data": {
      "text/plain": [
       "7"
      ]
     },
     "execution_count": 3,
     "metadata": {},
     "output_type": "execute_result"
    }
   ],
   "source": [
    "random.randrange(1, 8, 2)"
   ]
  },
  {
   "cell_type": "code",
   "execution_count": 15,
   "id": "b4e3d5fa-0a4e-455a-a1cb-027bdc583024",
   "metadata": {},
   "outputs": [
    {
     "data": {
      "text/plain": [
       "19"
      ]
     },
     "execution_count": 15,
     "metadata": {},
     "output_type": "execute_result"
    }
   ],
   "source": [
    "random.randint(14, 20)"
   ]
  },
  {
   "cell_type": "code",
   "execution_count": 9,
   "id": "8d02698b-d103-4936-bea4-b8754b95dbd2",
   "metadata": {},
   "outputs": [],
   "source": [
    "import time"
   ]
  },
  {
   "cell_type": "code",
   "execution_count": 9,
   "id": "5466236d-fdfd-4272-8b1c-59fe019c8955",
   "metadata": {},
   "outputs": [],
   "source": [
    "t = time.localtime()"
   ]
  },
  {
   "cell_type": "code",
   "execution_count": 10,
   "id": "701058a5-64b1-489d-b8ce-60ef44de7c63",
   "metadata": {},
   "outputs": [
    {
     "data": {
      "text/plain": [
       "time.struct_time(tm_year=2022, tm_mon=2, tm_mday=22, tm_hour=20, tm_min=45, tm_sec=35, tm_wday=1, tm_yday=53, tm_isdst=0)"
      ]
     },
     "execution_count": 10,
     "metadata": {},
     "output_type": "execute_result"
    }
   ],
   "source": [
    "t"
   ]
  },
  {
   "cell_type": "markdown",
   "id": "0a8ee632-9c9a-4f72-bac0-e7f40b48a239",
   "metadata": {},
   "source": [
    "### Functions"
   ]
  },
  {
   "cell_type": "code",
   "execution_count": 19,
   "id": "4ba0c719-b9ca-4abc-9a04-085d475cc8a9",
   "metadata": {},
   "outputs": [],
   "source": [
    "def add_two_numbers(x, y):\n",
    "    '''\n",
    "    This function adds two variables\n",
    "    '''\n",
    "    c = x + y\n",
    "    return c"
   ]
  },
  {
   "cell_type": "code",
   "execution_count": 16,
   "id": "2c33c666-7e01-4828-bdb9-6485123eb753",
   "metadata": {},
   "outputs": [
    {
     "data": {
      "text/plain": [
       "29"
      ]
     },
     "execution_count": 16,
     "metadata": {},
     "output_type": "execute_result"
    }
   ],
   "source": [
    "add_two_numbers(x=16, y=13)"
   ]
  },
  {
   "cell_type": "code",
   "execution_count": 177,
   "id": "1f306f42-38f9-4418-833d-ecbb824bb120",
   "metadata": {},
   "outputs": [],
   "source": [
    "def list_sum_multiply(l):\n",
    "    c = 0\n",
    "    m = 1\n",
    "    for i in range(len(l)):\n",
    "        c = c + l[i]\n",
    "        m = m * l[i]\n",
    "    return {\"list_sum\": c, \"list_multiply\": m}"
   ]
  },
  {
   "cell_type": "code",
   "execution_count": 178,
   "id": "b90fdca4-e140-42d8-8720-046cfac037b3",
   "metadata": {},
   "outputs": [],
   "source": [
    "mylist = [1, 2, 3, 4, 5 ,6, 7 , 8, 9]\n",
    "mylist_sum_multiply = list_sum_multiply(mylist)"
   ]
  },
  {
   "cell_type": "code",
   "execution_count": 180,
   "id": "21cb3885-36b5-49be-951e-1e0f8f287a90",
   "metadata": {},
   "outputs": [
    {
     "data": {
      "text/plain": [
       "{'list_sum': 45, 'list_multiply': 362880}"
      ]
     },
     "execution_count": 180,
     "metadata": {},
     "output_type": "execute_result"
    }
   ],
   "source": [
    "mylist_sum_multiply"
   ]
  },
  {
   "cell_type": "code",
   "execution_count": 171,
   "id": "6dbb2775-bdc4-45e0-8e4d-265e382b2c7e",
   "metadata": {},
   "outputs": [],
   "source": [
    "mylist_sum, mylist_multiply = list_sum_multiply(mylist)"
   ]
  },
  {
   "cell_type": "code",
   "execution_count": 173,
   "id": "0a0729a0-fb2a-4df3-9ce9-2b82d30b9cf3",
   "metadata": {},
   "outputs": [
    {
     "name": "stdout",
     "output_type": "stream",
     "text": [
      "362880\n"
     ]
    }
   ],
   "source": [
    "print(mylist_multiply)"
   ]
  },
  {
   "cell_type": "code",
   "execution_count": 20,
   "id": "ec8eb8be-33c7-4744-998a-6c6da0dd2194",
   "metadata": {},
   "outputs": [
    {
     "data": {
      "text/plain": [
       "\u001b[1;31mSignature:\u001b[0m \u001b[0madd_two_numbers\u001b[0m\u001b[1;33m(\u001b[0m\u001b[0mx\u001b[0m\u001b[1;33m,\u001b[0m \u001b[0my\u001b[0m\u001b[1;33m)\u001b[0m\u001b[1;33m\u001b[0m\u001b[1;33m\u001b[0m\u001b[0m\n",
       "\u001b[1;31mDocstring:\u001b[0m This function adds two variables\n",
       "\u001b[1;31mFile:\u001b[0m      c:\\users\\samar\\appdata\\local\\temp\\ipykernel_25492\\3895139196.py\n",
       "\u001b[1;31mType:\u001b[0m      function\n"
      ]
     },
     "metadata": {},
     "output_type": "display_data"
    }
   ],
   "source": [
    "add_two_numbers?"
   ]
  },
  {
   "cell_type": "code",
   "execution_count": 25,
   "id": "73ca8142-2900-44f0-a7b3-f70296564387",
   "metadata": {},
   "outputs": [],
   "source": [
    "def add_three_numbers(x=20, y=1, z=1): # y and z are keyword arguements\n",
    "    c = x + y + z\n",
    "    return c"
   ]
  },
  {
   "cell_type": "code",
   "execution_count": 26,
   "id": "a33cdbc5-3244-4406-bf45-fc92b5371164",
   "metadata": {},
   "outputs": [
    {
     "data": {
      "text/plain": [
       "22"
      ]
     },
     "execution_count": 26,
     "metadata": {},
     "output_type": "execute_result"
    }
   ],
   "source": [
    "add_three_numbers()"
   ]
  },
  {
   "cell_type": "code",
   "execution_count": 191,
   "id": "50b42621-a44e-4993-91ef-3b6199003a25",
   "metadata": {},
   "outputs": [
    {
     "data": {
      "text/plain": [
       "25"
      ]
     },
     "execution_count": 191,
     "metadata": {},
     "output_type": "execute_result"
    }
   ],
   "source": [
    "add_three_numbers(5, y = 10, z=10)"
   ]
  },
  {
   "cell_type": "code",
   "execution_count": 192,
   "id": "aeb07494-a78f-4f97-ad69-4584d9ed8400",
   "metadata": {},
   "outputs": [
    {
     "data": {
      "text/plain": [
       "7"
      ]
     },
     "execution_count": 192,
     "metadata": {},
     "output_type": "execute_result"
    }
   ],
   "source": [
    "add_three_numbers(5)"
   ]
  },
  {
   "cell_type": "code",
   "execution_count": 27,
   "id": "d769981d-441b-4a66-9003-3615edf91915",
   "metadata": {},
   "outputs": [],
   "source": [
    "def add_multiply(y, x=3, sumFlag=True):\n",
    "    if sumFlag:\n",
    "        return x+y\n",
    "    else:\n",
    "        return x*y"
   ]
  },
  {
   "cell_type": "code",
   "execution_count": 29,
   "id": "b6e59356-df7b-4f34-a48c-4f00be34daef",
   "metadata": {},
   "outputs": [
    {
     "data": {
      "text/plain": [
       "12"
      ]
     },
     "execution_count": 29,
     "metadata": {},
     "output_type": "execute_result"
    }
   ],
   "source": [
    "add_multiply(y=4, sumFlag=False)"
   ]
  },
  {
   "cell_type": "code",
   "execution_count": 30,
   "id": "aa845d1f-fb5d-49de-b0cd-ea3efa1f1695",
   "metadata": {},
   "outputs": [],
   "source": [
    "def appendDict(dict1, x):\n",
    "    dict1[x] = \"\"\n",
    "    print(dict1)\n",
    "    # do something with it after adding 100 in the end\n",
    "    return\n",
    "def twiceTheValue(x):\n",
    "    x = 2*x\n",
    "    return"
   ]
  },
  {
   "cell_type": "code",
   "execution_count": 31,
   "id": "7a9a4e48-28c2-47f4-ba6f-93f8fbdc1067",
   "metadata": {},
   "outputs": [
    {
     "name": "stdout",
     "output_type": "stream",
     "text": [
      "Before calling function: [0, 1, 2]\n"
     ]
    },
    {
     "ename": "NameError",
     "evalue": "name 'appendList' is not defined",
     "output_type": "error",
     "traceback": [
      "\u001b[1;31m---------------------------------------------------------------------------\u001b[0m",
      "\u001b[1;31mNameError\u001b[0m                                 Traceback (most recent call last)",
      "\u001b[1;32m~\\AppData\\Local\\Temp/ipykernel_25492/1536810481.py\u001b[0m in \u001b[0;36m<module>\u001b[1;34m\u001b[0m\n\u001b[0;32m      1\u001b[0m \u001b[0mmylist\u001b[0m \u001b[1;33m=\u001b[0m \u001b[1;33m[\u001b[0m\u001b[1;36m0\u001b[0m\u001b[1;33m,\u001b[0m \u001b[1;36m1\u001b[0m\u001b[1;33m,\u001b[0m \u001b[1;36m2\u001b[0m\u001b[1;33m]\u001b[0m\u001b[1;33m\u001b[0m\u001b[1;33m\u001b[0m\u001b[0m\n\u001b[0;32m      2\u001b[0m \u001b[0mprint\u001b[0m\u001b[1;33m(\u001b[0m\u001b[1;34m\"Before calling function:\"\u001b[0m\u001b[1;33m,\u001b[0m \u001b[0mmylist\u001b[0m\u001b[1;33m)\u001b[0m\u001b[1;33m\u001b[0m\u001b[1;33m\u001b[0m\u001b[0m\n\u001b[1;32m----> 3\u001b[1;33m \u001b[0mappendList\u001b[0m\u001b[1;33m(\u001b[0m\u001b[0mmylist\u001b[0m\u001b[1;33m[\u001b[0m\u001b[1;33m:\u001b[0m\u001b[1;33m]\u001b[0m\u001b[1;33m,\u001b[0m \u001b[1;36m1000\u001b[0m\u001b[1;33m)\u001b[0m \u001b[1;31m# It is passed by reference\u001b[0m\u001b[1;33m\u001b[0m\u001b[1;33m\u001b[0m\u001b[0m\n\u001b[0m\u001b[0;32m      4\u001b[0m \u001b[0mprint\u001b[0m\u001b[1;33m(\u001b[0m\u001b[1;34m\"After calling function:\"\u001b[0m\u001b[1;33m,\u001b[0m \u001b[0mmylist\u001b[0m\u001b[1;33m)\u001b[0m\u001b[1;33m\u001b[0m\u001b[1;33m\u001b[0m\u001b[0m\n",
      "\u001b[1;31mNameError\u001b[0m: name 'appendList' is not defined"
     ]
    }
   ],
   "source": [
    "mylist = [0, 1, 2]\n",
    "print(\"Before calling function:\", mylist)\n",
    "appendList(mylist[:], 1000) # It is passed by reference\n",
    "print(\"After calling function:\", mylist)"
   ]
  },
  {
   "cell_type": "code",
   "execution_count": 32,
   "id": "bd28b11b-049b-48f4-babc-6a48ed2ce0bb",
   "metadata": {},
   "outputs": [
    {
     "name": "stdout",
     "output_type": "stream",
     "text": [
      "Before calling function: {0: '0', 1: '1', 2: '3'}\n"
     ]
    },
    {
     "ename": "NameError",
     "evalue": "name 'appendList' is not defined",
     "output_type": "error",
     "traceback": [
      "\u001b[1;31m---------------------------------------------------------------------------\u001b[0m",
      "\u001b[1;31mNameError\u001b[0m                                 Traceback (most recent call last)",
      "\u001b[1;32m~\\AppData\\Local\\Temp/ipykernel_25492/2213705714.py\u001b[0m in \u001b[0;36m<module>\u001b[1;34m\u001b[0m\n\u001b[0;32m      2\u001b[0m \u001b[0mmydict\u001b[0m \u001b[1;33m=\u001b[0m \u001b[1;33m{\u001b[0m\u001b[1;36m0\u001b[0m\u001b[1;33m:\u001b[0m\u001b[1;34m\"0\"\u001b[0m\u001b[1;33m,\u001b[0m \u001b[1;36m1\u001b[0m\u001b[1;33m:\u001b[0m\u001b[1;34m\"1\"\u001b[0m\u001b[1;33m,\u001b[0m \u001b[1;36m2\u001b[0m\u001b[1;33m:\u001b[0m\u001b[1;34m\"3\"\u001b[0m\u001b[1;33m}\u001b[0m\u001b[1;33m\u001b[0m\u001b[1;33m\u001b[0m\u001b[0m\n\u001b[0;32m      3\u001b[0m \u001b[0mprint\u001b[0m\u001b[1;33m(\u001b[0m\u001b[1;34m\"Before calling function:\"\u001b[0m\u001b[1;33m,\u001b[0m \u001b[0mmydict\u001b[0m\u001b[1;33m)\u001b[0m\u001b[1;33m\u001b[0m\u001b[1;33m\u001b[0m\u001b[0m\n\u001b[1;32m----> 4\u001b[1;33m \u001b[0mappendList\u001b[0m\u001b[1;33m(\u001b[0m\u001b[0mcopy\u001b[0m\u001b[1;33m.\u001b[0m\u001b[0mdeepcopy\u001b[0m\u001b[1;33m(\u001b[0m\u001b[0mmydict\u001b[0m\u001b[1;33m)\u001b[0m\u001b[1;33m,\u001b[0m \u001b[1;36m10\u001b[0m\u001b[1;33m)\u001b[0m \u001b[1;31m# It is passed by reference\u001b[0m\u001b[1;33m\u001b[0m\u001b[1;33m\u001b[0m\u001b[0m\n\u001b[0m\u001b[0;32m      5\u001b[0m \u001b[0mprint\u001b[0m\u001b[1;33m(\u001b[0m\u001b[1;34m\"After calling function:\"\u001b[0m\u001b[1;33m,\u001b[0m \u001b[0mmydict\u001b[0m\u001b[1;33m)\u001b[0m\u001b[1;33m\u001b[0m\u001b[1;33m\u001b[0m\u001b[0m\n",
      "\u001b[1;31mNameError\u001b[0m: name 'appendList' is not defined"
     ]
    }
   ],
   "source": [
    "import copy\n",
    "mydict = {0:\"0\", 1:\"1\", 2:\"3\"}\n",
    "print(\"Before calling function:\", mydict)\n",
    "appendList(copy.deepcopy(mydict), 10) # It is passed by reference\n",
    "print(\"After calling function:\", mydict)"
   ]
  },
  {
   "cell_type": "code",
   "execution_count": 28,
   "id": "f804de60-8d30-4901-8512-6a387a599ed2",
   "metadata": {},
   "outputs": [
    {
     "name": "stdout",
     "output_type": "stream",
     "text": [
      "Before calling function: 7\n",
      "After calling function: 7\n"
     ]
    }
   ],
   "source": [
    "y = 7\n",
    "print(\"Before calling function:\", y)\n",
    "twiceTheValue(y) # It is passed by reference\n",
    "print(\"After calling function:\", y)"
   ]
  },
  {
   "cell_type": "code",
   "execution_count": 33,
   "id": "c0c47286-f980-4ca0-8a72-13c8ee416b53",
   "metadata": {},
   "outputs": [
    {
     "name": "stdout",
     "output_type": "stream",
     "text": [
      "<class 'list'>\n",
      "<class 'int'>\n"
     ]
    }
   ],
   "source": [
    "print(type(mylist))\n",
    "print(type(y))"
   ]
  },
  {
   "cell_type": "code",
   "execution_count": 52,
   "id": "dba5548e-b7f2-477a-995f-214ec64e182f",
   "metadata": {},
   "outputs": [
    {
     "data": {
      "text/plain": [
       "\u001b[1;31mSignature:\u001b[0m \u001b[0mcopy\u001b[0m\u001b[1;33m.\u001b[0m\u001b[0mdeepcopy\u001b[0m\u001b[1;33m(\u001b[0m\u001b[0mx\u001b[0m\u001b[1;33m,\u001b[0m \u001b[0mmemo\u001b[0m\u001b[1;33m=\u001b[0m\u001b[1;32mNone\u001b[0m\u001b[1;33m,\u001b[0m \u001b[0m_nil\u001b[0m\u001b[1;33m=\u001b[0m\u001b[1;33m[\u001b[0m\u001b[1;33m]\u001b[0m\u001b[1;33m)\u001b[0m\u001b[1;33m\u001b[0m\u001b[1;33m\u001b[0m\u001b[0m\n",
       "\u001b[1;31mDocstring:\u001b[0m\n",
       "Deep copy operation on arbitrary Python objects.\n",
       "\n",
       "See the module's __doc__ string for more info.\n",
       "\u001b[1;31mFile:\u001b[0m      c:\\users\\jitinsingla\\anaconda3\\lib\\copy.py\n",
       "\u001b[1;31mType:\u001b[0m      function\n"
      ]
     },
     "metadata": {},
     "output_type": "display_data"
    }
   ],
   "source": [
    "copy.deepcopy?"
   ]
  },
  {
   "cell_type": "code",
   "execution_count": 54,
   "id": "fe3b3103-ec84-4399-9ef2-ff49356302e9",
   "metadata": {},
   "outputs": [],
   "source": [
    "## Recursion"
   ]
  },
  {
   "cell_type": "code",
   "execution_count": 60,
   "id": "9848a003-081d-4306-9aa4-72572e06821b",
   "metadata": {},
   "outputs": [
    {
     "name": "stdout",
     "output_type": "stream",
     "text": [
      "[0, 1, 2, 3, 4, 5, 6, 7, 8, 9]\n",
      "[1, 2, 3, 4, 5, 6, 7, 8, 9]\n",
      "[2, 3, 4, 5, 6, 7, 8, 9]\n",
      "[3, 4, 5, 6, 7, 8, 9]\n",
      "[4, 5, 6, 7, 8, 9]\n",
      "[5, 6, 7, 8, 9]\n",
      "[6, 7, 8, 9]\n",
      "[7, 8, 9]\n",
      "[8, 9]\n",
      "[9]\n",
      "[]\n"
     ]
    }
   ],
   "source": [
    "mylist = list(range(10))\n",
    "for i in range(len(mylist)):\n",
    "    print(mylist)\n",
    "    mylist.remove(mylist[0])\n",
    "print(mylist)"
   ]
  },
  {
   "cell_type": "code",
   "execution_count": 69,
   "id": "54bc7685-94f8-4df4-aa8e-563df5988fd7",
   "metadata": {},
   "outputs": [],
   "source": [
    "def deleteListOneElementAtATime(l):\n",
    "    if len(l)==0:\n",
    "        return\n",
    "    l.remove(l[0])\n",
    "    print(l)\n",
    "    deleteListOneElementAtATime(l)\n",
    "    return"
   ]
  },
  {
   "cell_type": "code",
   "execution_count": 70,
   "id": "2d2c50bb-1b88-49ae-8ec7-730b8ad2703f",
   "metadata": {},
   "outputs": [
    {
     "name": "stdout",
     "output_type": "stream",
     "text": [
      "[0, 1, 2, 3, 4, 5, 6, 7, 8, 9]\n",
      "[1, 2, 3, 4, 5, 6, 7, 8, 9]\n",
      "[2, 3, 4, 5, 6, 7, 8, 9]\n",
      "[3, 4, 5, 6, 7, 8, 9]\n",
      "[4, 5, 6, 7, 8, 9]\n",
      "[5, 6, 7, 8, 9]\n",
      "[6, 7, 8, 9]\n",
      "[7, 8, 9]\n",
      "[8, 9]\n",
      "[9]\n",
      "[]\n",
      "[]\n"
     ]
    }
   ],
   "source": [
    "mylist = list(range(10))\n",
    "print(mylist)\n",
    "deleteListOneElementAtATime(mylist)\n",
    "print(mylist)"
   ]
  },
  {
   "cell_type": "code",
   "execution_count": 62,
   "id": "846659d4-932d-4947-bf80-1dfcdbef8eec",
   "metadata": {},
   "outputs": [
    {
     "name": "stdout",
     "output_type": "stream",
     "text": [
      "[0, 1, 2, 3, 4, 5, 6, 7, 8, 9]\n",
      "[1, 2, 3, 4, 5, 6, 7, 8, 9]\n",
      "[2, 3, 4, 5, 6, 7, 8, 9]\n",
      "[3, 4, 5, 6, 7, 8, 9]\n",
      "[4, 5, 6, 7, 8, 9]\n",
      "[5, 6, 7, 8, 9]\n",
      "[6, 7, 8, 9]\n",
      "[7, 8, 9]\n",
      "[8, 9]\n",
      "[9]\n",
      "[]\n"
     ]
    }
   ],
   "source": [
    "mylist = list(range(10))\n",
    "for i in range(len(mylist)):\n",
    "    print(mylist)\n",
    "    deleteListOneElementAtATime(mylist)\n",
    "print(mylist)"
   ]
  }
 ],
 "metadata": {
  "kernelspec": {
   "display_name": "Python 3 (ipykernel)",
   "language": "python",
   "name": "python3"
  },
  "language_info": {
   "codemirror_mode": {
    "name": "ipython",
    "version": 3
   },
   "file_extension": ".py",
   "mimetype": "text/x-python",
   "name": "python",
   "nbconvert_exporter": "python",
   "pygments_lexer": "ipython3",
   "version": "3.9.7"
  }
 },
 "nbformat": 4,
 "nbformat_minor": 5
}
