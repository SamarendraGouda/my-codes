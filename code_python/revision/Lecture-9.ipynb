{
 "cells": [
  {
   "cell_type": "code",
   "execution_count": 97,
   "id": "0ed05f57-57ac-4835-9f14-c609ebb3eac1",
   "metadata": {},
   "outputs": [],
   "source": [
    "class MyOwnListOperations:\n",
    "    def __init__(self, x):\n",
    "        self.list = x\n",
    "    \n",
    "    def listsum(self):\n",
    "        s = 0\n",
    "        for i in range(len(self.list)):\n",
    "            s = s + self.list[i]\n",
    "        return s\n",
    "\n",
    "    def quickSort(self, mylist):\n",
    "        pass\n",
    "    \n",
    "    def mergeSort(self, mylist):\n",
    "        if len(mylist) > 1:\n",
    "            # Find mid point\n",
    "            m = len(mylist)//2\n",
    "\n",
    "            # Divide list into two lists\n",
    "            leftList = mylist[:m]\n",
    "            rightList = mylist[m:]\n",
    "\n",
    "\n",
    "            # Sort left list\n",
    "            self.mergeSort(leftList)\n",
    "\n",
    "            # Sort right list\n",
    "            self.mergeSort(rightList)\n",
    "\n",
    "            # Merge the two lists\n",
    "            i = j = k = 0\n",
    "\n",
    "            while i < len(leftList) and j < len(rightList):\n",
    "                if leftList[i] < rightList[j]:\n",
    "                    mylist[k] = leftList[i]\n",
    "                    i += 1\n",
    "                else:\n",
    "                    mylist[k] = rightList[j]\n",
    "                    j += 1\n",
    "                k += 1\n",
    "\n",
    "            while j < len(rightList):\n",
    "                mylist[k] = rightList[j]\n",
    "                j += 1\n",
    "                k += 1\n",
    "\n",
    "            while i < len(leftList):\n",
    "                mylist[k] = leftList[i]\n",
    "                i += 1\n",
    "                k += 1\n",
    "    \n",
    "    def sortedlist(self, method=\"mergesort\"):\n",
    "        '''\n",
    "        method: allowed methods are \"mergesort\" and \"quicksort\"\n",
    "        '''\n",
    "        newList = [self.list[i] for i in range(len(self.list))]\n",
    "        if method==\"mergesort\":\n",
    "            self.mergeSort(newList)\n",
    "        elif method==\"quicksort\":\n",
    "            self.quickSort(newList)\n",
    "        else:\n",
    "            print(\"Please provide allowed method names\")\n",
    "        return newList\n",
    "        \n",
    "    def append(self, y):\n",
    "        return self.concatenate([y])\n",
    "    \n",
    "    def concatenate(self, z):\n",
    "        newList = [0 for i in range(len(self.list)+len(z))]\n",
    "        for i in range(len(self.list)):\n",
    "            newList[i] = self.list[i]\n",
    "        for i in range(len(z)):\n",
    "            newList[len(self.list)+i] = z[i]\n",
    "        return newList"
   ]
  },
  {
   "cell_type": "code",
   "execution_count": 98,
   "id": "eec01b0e-8129-440d-a708-fd5cd75854db",
   "metadata": {},
   "outputs": [],
   "source": [
    "mylist = [5, 3, 7, 98, 2, 144, 67]\n",
    "x = MyOwnListOperations(mylist)"
   ]
  },
  {
   "cell_type": "code",
   "execution_count": 99,
   "id": "09f07a92-14da-406e-afc4-0ae609274cb0",
   "metadata": {},
   "outputs": [
    {
     "data": {
      "text/plain": [
       "326"
      ]
     },
     "execution_count": 99,
     "metadata": {},
     "output_type": "execute_result"
    }
   ],
   "source": [
    "x.listsum()"
   ]
  },
  {
   "cell_type": "code",
   "execution_count": 100,
   "id": "59868dbe-93e1-4e9d-870c-cbe49332b16d",
   "metadata": {},
   "outputs": [
    {
     "data": {
      "text/plain": [
       "[5, 3, 7, 98, 2, 144, 67, 999]"
      ]
     },
     "execution_count": 100,
     "metadata": {},
     "output_type": "execute_result"
    }
   ],
   "source": [
    "x.append(999)"
   ]
  },
  {
   "cell_type": "code",
   "execution_count": 101,
   "id": "9aed66df-8bb7-4ab4-8a9e-213154b15d81",
   "metadata": {},
   "outputs": [
    {
     "data": {
      "text/plain": [
       "[5, 3, 7, 98, 2, 144, 67, 100, 200, 300]"
      ]
     },
     "execution_count": 101,
     "metadata": {},
     "output_type": "execute_result"
    }
   ],
   "source": [
    "x.concatenate([100, 200, 300])"
   ]
  },
  {
   "cell_type": "code",
   "execution_count": 102,
   "id": "13fffbc7-4ae4-4139-9c80-138cac4f9ace",
   "metadata": {},
   "outputs": [
    {
     "data": {
      "text/plain": [
       "[2, 3, 5, 7, 67, 98, 144]"
      ]
     },
     "execution_count": 102,
     "metadata": {},
     "output_type": "execute_result"
    }
   ],
   "source": [
    "x.sortedlist()"
   ]
  },
  {
   "cell_type": "code",
   "execution_count": null,
   "id": "dc175897-bd79-4462-acfd-6151f41f5426",
   "metadata": {},
   "outputs": [],
   "source": []
  }
 ],
 "metadata": {
  "kernelspec": {
   "display_name": "Python 3 (ipykernel)",
   "language": "python",
   "name": "python3"
  },
  "language_info": {
   "codemirror_mode": {
    "name": "ipython",
    "version": 3
   },
   "file_extension": ".py",
   "mimetype": "text/x-python",
   "name": "python",
   "nbconvert_exporter": "python",
   "pygments_lexer": "ipython3",
   "version": "3.9.7"
  }
 },
 "nbformat": 4,
 "nbformat_minor": 5
}
