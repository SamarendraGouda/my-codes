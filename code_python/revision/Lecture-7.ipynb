{
 "cells": [
  {
   "cell_type": "markdown",
   "id": "287b7c4d-279e-4a45-80f3-1f37e9663300",
   "metadata": {},
   "source": [
    "# MergeSort"
   ]
  },
  {
   "cell_type": "code",
   "execution_count": 20,
   "id": "4cf95a71-cc96-4ade-babd-4b4387e940c2",
   "metadata": {},
   "outputs": [],
   "source": [
    "def mergeSort(mylist):\n",
    "    if len(mylist) > 1:\n",
    "        # Find mid point\n",
    "        m = len(mylist)//2\n",
    "                \n",
    "        # Divide list into two lists\n",
    "        leftList = mylist[:m]\n",
    "        rightList = mylist[m:]\n",
    "        \n",
    "        \n",
    "        # Sort left list\n",
    "        mergeSort(leftList)\n",
    "\n",
    "        # Sort right list\n",
    "        mergeSort(rightList)\n",
    "        \n",
    "        # Merge the two lists\n",
    "        i = j = k = 0\n",
    "                \n",
    "        while i < len(leftList) and j < len(rightList):\n",
    "            if leftList[i] < rightList[j]:\n",
    "                mylist[k] = leftList[i]\n",
    "                i += 1\n",
    "            else:\n",
    "                mylist[k] = rightList[j]\n",
    "                j += 1\n",
    "            k += 1\n",
    "        \n",
    "        while j < len(rightList):\n",
    "            mylist[k] = rightList[j]\n",
    "            j += 1\n",
    "            k += 1\n",
    "        \n",
    "        while i < len(leftList):\n",
    "            mylist[k] = leftList[i]\n",
    "            i += 1\n",
    "            k += 1        "
   ]
  },
  {
   "cell_type": "code",
   "execution_count": 21,
   "id": "d55e787d-5c59-4012-8b36-d285882e36a9",
   "metadata": {},
   "outputs": [
    {
     "name": "stdout",
     "output_type": "stream",
     "text": [
      "[1, 4, 7, 10, 12, 45, 69, 78, 99]\n"
     ]
    }
   ],
   "source": [
    "mylist = [45, 12, 7, 69, 4, 1, 78, 99, 10]\n",
    "mergeSort(mylist) # Sort mylist\n",
    "print(mylist)"
   ]
  }
 ],
 "metadata": {
  "kernelspec": {
   "display_name": "Python 3 (ipykernel)",
   "language": "python",
   "name": "python3"
  },
  "language_info": {
   "codemirror_mode": {
    "name": "ipython",
    "version": 3
   },
   "file_extension": ".py",
   "mimetype": "text/x-python",
   "name": "python",
   "nbconvert_exporter": "python",
   "pygments_lexer": "ipython3",
   "version": "3.9.7"
  }
 },
 "nbformat": 4,
 "nbformat_minor": 5
}
