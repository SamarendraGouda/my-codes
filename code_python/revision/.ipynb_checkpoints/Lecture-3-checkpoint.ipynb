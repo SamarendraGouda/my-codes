{
 "cells": [
  {
   "cell_type": "markdown",
   "id": "2aaf809b-a3e8-483a-bcf0-06965280b84a",
   "metadata": {},
   "source": [
    "### Loops"
   ]
  },
  {
   "cell_type": "code",
   "execution_count": 2,
   "id": "19bd4e7d-6ee9-46a7-accd-e385393ebb15",
   "metadata": {},
   "outputs": [
    {
     "data": {
      "text/plain": [
       "range(0, 13)"
      ]
     },
     "execution_count": 2,
     "metadata": {},
     "output_type": "execute_result"
    }
   ],
   "source": [
    "range(13) # 0, 1, 2, ....12"
   ]
  },
  {
   "cell_type": "code",
   "execution_count": 3,
   "id": "10d35acc-3ee0-4871-bba7-8848aafc3986",
   "metadata": {},
   "outputs": [
    {
     "data": {
      "text/plain": [
       "[0, 1, 2, 3, 4, 5, 6, 7, 8, 9, 10, 11, 12]"
      ]
     },
     "execution_count": 3,
     "metadata": {},
     "output_type": "execute_result"
    }
   ],
   "source": [
    "list(range(13))"
   ]
  },
  {
   "cell_type": "code",
   "execution_count": 6,
   "id": "8b1bba3d-ef68-4ed4-a1c7-7739aae98c13",
   "metadata": {},
   "outputs": [
    {
     "data": {
      "text/plain": [
       "[4, 5, 6, 7, 8, 9, 10, 11, 12]"
      ]
     },
     "execution_count": 6,
     "metadata": {},
     "output_type": "execute_result"
    }
   ],
   "source": [
    "list(range(4, 13))"
   ]
  },
  {
   "cell_type": "code",
   "execution_count": 9,
   "id": "e90b56c5-2a1f-489a-97bc-567c6d01dbd2",
   "metadata": {},
   "outputs": [
    {
     "data": {
      "text/plain": [
       "[4, 7, 10]"
      ]
     },
     "execution_count": 9,
     "metadata": {},
     "output_type": "execute_result"
    }
   ],
   "source": [
    "list(range(4, 13, 3))"
   ]
  },
  {
   "cell_type": "code",
   "execution_count": 13,
   "id": "e73c68f4-b95f-48cd-94e6-4b6d66dea002",
   "metadata": {},
   "outputs": [
    {
     "name": "stdout",
     "output_type": "stream",
     "text": [
      "5\n",
      "6\n",
      "7\n",
      "8\n",
      "9\n",
      "10\n",
      "11\n",
      "12\n",
      "13\n",
      "14\n"
     ]
    }
   ],
   "source": [
    "for i in range(5, 15):\n",
    "    print(i)"
   ]
  },
  {
   "cell_type": "code",
   "execution_count": 17,
   "id": "ea0b07b0-6820-4307-8884-6aaef599de12",
   "metadata": {},
   "outputs": [
    {
     "name": "stdout",
     "output_type": "stream",
     "text": [
      "rt\n",
      "er\n",
      "9\n"
     ]
    }
   ],
   "source": [
    "for i in [\"rt\", \"er\", 9]:\n",
    "    print(i)"
   ]
  },
  {
   "cell_type": "code",
   "execution_count": 23,
   "id": "a75756ea-8b27-4f7f-80a4-0c83cf1cc7f3",
   "metadata": {},
   "outputs": [
    {
     "name": "stdout",
     "output_type": "stream",
     "text": [
      "0 cat\n",
      "1 dog\n",
      "4 camel\n",
      "3 rat\n",
      "------------\n",
      "0 cat\n",
      "1 dog\n",
      "4 camel\n",
      "3 rat\n"
     ]
    }
   ],
   "source": [
    "a_dict = {0:\"cat\", 1:\"dog\", 4:\"camel\", 3:\"rat\"}\n",
    "for i in a_dict.keys():\n",
    "    print(i, a_dict[i])\n",
    "print(\"------------\")\n",
    "for i in a_dict:\n",
    "    print(i, a_dict[i])"
   ]
  },
  {
   "cell_type": "code",
   "execution_count": 25,
   "id": "0611143e-8cb4-4125-a6be-cdddd3071a18",
   "metadata": {},
   "outputs": [
    {
     "name": "stdout",
     "output_type": "stream",
     "text": [
      "0 cat\n",
      "1 dog\n",
      "3 rat\n",
      "4 camel\n"
     ]
    }
   ],
   "source": [
    "for i in sorted(a_dict.keys()):\n",
    "    print(i, a_dict[i])"
   ]
  },
  {
   "cell_type": "code",
   "execution_count": 26,
   "id": "48f2e449-f2e7-409d-bbac-ff5a3be4377a",
   "metadata": {},
   "outputs": [
    {
     "data": {
      "text/plain": [
       "[1, 3, 3, 6, 8, 8, 43]"
      ]
     },
     "execution_count": 26,
     "metadata": {},
     "output_type": "execute_result"
    }
   ],
   "source": [
    "sorted([3,1,6,8,3,43,8])"
   ]
  },
  {
   "cell_type": "code",
   "execution_count": 28,
   "id": "63df03a7-3c21-4953-9a29-4fef0041252c",
   "metadata": {},
   "outputs": [
    {
     "name": "stdout",
     "output_type": "stream",
     "text": [
      "[2, 3, 4, 5, 6, 6, 6, 7]\n"
     ]
    }
   ],
   "source": [
    "tlist = [6,2,4,6,7,3,5,6]\n",
    "tlist.sort()\n",
    "print(tlist)"
   ]
  },
  {
   "cell_type": "code",
   "execution_count": 30,
   "id": "4f1d4760-7983-4730-a434-86b270e74ff4",
   "metadata": {},
   "outputs": [
    {
     "data": {
      "text/plain": [
       "['ab', 'asaf', 'hdfs', 'sds']"
      ]
     },
     "execution_count": 30,
     "metadata": {},
     "output_type": "execute_result"
    }
   ],
   "source": [
    "l = [\"hdfs\", \"sds\", \"asaf\", \"ab\"]\n",
    "sorted(l)"
   ]
  },
  {
   "cell_type": "code",
   "execution_count": 31,
   "id": "f5731044-95e2-4953-80d2-f386678f2b7c",
   "metadata": {},
   "outputs": [
    {
     "name": "stdout",
     "output_type": "stream",
     "text": [
      "0 cat\n",
      "1 dog\n",
      "3 rat\n",
      "4 camel\n"
     ]
    }
   ],
   "source": [
    "keys = a_dict.keys()\n",
    "keys = sorted(keys)\n",
    "for i in keys:\n",
    "    print(i, a_dict[i])"
   ]
  },
  {
   "cell_type": "code",
   "execution_count": 36,
   "id": "d072436a-7551-4785-8339-b3a9aab99018",
   "metadata": {},
   "outputs": [
    {
     "name": "stdout",
     "output_type": "stream",
     "text": [
      "0\n",
      "2\n",
      "4\n",
      "6\n",
      "8\n"
     ]
    }
   ],
   "source": [
    "for number in range(10):\n",
    "    if number%2==0:\n",
    "        print(number)"
   ]
  },
  {
   "cell_type": "code",
   "execution_count": null,
   "id": "feb8c5e1-dc11-43e1-a633-d26496bc799e",
   "metadata": {},
   "outputs": [],
   "source": [
    "for i in range(10):\n",
    "    for j in range(10,20):\n",
    "        print(i, j)"
   ]
  },
  {
   "cell_type": "code",
   "execution_count": null,
   "id": "84b695e1-eeea-449d-a1bf-447a364909d4",
   "metadata": {},
   "outputs": [],
   "source": [
    "## While loop"
   ]
  },
  {
   "cell_type": "code",
   "execution_count": 41,
   "id": "fddaed90-6fbe-423a-9a9b-57e5690fcc27",
   "metadata": {},
   "outputs": [
    {
     "name": "stdout",
     "output_type": "stream",
     "text": [
      "3\n",
      "4\n",
      "5\n",
      "6\n",
      "7\n",
      "8\n",
      "9\n"
     ]
    }
   ],
   "source": [
    "k = 3\n",
    "while k < 10:\n",
    "    print(k)\n",
    "    k += 1"
   ]
  },
  {
   "cell_type": "code",
   "execution_count": null,
   "id": "a7ba933c-f3ac-4306-8d0e-2cacd11b748a",
   "metadata": {},
   "outputs": [],
   "source": [
    "flag = False\n",
    "while flag is False:\n",
    "    "
   ]
  },
  {
   "cell_type": "code",
   "execution_count": null,
   "id": "1a8a9e4d-0ad4-49c1-8583-111bbf5f4112",
   "metadata": {},
   "outputs": [],
   "source": [
    "## loop flow control"
   ]
  },
  {
   "cell_type": "code",
   "execution_count": null,
   "id": "85d1b530-688a-4279-9a65-971642f30def",
   "metadata": {},
   "outputs": [],
   "source": [
    "# break, continue"
   ]
  },
  {
   "cell_type": "code",
   "execution_count": 46,
   "id": "99d6b45b-fc72-4029-8f2b-f3e5e5eedeb3",
   "metadata": {},
   "outputs": [
    {
     "name": "stdout",
     "output_type": "stream",
     "text": [
      "Yes\n"
     ]
    }
   ],
   "source": [
    "l = [345,56,7,234, 546, 67, 23, 56, 6, 54, 54, 54, 43, 56, 6, 23, 56, 5, 6]\n",
    "for i in l:\n",
    "    if i == 6:\n",
    "        print(\"Yes\")\n",
    "        break"
   ]
  },
  {
   "cell_type": "code",
   "execution_count": 47,
   "id": "26c1ee96-a4b1-4b09-8842-d6d171900c3a",
   "metadata": {},
   "outputs": [
    {
     "name": "stdout",
     "output_type": "stream",
     "text": [
      "0\n",
      "2\n",
      "4\n",
      "6\n",
      "8\n",
      "10\n",
      "12\n",
      "14\n",
      "16\n",
      "18\n",
      "30\n",
      "33\n",
      "36\n",
      "39\n",
      "42\n",
      "45\n",
      "48\n",
      "51\n",
      "54\n",
      "57\n"
     ]
    }
   ],
   "source": [
    "for i in range(20):\n",
    "    if i < 10:\n",
    "        print(i*2)\n",
    "        continue\n",
    "    if i >=10:\n",
    "        print(i*3)"
   ]
  },
  {
   "cell_type": "code",
   "execution_count": 49,
   "id": "a9010063-cb50-4de7-a34a-a191b1f0c638",
   "metadata": {},
   "outputs": [
    {
     "name": "stdout",
     "output_type": "stream",
     "text": [
      "0\n",
      "1\n",
      "2\n",
      "4\n",
      "5\n"
     ]
    }
   ],
   "source": [
    "#0, 1, 2, 4, 5\n",
    "i = 0\n",
    "while i < 10:\n",
    "    if i in [0, 1, 2, 4, 5]:\n",
    "        print(i)\n",
    "    i += 1"
   ]
  },
  {
   "cell_type": "code",
   "execution_count": 53,
   "id": "ca4694d9-fe43-438d-933f-367c4b438a72",
   "metadata": {},
   "outputs": [
    {
     "name": "stdout",
     "output_type": "stream",
     "text": [
      "0\n",
      "1\n",
      "2\n",
      "4\n",
      "5\n"
     ]
    }
   ],
   "source": [
    "i = 0\n",
    "while i < 10:\n",
    "    if i>5:\n",
    "        break\n",
    "    if i == 3:\n",
    "        i += 1\n",
    "        continue\n",
    "    print(i)\n",
    "    i += 1"
   ]
  },
  {
   "cell_type": "code",
   "execution_count": 54,
   "id": "700191ac-ea3c-44c3-8107-6d095697a24c",
   "metadata": {},
   "outputs": [],
   "source": [
    "### Comprehensions"
   ]
  },
  {
   "cell_type": "code",
   "execution_count": 57,
   "id": "4109ae27-f368-4599-9beb-d378ae69fba4",
   "metadata": {},
   "outputs": [
    {
     "name": "stdout",
     "output_type": "stream",
     "text": [
      "[0, 2, 4, 6, 8, 10, 12, 14, 16, 18, 20]\n"
     ]
    }
   ],
   "source": [
    "l = []\n",
    "for i in range(0,21):\n",
    "    if i%2==0:\n",
    "        l.append(i)\n",
    "print(l)"
   ]
  },
  {
   "cell_type": "code",
   "execution_count": 58,
   "id": "d02d6e96-32b0-4505-839a-bc4915e700be",
   "metadata": {},
   "outputs": [
    {
     "name": "stdout",
     "output_type": "stream",
     "text": [
      "[0, 2, 4, 6, 8, 10, 12, 14, 16, 18, 20]\n"
     ]
    }
   ],
   "source": [
    "l = [i for i in range(0, 21) if i%2==0]\n",
    "print(l)"
   ]
  },
  {
   "cell_type": "code",
   "execution_count": 59,
   "id": "f8fa309d-539f-49a3-afed-63bd3bba753e",
   "metadata": {},
   "outputs": [
    {
     "name": "stdout",
     "output_type": "stream",
     "text": [
      "{0: 0, 1: 1, 2: 4, 3: 9, 4: 16, 5: 25, 6: 36, 7: 49, 8: 64, 9: 81, 10: 100}\n"
     ]
    }
   ],
   "source": [
    "# {0:0, 1:1, 2:4, 3:9..........10:100}\n",
    "adict = {}\n",
    "for i in range(11):\n",
    "    adict[i] = i*i\n",
    "print(adict)"
   ]
  },
  {
   "cell_type": "code",
   "execution_count": 61,
   "id": "6acb0819-ac0e-4c60-b1e5-6416c974d201",
   "metadata": {},
   "outputs": [
    {
     "name": "stdout",
     "output_type": "stream",
     "text": [
      "{1: 1, 3: 9, 5: 25, 7: 49, 9: 81}\n"
     ]
    }
   ],
   "source": [
    "adict = {i:i*i for i in range(11) if i%2 != 0}\n",
    "print(adict)"
   ]
  },
  {
   "cell_type": "code",
   "execution_count": 62,
   "id": "06cf0946-82ac-4a60-bdb5-26ee2b691e0b",
   "metadata": {},
   "outputs": [],
   "source": [
    "# Set"
   ]
  },
  {
   "cell_type": "code",
   "execution_count": 63,
   "id": "33bf1f3c-3cf0-4899-aef0-a34d4a033874",
   "metadata": {},
   "outputs": [
    {
     "name": "stdout",
     "output_type": "stream",
     "text": [
      "{1, 2, 3, 4, 5, 6, 7}\n"
     ]
    }
   ],
   "source": [
    "l = [1,2,3,4,5,6,7,6,5,4,3,2,1]\n",
    "l_set = set(l)\n",
    "print(l_set)"
   ]
  },
  {
   "cell_type": "code",
   "execution_count": 64,
   "id": "32a66abf-2bfd-465e-8183-d0919d711b0f",
   "metadata": {},
   "outputs": [
    {
     "data": {
      "text/plain": [
       "[1, 2, 3, 4, 5, 6, 7]"
      ]
     },
     "execution_count": 64,
     "metadata": {},
     "output_type": "execute_result"
    }
   ],
   "source": [
    "list(l_set)"
   ]
  },
  {
   "cell_type": "code",
   "execution_count": null,
   "id": "fb7be867-12fb-45f0-8bd9-a354b7771f07",
   "metadata": {},
   "outputs": [],
   "source": [
    "### remove duplicates\n",
    "### quick way using set"
   ]
  }
 ],
 "metadata": {
  "kernelspec": {
   "display_name": "Python 3",
   "language": "python",
   "name": "python3"
  },
  "language_info": {
   "codemirror_mode": {
    "name": "ipython",
    "version": 3
   },
   "file_extension": ".py",
   "mimetype": "text/x-python",
   "name": "python",
   "nbconvert_exporter": "python",
   "pygments_lexer": "ipython3",
   "version": "3.8.8"
  }
 },
 "nbformat": 4,
 "nbformat_minor": 5
}
