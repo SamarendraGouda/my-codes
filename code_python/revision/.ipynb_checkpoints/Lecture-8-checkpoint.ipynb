{
 "cells": [
  {
   "cell_type": "markdown",
   "id": "f27a10df-2286-46fb-b1fe-583176765a61",
   "metadata": {},
   "source": [
    "## Classes"
   ]
  },
  {
   "cell_type": "code",
   "execution_count": 1,
   "id": "15201031-94ff-4eba-8e88-b81237e98cdc",
   "metadata": {},
   "outputs": [],
   "source": [
    "class Person:\n",
    "    '''\n",
    "    This class creates an object for each Person\n",
    "    Arguements:\n",
    "    person_first_name: Person's first name\n",
    "    person_last_name: Person's last name\n",
    "    person_age: Person's age\n",
    "    '''\n",
    "    def __init__(self, person_first_name, person_last_name, person_age):\n",
    "        self.fname = person_first_name\n",
    "        self.lname = person_last_name\n",
    "        self.age = person_age\n",
    "    \n",
    "    def display_basic_information(self):\n",
    "        print(\"First Name:\", self.fname)\n",
    "        print(\"Last Name:\", self.lname)\n",
    "        print(\"Age:\", self.age)\n",
    "        \n",
    "    def getAge(self):\n",
    "        return self.age"
   ]
  },
  {
   "cell_type": "code",
   "execution_count": 2,
   "id": "9f464c17-c51c-4bfa-a5fa-353017e6a0ee",
   "metadata": {},
   "outputs": [],
   "source": [
    "p1 = Person(\"Vasu\", \"Mittal\", 18)\n",
    "p2 = Person(\"Aadi\", \"Jeevaraj\", 17)\n",
    "p3 = Person(\"Anubha\", \"Kanwar\", 18)"
   ]
  },
  {
   "cell_type": "code",
   "execution_count": 3,
   "id": "c4dfd06e-a5a2-4df5-ae19-6a3912071173",
   "metadata": {},
   "outputs": [
    {
     "name": "stdout",
     "output_type": "stream",
     "text": [
      "First Name: Anubha\n",
      "Last Name: Kanwar\n",
      "Age: 18\n"
     ]
    }
   ],
   "source": [
    "p3.display_basic_information()"
   ]
  },
  {
   "cell_type": "code",
   "execution_count": 4,
   "id": "c830eab4-ee84-474a-8357-5c6d20d79a1c",
   "metadata": {},
   "outputs": [
    {
     "data": {
      "text/plain": [
       "18"
      ]
     },
     "execution_count": 4,
     "metadata": {},
     "output_type": "execute_result"
    }
   ],
   "source": [
    "p1.getAge()"
   ]
  },
  {
   "cell_type": "code",
   "execution_count": 5,
   "id": "88956c31-9c15-42fc-adba-65cbee4dc7b8",
   "metadata": {},
   "outputs": [],
   "source": [
    "from datetime import date\n",
    "class Person:\n",
    "    '''\n",
    "    This class creates an object for each Person\n",
    "    Arguements:\n",
    "    person_first_name: Person's first name\n",
    "    person_last_name: Person's last name\n",
    "    person_age: Person's age\n",
    "    '''\n",
    "    def __init__(self, person_first_name, person_last_name, person_birth_year):\n",
    "        self.fname = person_first_name\n",
    "        self.lname = person_last_name\n",
    "        self.birthYear = person_birth_year\n",
    "    \n",
    "    def display_basic_information(self):\n",
    "        print(\"First Name:\", self.fname)\n",
    "        print(\"Last Name:\", self.lname)\n",
    "        print(\"Age:\", self.getAge())\n",
    "        \n",
    "    def getAge(self):\n",
    "        todays_date = date.today()\n",
    "        return todays_date.year-self.birthYear\n",
    "    \n",
    "    def getFullName(self):\n",
    "        return self.fname + \" \" + self.lname"
   ]
  },
  {
   "cell_type": "code",
   "execution_count": 6,
   "id": "43f4d661-d151-46b8-8910-4722aabe558c",
   "metadata": {},
   "outputs": [],
   "source": [
    "p1 = Person(\"Jitin\", \"Singla\", 1992)"
   ]
  },
  {
   "cell_type": "code",
   "execution_count": 7,
   "id": "35ba06ba-fd62-43be-8830-58b9c20820e8",
   "metadata": {},
   "outputs": [
    {
     "data": {
      "text/plain": [
       "30"
      ]
     },
     "execution_count": 7,
     "metadata": {},
     "output_type": "execute_result"
    }
   ],
   "source": [
    "p1.getAge()"
   ]
  },
  {
   "cell_type": "code",
   "execution_count": 8,
   "id": "69ea002b-5835-4340-a8c6-4681001e88e7",
   "metadata": {},
   "outputs": [
    {
     "data": {
      "text/plain": [
       "'Jitin Singla'"
      ]
     },
     "execution_count": 8,
     "metadata": {},
     "output_type": "execute_result"
    }
   ],
   "source": [
    "p1.getFullName()"
   ]
  },
  {
   "cell_type": "markdown",
   "id": "d3bd9542-2c2e-4d6a-bc66-92e93bf8ffcf",
   "metadata": {},
   "source": [
    "### Subclass of a Class"
   ]
  },
  {
   "cell_type": "code",
   "execution_count": 9,
   "id": "91de9aa5-8a72-419f-bf8e-f77f4f864f3e",
   "metadata": {},
   "outputs": [],
   "source": [
    "class Student(Person):\n",
    "    \n",
    "    def __init__(self, student_first_name, student_last_name, student_birth_year, student_program, student_department):\n",
    "        Person.__init__(self, student_first_name, student_last_name, student_birth_year)\n",
    "        # super().__init__(student_first_name, student_last_name, student_birth_year)\n",
    "        self.program = student_program\n",
    "        self.department = student_department\n",
    "\n",
    "class Faculty(Person):\n",
    "    \n",
    "    def __init__(self, faculty_first_name, faculty_last_name, faculty_birth_year, faculty_department, faculty_specialization):\n",
    "        Person.__init__(self, faculty_first_name, faculty_last_name, faculty_birth_year)\n",
    "        # super().__init__(student_first_name, student_last_name, student_birth_year)\n",
    "        self.specialization = faculty_specialization\n",
    "        self.department = faculty_department\n",
    "    \n",
    "    def display_basic_information_faculty(self):\n",
    "        self.display_basic_information()\n",
    "        print(\"Department:\", self.department)\n",
    "        print(\"Specialization:\", self.specialization)"
   ]
  },
  {
   "cell_type": "code",
   "execution_count": 10,
   "id": "70f1b85a-4c39-4215-9f06-5bb5ee621a17",
   "metadata": {},
   "outputs": [],
   "source": [
    "s1 = Student(\"Vasu\", \"Mittal\", 2004, \"BTech\", \"BSBE\")"
   ]
  },
  {
   "cell_type": "code",
   "execution_count": 11,
   "id": "f6936ecf-40aa-4c7a-93b6-acac50adc51c",
   "metadata": {},
   "outputs": [
    {
     "name": "stdout",
     "output_type": "stream",
     "text": [
      "First Name: Vasu\n",
      "Last Name: Mittal\n",
      "Age: 18\n"
     ]
    }
   ],
   "source": [
    "s1.display_basic_information()"
   ]
  },
  {
   "cell_type": "code",
   "execution_count": 12,
   "id": "1d922380-c0c1-4810-acf1-1c3eb8c9ed3a",
   "metadata": {},
   "outputs": [],
   "source": [
    "f1 = Faculty(\"Jitin\", \"Singla\", 1992, \"BSBE\", \"Computational Biology\")"
   ]
  },
  {
   "cell_type": "code",
   "execution_count": 13,
   "id": "adc17a2c-bffe-4e31-bc4b-04bd7b25c627",
   "metadata": {},
   "outputs": [
    {
     "name": "stdout",
     "output_type": "stream",
     "text": [
      "First Name: Jitin\n",
      "Last Name: Singla\n",
      "Age: 30\n",
      "Department: BSBE\n",
      "Specialization: Computational Biology\n"
     ]
    }
   ],
   "source": [
    "f1.display_basic_information_faculty()"
   ]
  },
  {
   "cell_type": "code",
   "execution_count": 14,
   "id": "f196c377-d648-40a2-a668-23c346595d0f",
   "metadata": {},
   "outputs": [
    {
     "data": {
      "text/plain": [
       "30"
      ]
     },
     "execution_count": 14,
     "metadata": {},
     "output_type": "execute_result"
    }
   ],
   "source": [
    "f1.getAge()"
   ]
  },
  {
   "cell_type": "code",
   "execution_count": 17,
   "id": "5bb73982-d3ec-4203-a444-598bc151192f",
   "metadata": {},
   "outputs": [
    {
     "data": {
      "text/plain": [
       "True"
      ]
     },
     "execution_count": 17,
     "metadata": {},
     "output_type": "execute_result"
    }
   ],
   "source": [
    "isinstance(f1, Person)"
   ]
  },
  {
   "cell_type": "code",
   "execution_count": 22,
   "id": "aa87f4fb-fa30-43ec-9f8d-f243a591713d",
   "metadata": {},
   "outputs": [
    {
     "data": {
      "text/plain": [
       "True"
      ]
     },
     "execution_count": 22,
     "metadata": {},
     "output_type": "execute_result"
    }
   ],
   "source": [
    "issubclass(Faculty, Person)"
   ]
  },
  {
   "cell_type": "code",
   "execution_count": 28,
   "id": "ab036b30-0743-4c92-9fc7-56f85dd68c97",
   "metadata": {},
   "outputs": [],
   "source": [
    "def add(a, b):\n",
    "    global c\n",
    "    c = a+b\n",
    "    return c"
   ]
  },
  {
   "cell_type": "code",
   "execution_count": 31,
   "id": "41fea2d9-c043-4e1e-a3b5-c86763536043",
   "metadata": {},
   "outputs": [
    {
     "data": {
      "text/plain": [
       "11"
      ]
     },
     "execution_count": 31,
     "metadata": {},
     "output_type": "execute_result"
    }
   ],
   "source": [
    "add(4, 5)\n",
    "add(10, 1)"
   ]
  },
  {
   "cell_type": "code",
   "execution_count": 34,
   "id": "2ea46a6c-c65c-40cf-b169-6ea4139ce9bf",
   "metadata": {},
   "outputs": [],
   "source": [
    "def substract(t):\n",
    "    return c-t"
   ]
  },
  {
   "cell_type": "code",
   "execution_count": 35,
   "id": "fe52c6c8-f2fe-49ac-b1c1-6969dbb7cca5",
   "metadata": {},
   "outputs": [
    {
     "data": {
      "text/plain": [
       "6"
      ]
     },
     "execution_count": 35,
     "metadata": {},
     "output_type": "execute_result"
    }
   ],
   "source": [
    "substract(5)"
   ]
  }
 ],
 "metadata": {
  "kernelspec": {
   "display_name": "Python 3",
   "language": "python",
   "name": "python3"
  },
  "language_info": {
   "codemirror_mode": {
    "name": "ipython",
    "version": 3
   },
   "file_extension": ".py",
   "mimetype": "text/x-python",
   "name": "python",
   "nbconvert_exporter": "python",
   "pygments_lexer": "ipython3",
   "version": "3.8.8"
  }
 },
 "nbformat": 4,
 "nbformat_minor": 5
}
