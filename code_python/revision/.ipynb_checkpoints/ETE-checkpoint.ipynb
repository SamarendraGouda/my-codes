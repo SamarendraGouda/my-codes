{
 "cells": [
  {
   "cell_type": "markdown",
   "id": "02774fb1-48ee-45a4-9e98-c2cba4b7ea33",
   "metadata": {
    "tags": []
   },
   "source": [
    "# End Term Examination : BE-103"
   ]
  },
  {
   "cell_type": "markdown",
   "id": "81381ae7-848c-4b41-b586-a86d507a4775",
   "metadata": {},
   "source": [
    "### Part:2 Samarendra Gouda Enrollment No. 21111031"
   ]
  },
  {
   "cell_type": "code",
   "execution_count": null,
   "id": "4357fccf-078f-499b-a228-807a9a013983",
   "metadata": {},
   "outputs": [],
   "source": [
    "# Q1\n",
    "x = 1\n",
    "while x>0:\n",
    "    print(\"This is an Infinite Loop!\")"
   ]
  },
  {
   "cell_type": "code",
   "execution_count": 25,
   "id": "ab501a44-c4c8-4845-8ae1-bc658c49cfd4",
   "metadata": {},
   "outputs": [
    {
     "name": "stdout",
     "output_type": "stream",
     "text": [
      "tema tis rolod muspi meroL\n"
     ]
    }
   ],
   "source": [
    "# Q2\n",
    "var1 = \"Lorem ipsum dolor sit amet\"\n",
    "rev_var1 = \"\"\n",
    "for i in var1:\n",
    "    rev_var1 = i + rev_var1\n",
    "print(rev_var1)"
   ]
  },
  {
   "cell_type": "code",
   "execution_count": 24,
   "id": "6069adde-fc4c-4bbd-b51f-e00704057192",
   "metadata": {},
   "outputs": [
    {
     "name": "stdout",
     "output_type": "stream",
     "text": [
      "5\n"
     ]
    }
   ],
   "source": [
    "# Q3\n",
    "var2 = \"Lorem iPsum DoloR sit Amet\"\n",
    "numUpper = 0\n",
    "for i in var2:\n",
    "    if i.isupper() == True:\n",
    "        numUpper += 1\n",
    "print(numUpper)"
   ]
  },
  {
   "cell_type": "code",
   "execution_count": 35,
   "id": "7a219656-023f-4f97-a809-f706b8dc17d3",
   "metadata": {},
   "outputs": [
    {
     "name": "stdout",
     "output_type": "stream",
     "text": [
      "trans\n"
     ]
    }
   ],
   "source": [
    "# Q4\n",
    "var3 = [\"transport\", \"transmission\", \"transitory\"]\n",
    "pre = var3[0]\n",
    "for string in var3[1:]:\n",
    "    while string[:len(pre)] != pre and pre:\n",
    "        pre = pre[:len(pre)-1]\n",
    "    if not pre:\n",
    "        break\n",
    "print(str(pre))"
   ]
  },
  {
   "cell_type": "code",
   "execution_count": 22,
   "id": "b79acaa8-3288-4ec3-be65-8a31b482acc2",
   "metadata": {},
   "outputs": [
    {
     "name": "stdout",
     "output_type": "stream",
     "text": [
      "4   46\n",
      "5   45\n",
      "8   42\n",
      "10   40\n",
      "34   16\n"
     ]
    }
   ],
   "source": [
    "# Q5\n",
    "var4 = [4, 5, 8, 10, 45, 34, 67, 16, 85, 61, 42, 40, 46]\n",
    "for i in range(0,len(var4)):\n",
    "    for j in range(i+1,len(var4)):\n",
    "        sum = var4[i]+var4[j]\n",
    "        if sum == 50:\n",
    "            print(var4[i],\" \",var4[j])\n"
   ]
  },
  {
   "cell_type": "code",
   "execution_count": 32,
   "id": "316759c8-b5ef-476e-8637-ce43cb7eda4d",
   "metadata": {},
   "outputs": [
    {
     "name": "stdout",
     "output_type": "stream",
     "text": [
      "6\n"
     ]
    }
   ],
   "source": [
    "# Q6\n",
    "var5 = [0, 1, 1, 1, 0, 0, 1, 0, 1, 1, 1, 1, 1, 1, 0, 0, 1, 1, 0]\n",
    "st = \"\"\n",
    "for elem in var5:\n",
    "    st = st + str(elem)\n",
    "st_l = st.split(\"0\")\n",
    "st_l.sort()\n",
    "print(len(st_l[-1]))"
   ]
  },
  {
   "cell_type": "code",
   "execution_count": 17,
   "id": "b93984ef-e629-4575-a3ae-5509977f37a6",
   "metadata": {},
   "outputs": [
    {
     "name": "stdout",
     "output_type": "stream",
     "text": [
      "{'Q': 'q', 'W': 'w', 'E': 'e'}\n"
     ]
    }
   ],
   "source": [
    "# Q7\n",
    "# Exchange the key value pair in var6\n",
    "var6 = {'q': 'Q', 'w': 'W', 'e': 'E'}\n",
    "var6_swapped = dict([(value, key) for key, value in var6.items()])\n",
    "print(var6_swapped)"
   ]
  },
  {
   "cell_type": "code",
   "execution_count": 15,
   "id": "093674c1-b95d-4ce1-a810-4fa3b99bb1e0",
   "metadata": {},
   "outputs": [
    {
     "name": "stdout",
     "output_type": "stream",
     "text": [
      "MangO\n",
      "Banana\n",
      "aPPle\n",
      "Mango\n",
      "banana\n",
      "Apple\n",
      "mango\n"
     ]
    }
   ],
   "source": [
    "# Q8\n",
    "var7 = [\"Mango\", \"banana\", \"aPPle\", \"Apple\", \"mango\", \"Banana\", \"MangO\"]\n",
    "for elem in var7:\n",
    "    elem = elem.capitalize()\n",
    "s_var7 = set(var7)\n",
    "for ele in s_var7:\n",
    "    print(ele)"
   ]
  },
  {
   "cell_type": "code",
   "execution_count": 6,
   "id": "70811356-3c27-439b-9c00-e3eb8fdc2ea1",
   "metadata": {},
   "outputs": [
    {
     "name": "stdout",
     "output_type": "stream",
     "text": [
      "14\n"
     ]
    }
   ],
   "source": [
    "# Q9\n",
    "# Lambda Function to add three numbers\n",
    "\n",
    "\n",
    "sum = lambda a,b,c: a+b+c\n",
    "print(sum(2,3,9))"
   ]
  },
  {
   "cell_type": "code",
   "execution_count": 13,
   "id": "5acae4b6-38d5-4c92-bd88-e7b42fc5f2a1",
   "metadata": {},
   "outputs": [
    {
     "data": {
      "text/plain": [
       "{'car': 1, 'bus': 2, 'apple': 1, 'mango': 3}"
      ]
     },
     "execution_count": 13,
     "metadata": {},
     "output_type": "execute_result"
    }
   ],
   "source": [
    "# Q10\n",
    "var8 = [\"car\", \"mango\", \"bus\", \"mango\", \"apple\", \"mango\", \"bus\"]\n",
    "keys = set(var8)\n",
    "dict1 = {}\n",
    "for key in keys:\n",
    "    dict1[key] = var8.count(key)\n",
    "    \n",
    "dict1"
   ]
  },
  {
   "cell_type": "code",
   "execution_count": 8,
   "id": "9f4fea5c-20bf-425b-bd37-0d6003a65a99",
   "metadata": {},
   "outputs": [
    {
     "name": "stdout",
     "output_type": "stream",
     "text": [
      "15\n"
     ]
    }
   ],
   "source": [
    "# Q11\n",
    "# print the sum of the digits in var9\n",
    "var9 = 4371\n",
    "s_var9 = str(var9)\n",
    "sum = 0\n",
    "for i in s_var9:\n",
    "    sum += int(i)\n",
    "print(sum)"
   ]
  },
  {
   "cell_type": "code",
   "execution_count": 9,
   "id": "e312020e-0085-4efe-bc8c-d0d6bfbce6db",
   "metadata": {},
   "outputs": [
    {
     "name": "stdout",
     "output_type": "stream",
     "text": [
      "101 103 107 109 113 127 131 137 139 149 151 157 163 167 173 179 181 191 193 197 199 "
     ]
    }
   ],
   "source": [
    "# Q12\n",
    "# Print prime numbers between 100 to 200\n",
    "for n in range(100,201):\n",
    "    count = 0\n",
    "    for i in range(2, n//2+1):\n",
    "        if n%i == 0:\n",
    "            count +=1\n",
    "            break\n",
    "    if (count == 0 and n !=1):\n",
    "        print(n, end=\" \")"
   ]
  },
  {
   "cell_type": "code",
   "execution_count": 10,
   "id": "abef3361-3eae-430b-b73c-3e0889960e69",
   "metadata": {},
   "outputs": [],
   "source": [
    "# Q13.a\n",
    "class Qwerty:\n",
    "    pass\n",
    "person1 = Qwerty()\n",
    "person1.name = \"Samarendra\"\n",
    "person1.enrollment = 21111031\n",
    "person1.dept = \"BSBE\""
   ]
  },
  {
   "cell_type": "code",
   "execution_count": 12,
   "id": "6c3a3050-0570-4aad-b528-060dc247182d",
   "metadata": {},
   "outputs": [
    {
     "data": {
      "text/plain": [
       "'Samarendra'"
      ]
     },
     "execution_count": 12,
     "metadata": {},
     "output_type": "execute_result"
    }
   ],
   "source": [
    "person1.name"
   ]
  },
  {
   "cell_type": "code",
   "execution_count": 13,
   "id": "b4b0b8d2-8203-47da-b6c7-0946b02d9797",
   "metadata": {},
   "outputs": [
    {
     "data": {
      "text/plain": [
       "21111031"
      ]
     },
     "execution_count": 13,
     "metadata": {},
     "output_type": "execute_result"
    }
   ],
   "source": [
    "person1.enrollment"
   ]
  },
  {
   "cell_type": "code",
   "execution_count": 15,
   "id": "d5d013cc-a9c4-440b-8d92-6b0401a2a475",
   "metadata": {},
   "outputs": [
    {
     "data": {
      "text/plain": [
       "'BSBE'"
      ]
     },
     "execution_count": 15,
     "metadata": {},
     "output_type": "execute_result"
    }
   ],
   "source": [
    "person1.dept"
   ]
  },
  {
   "cell_type": "code",
   "execution_count": 1,
   "id": "164b42c1-ff1a-4540-9cf5-eae419e97450",
   "metadata": {},
   "outputs": [],
   "source": [
    "# Q13.b\n",
    "class Qwerty:\n",
    "    def __init__(self,x,y,z):\n",
    "        self.x = x\n",
    "        self.y = y\n",
    "        self.z = z\n",
    "    def getX(self):\n",
    "        return self.x"
   ]
  },
  {
   "cell_type": "code",
   "execution_count": 3,
   "id": "b64c0f10-6caa-40c9-9dca-22fdf56d9b2a",
   "metadata": {},
   "outputs": [
    {
     "data": {
      "text/plain": [
       "12"
      ]
     },
     "execution_count": 3,
     "metadata": {},
     "output_type": "execute_result"
    }
   ],
   "source": [
    "numbers = Qwerty(12,13,14)\n",
    "numbers.getX()"
   ]
  },
  {
   "cell_type": "code",
   "execution_count": 4,
   "id": "227885eb-7b1e-4fef-aa85-4ace69b6f328",
   "metadata": {},
   "outputs": [
    {
     "data": {
      "text/plain": [
       "13"
      ]
     },
     "execution_count": 4,
     "metadata": {},
     "output_type": "execute_result"
    }
   ],
   "source": [
    "numbers.y"
   ]
  },
  {
   "cell_type": "code",
   "execution_count": 9,
   "id": "42dc595d-46d1-4e24-b2b7-3822fe4597ba",
   "metadata": {},
   "outputs": [],
   "source": [
    "# Q14\n",
    "class Qwerty:\n",
    "    def __init__(self,x,y,z):\n",
    "        self.x = x\n",
    "        self.y = y\n",
    "        self.z = z\n",
    "  #Method to retrive the x and y value\n",
    "    def getXY(self):\n",
    "        print(\"The x value is:\",self.x,\" and the y value is:\",self.y)\n",
    "  # Method to print the sum of x,y,z  \n",
    "    def getSum(self):\n",
    "        print(\"The sum of x,y and z\",self.x+self.y+self.z)"
   ]
  },
  {
   "cell_type": "code",
   "execution_count": 3,
   "id": "54585699-1508-48e8-9a99-a9ca825cedc8",
   "metadata": {},
   "outputs": [],
   "source": [
    "numbers = Qwerty(19,20,21)"
   ]
  },
  {
   "cell_type": "code",
   "execution_count": 10,
   "id": "f92f447c-0763-4cb9-91f7-5fd21c6d2741",
   "metadata": {},
   "outputs": [
    {
     "data": {
      "text/plain": [
       "('The x value is:', 19, ' and the y value is:', 20)"
      ]
     },
     "execution_count": 10,
     "metadata": {},
     "output_type": "execute_result"
    }
   ],
   "source": [
    "numbers.getXY()"
   ]
  },
  {
   "cell_type": "code",
   "execution_count": 11,
   "id": "73f72f8a-cb67-4276-89ef-a1806a799f23",
   "metadata": {},
   "outputs": [
    {
     "data": {
      "text/plain": [
       "('The sum of x,y and z', 60)"
      ]
     },
     "execution_count": 11,
     "metadata": {},
     "output_type": "execute_result"
    }
   ],
   "source": [
    "numbers.getSum()"
   ]
  },
  {
   "cell_type": "code",
   "execution_count": null,
   "id": "ad9089f4-bb38-475c-9197-bd5e18d5a4a9",
   "metadata": {},
   "outputs": [],
   "source": []
  }
 ],
 "metadata": {
  "kernelspec": {
   "display_name": "Python 3 (ipykernel)",
   "language": "python",
   "name": "python3"
  },
  "language_info": {
   "codemirror_mode": {
    "name": "ipython",
    "version": 3
   },
   "file_extension": ".py",
   "mimetype": "text/x-python",
   "name": "python",
   "nbconvert_exporter": "python",
   "pygments_lexer": "ipython3",
   "version": "3.9.7"
  }
 },
 "nbformat": 4,
 "nbformat_minor": 5
}
