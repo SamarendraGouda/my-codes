{
 "cells": [
  {
   "cell_type": "code",
   "execution_count": 1,
   "id": "4af4c6e9-56d8-404b-b07a-19035b0f41cd",
   "metadata": {},
   "outputs": [],
   "source": [
    "import logging"
   ]
  },
  {
   "cell_type": "code",
   "execution_count": 2,
   "id": "ea4ecee6-def3-463d-91f5-cbab38bb4649",
   "metadata": {},
   "outputs": [
    {
     "name": "stderr",
     "output_type": "stream",
     "text": [
      "WARNING:root:Hey There!\n"
     ]
    }
   ],
   "source": [
    "logging.warning(\"Hey There!\")"
   ]
  },
  {
   "cell_type": "code",
   "execution_count": 3,
   "id": "0b6ce42d-d99c-432a-b443-c6cc3aa8fa23",
   "metadata": {},
   "outputs": [],
   "source": [
    "logging.info(\"Hey There!\")"
   ]
  },
  {
   "cell_type": "code",
   "execution_count": 4,
   "id": "7387aeeb-9e14-4d9c-bc17-f35241eca77e",
   "metadata": {},
   "outputs": [
    {
     "name": "stderr",
     "output_type": "stream",
     "text": [
      "ERROR:root:An Error Occured.\n"
     ]
    }
   ],
   "source": [
    "logging.error(\"An Error Occured.\")"
   ]
  },
  {
   "cell_type": "code",
   "execution_count": 5,
   "id": "7c783e5e-198d-4cf4-b19d-a3a6a68d1d59",
   "metadata": {},
   "outputs": [
    {
     "name": "stderr",
     "output_type": "stream",
     "text": [
      "CRITICAL:root:This is a Critical Error\n"
     ]
    }
   ],
   "source": [
    "logging.critical('This is a Critical Error')"
   ]
  },
  {
   "cell_type": "code",
   "execution_count": 6,
   "id": "8c1c140a-10b3-4822-ae68-638590c8da96",
   "metadata": {},
   "outputs": [
    {
     "name": "stderr",
     "output_type": "stream",
     "text": [
      "ERROR:root:Can't divide by Zero\n",
      "NoneType: None\n"
     ]
    }
   ],
   "source": [
    "logging.exception(\"Can't divide by Zero\")"
   ]
  },
  {
   "cell_type": "markdown",
   "id": "e1d822f4-c0bb-4995-9083-d33d8a6b0b25",
   "metadata": {},
   "source": [
    "### Logging to a file"
   ]
  },
  {
   "cell_type": "code",
   "execution_count": 2,
   "id": "be5ca209-80ed-4bfe-acb3-1ffb34d0b468",
   "metadata": {},
   "outputs": [],
   "source": [
    "logging.basicConfig(filename=\"hi.log\", level=logging.ERROR)"
   ]
  },
  {
   "cell_type": "code",
   "execution_count": 3,
   "id": "2e067cc5-7bd5-419b-8934-4b92c2289424",
   "metadata": {},
   "outputs": [],
   "source": [
    "logging.info(\"Hey There\")"
   ]
  },
  {
   "cell_type": "code",
   "execution_count": 4,
   "id": "c291efcb-3e95-4369-9145-dc59ec6db867",
   "metadata": {},
   "outputs": [],
   "source": [
    "logging.warning(\"Watch Out!\")"
   ]
  },
  {
   "cell_type": "code",
   "execution_count": 5,
   "id": "751c2f78-f813-415b-9bda-fc7410da2db0",
   "metadata": {},
   "outputs": [],
   "source": [
    "logging.error(\"Error\")"
   ]
  },
  {
   "cell_type": "code",
   "execution_count": null,
   "id": "bbfed4bf-df99-43a4-928f-b92c143fba5a",
   "metadata": {},
   "outputs": [],
   "source": []
  }
 ],
 "metadata": {
  "kernelspec": {
   "display_name": "Python 3 (ipykernel)",
   "language": "python",
   "name": "python3"
  },
  "language_info": {
   "codemirror_mode": {
    "name": "ipython",
    "version": 3
   },
   "file_extension": ".py",
   "mimetype": "text/x-python",
   "name": "python",
   "nbconvert_exporter": "python",
   "pygments_lexer": "ipython3",
   "version": "3.9.7"
  }
 },
 "nbformat": 4,
 "nbformat_minor": 5
}
