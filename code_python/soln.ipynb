{
 "cells": [
  {
   "cell_type": "code",
   "execution_count": 1,
   "id": "05a4d074-1cfb-476d-81fc-53399f6f1829",
   "metadata": {},
   "outputs": [
    {
     "name": "stdout",
     "output_type": "stream",
     "text": [
      "[0, 12, 34, 37, 50, 64, 72, 89, 90, 789]\n"
     ]
    }
   ],
   "source": [
    "### Find two largest and two smallest numbers in a list.\n",
    "l = [50,37,89,12,0,72,64,90,789,34]\n",
    "l.sort()\n",
    "print(l)"
   ]
  },
  {
   "cell_type": "code",
   "execution_count": 2,
   "id": "59053f6f-4396-490a-8503-289067057101",
   "metadata": {},
   "outputs": [
    {
     "name": "stdout",
     "output_type": "stream",
     "text": [
      "The Two Largest numbers are: 90 789\n"
     ]
    }
   ],
   "source": [
    "print(\"The Two Largest numbers are:\",l[-2],l[-1])"
   ]
  },
  {
   "cell_type": "code",
   "execution_count": 3,
   "id": "79bad15d-98b9-43bb-8e9d-eaa419f04246",
   "metadata": {},
   "outputs": [
    {
     "name": "stdout",
     "output_type": "stream",
     "text": [
      "The two smallest numbers are: 0 12\n"
     ]
    }
   ],
   "source": [
    "print(\"The two smallest numbers are:\",l[0],l[1])"
   ]
  },
  {
   "cell_type": "code",
   "execution_count": 4,
   "id": "28958119-1b92-43ab-94db-c5338e6ca1f4",
   "metadata": {},
   "outputs": [
    {
     "name": "stdout",
     "output_type": "stream",
     "text": [
      "2\n",
      "3\n",
      "5\n",
      "7\n",
      "11\n",
      "13\n",
      "17\n",
      "19\n",
      "23\n",
      "29\n",
      "31\n",
      "37\n",
      "41\n",
      "43\n",
      "47\n",
      "53\n",
      "59\n",
      "61\n",
      "67\n",
      "71\n",
      "73\n",
      "79\n",
      "83\n",
      "89\n",
      "97\n",
      "101\n",
      "103\n",
      "107\n",
      "109\n",
      "113\n",
      "127\n",
      "131\n",
      "137\n",
      "139\n",
      "149\n",
      "151\n",
      "157\n",
      "163\n",
      "167\n",
      "173\n",
      "179\n",
      "181\n",
      "191\n",
      "193\n",
      "197\n",
      "199\n"
     ]
    }
   ],
   "source": [
    "# Prime Numbers between 1 to 200\n",
    "for n in range(1,201):\n",
    "    count = 0\n",
    "    for i in range(2, n//2+1):\n",
    "        if n%i == 0:\n",
    "            count +=1\n",
    "            break\n",
    "    if (count == 0 and n !=1):\n",
    "        print(n, end=\"\\n\")"
   ]
  },
  {
   "cell_type": "code",
   "execution_count": 5,
   "id": "ab463619-1290-41c1-b2ed-8d1f522e286e",
   "metadata": {},
   "outputs": [
    {
     "ename": "AttributeError",
     "evalue": "'str' object has no attribute 'reverse'",
     "output_type": "error",
     "traceback": [
      "\u001b[1;31m---------------------------------------------------------------------------\u001b[0m",
      "\u001b[1;31mAttributeError\u001b[0m                            Traceback (most recent call last)",
      "\u001b[1;32m~\\AppData\\Local\\Temp/ipykernel_39276/3308470300.py\u001b[0m in \u001b[0;36m<module>\u001b[1;34m\u001b[0m\n\u001b[0;32m      1\u001b[0m \u001b[0ms\u001b[0m \u001b[1;33m=\u001b[0m \u001b[1;34m\"Samarendra\"\u001b[0m\u001b[1;33m\u001b[0m\u001b[1;33m\u001b[0m\u001b[0m\n\u001b[1;32m----> 2\u001b[1;33m \u001b[0ms_rev\u001b[0m \u001b[1;33m=\u001b[0m \u001b[0ms\u001b[0m\u001b[1;33m.\u001b[0m\u001b[0mreverse\u001b[0m\u001b[1;33m(\u001b[0m\u001b[1;33m)\u001b[0m\u001b[1;33m\u001b[0m\u001b[1;33m\u001b[0m\u001b[0m\n\u001b[0m\u001b[0;32m      3\u001b[0m \u001b[0ms_rev\u001b[0m\u001b[1;33m\u001b[0m\u001b[1;33m\u001b[0m\u001b[0m\n",
      "\u001b[1;31mAttributeError\u001b[0m: 'str' object has no attribute 'reverse'"
     ]
    }
   ],
   "source": [
    "s = \"Samarendra\"\n",
    "\n",
    "s_rev"
   ]
  },
  {
   "cell_type": "code",
   "execution_count": null,
   "id": "0038d963-d14b-4d18-9d9b-bee836b38023",
   "metadata": {},
   "outputs": [],
   "source": []
  },
  {
   "cell_type": "code",
   "execution_count": 6,
   "id": "6f799fd8-3c9e-4314-895f-47e72efd09e4",
   "metadata": {},
   "outputs": [
    {
     "name": "stdout",
     "output_type": "stream",
     "text": [
      "ardneramaS\n"
     ]
    }
   ],
   "source": [
    "s = \"Samarendra\"\n",
    "print (s[::-1])"
   ]
  },
  {
   "cell_type": "code",
   "execution_count": 7,
   "id": "04a3d010-35f0-44cf-ad98-c2157a776b81",
   "metadata": {},
   "outputs": [
    {
     "name": "stdout",
     "output_type": "stream",
     "text": [
      "ardneramaS\n"
     ]
    }
   ],
   "source": [
    "s_rev = s[::-1]\n",
    "print(s_rev)"
   ]
  },
  {
   "cell_type": "code",
   "execution_count": null,
   "id": "722708b9-d9d9-4bd8-8b80-34e17e166074",
   "metadata": {},
   "outputs": [],
   "source": [
    "# Q8\n",
    "var7 = [\"Mango\", \"banana\", \"aPPle\", \"Apple\", \"mango\", \"Banana\", \"MangO\"]\n"
   ]
  },
  {
   "cell_type": "code",
   "execution_count": null,
   "id": "b15fc060-eeca-4b34-a6c3-c8e7a6a699fb",
   "metadata": {},
   "outputs": [],
   "source": [
    "for elem in var7:\n",
    "    elem = elem.capitalize()\n",
    "s_var7 = set(var7)\n",
    "for ele in s_var7:\n",
    "    print(ele)"
   ]
  }
 ],
 "metadata": {
  "kernelspec": {
   "display_name": "Python 3 (ipykernel)",
   "language": "python",
   "name": "python3"
  },
  "language_info": {
   "codemirror_mode": {
    "name": "ipython",
    "version": 3
   },
   "file_extension": ".py",
   "mimetype": "text/x-python",
   "name": "python",
   "nbconvert_exporter": "python",
   "pygments_lexer": "ipython3",
   "version": "3.9.7"
  }
 },
 "nbformat": 4,
 "nbformat_minor": 5
}
