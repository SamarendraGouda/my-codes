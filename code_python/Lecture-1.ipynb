{
 "cells": [
  {
   "cell_type": "markdown",
   "id": "dd579714-e526-43af-b567-2457b67d9fc5",
   "metadata": {},
   "source": [
    "### Computer Programming: Python-101"
   ]
  },
  {
   "cell_type": "code",
   "execution_count": 7,
   "id": "b9515a14-5a29-4cf5-8e04-c2e35d021ae3",
   "metadata": {},
   "outputs": [],
   "source": [
    "x = '''Python'''\n",
    "y = 34\n",
    "z = 45.454"
   ]
  },
  {
   "cell_type": "code",
   "execution_count": 26,
   "id": "51cf67db-5c33-4cc5-b084-10a074ed4f81",
   "metadata": {},
   "outputs": [
    {
     "name": "stdout",
     "output_type": "stream",
     "text": [
      "Python 34 45.454\n"
     ]
    }
   ],
   "source": [
    "print(x, y, z)"
   ]
  },
  {
   "cell_type": "code",
   "execution_count": 16,
   "id": "c2515926-a6ae-40b0-b1df-1c4eb1e8bbc5",
   "metadata": {},
   "outputs": [
    {
     "name": "stdout",
     "output_type": "stream",
     "text": [
      "34.0\n"
     ]
    },
    {
     "data": {
      "text/plain": [
       "float"
      ]
     },
     "execution_count": 16,
     "metadata": {},
     "output_type": "execute_result"
    }
   ],
   "source": [
    "y1 = float(y)\n",
    "print(y1)\n",
    "type(y1)"
   ]
  },
  {
   "cell_type": "code",
   "execution_count": 32,
   "id": "5987241c-9727-460b-8d47-4ab9dc8f00b1",
   "metadata": {},
   "outputs": [
    {
     "name": "stdout",
     "output_type": "stream",
     "text": [
      "jkhdfj fdsjfh sdfhs dlkfsdlkf sdkfj sdkl sdlj sdlk sdlkf sdlkf sdlk\n"
     ]
    }
   ],
   "source": [
    "TEST_34string = \"jkhdfj fdsjfh sdfhs dlkfsdlkf sdkfj sdkl sdlj sdlk sdlkf sdlkf sdlk\"\n",
    "print(TEST_34string)"
   ]
  },
  {
   "cell_type": "code",
   "execution_count": 33,
   "id": "408c0ffa-9775-47ff-b5a7-f65a8f7ca497",
   "metadata": {},
   "outputs": [
    {
     "name": "stdout",
     "output_type": "stream",
     "text": [
      "ljhgjfg\n",
      "jhsdfjfh\n",
      "jkhjhsdfjhsdjkfh jkdhf jdhfjksdfhsd\n",
      "sdj fhsdjkfhsdkjfhdsjf\n",
      "sdfjsdhfsdjkfhsdkfhsdkjfhsdkjf\n",
      "\n"
     ]
    }
   ],
   "source": [
    "long_string = '''ljhgjfg\n",
    "jhsdfjfh\n",
    "jkhjhsdfjhsdjkfh jkdhf jdhfjksdfhsd\n",
    "sdj fhsdjkfhsdkjfhdsjf\n",
    "sdfjsdhfsdjkfhsdkfhsdkjfhsdkjf\n",
    "'''\n",
    "print(long_string)"
   ]
  },
  {
   "cell_type": "code",
   "execution_count": 35,
   "id": "930c11e2-aa6e-4a54-83d3-cb91d599e3c5",
   "metadata": {},
   "outputs": [
    {
     "name": "stdout",
     "output_type": "stream",
     "text": [
      "6\n"
     ]
    }
   ],
   "source": [
    "# this is comment\n",
    "# dsjfhsd\n",
    "# dfgkljdf kg\n",
    "'''\n",
    "A long comment\n",
    "kjfkds skflj sklsg j\n",
    "klfs gklfgj \n",
    "df gkf dg\n",
    "kf glk  fdg\n",
    "'''\n",
    "c = 6 # nkjkkf\n",
    "print(c)"
   ]
  },
  {
   "cell_type": "code",
   "execution_count": 10,
   "id": "6099b357-6db2-4701-b18b-df86292795b1",
   "metadata": {},
   "outputs": [
    {
     "name": "stdout",
     "output_type": "stream",
     "text": [
      "34\n"
     ]
    },
    {
     "data": {
      "text/plain": [
       "str"
      ]
     },
     "execution_count": 10,
     "metadata": {},
     "output_type": "execute_result"
    }
   ],
   "source": [
    "y_1 = str(y)\n",
    "print(y_1)\n",
    "type(y_1)"
   ]
  },
  {
   "cell_type": "code",
   "execution_count": 22,
   "id": "a47e35c1-3628-49e0-9e4b-c275d1acf0fd",
   "metadata": {},
   "outputs": [
    {
     "ename": "TypeError",
     "evalue": "unsupported operand type(s) for +: 'int' and 'str'",
     "output_type": "error",
     "traceback": [
      "\u001b[1;31m---------------------------------------------------------------------------\u001b[0m",
      "\u001b[1;31mTypeError\u001b[0m                                 Traceback (most recent call last)",
      "\u001b[1;32m~\\AppData\\Local\\Temp/ipykernel_47880/774403702.py\u001b[0m in \u001b[0;36m<module>\u001b[1;34m\u001b[0m\n\u001b[0;32m      2\u001b[0m \u001b[0mp\u001b[0m \u001b[1;33m=\u001b[0m \u001b[1;34m\"S\"\u001b[0m\u001b[1;33m\u001b[0m\u001b[1;33m\u001b[0m\u001b[0m\n\u001b[0;32m      3\u001b[0m \u001b[1;33m\u001b[0m\u001b[0m\n\u001b[1;32m----> 4\u001b[1;33m \u001b[0mprint\u001b[0m\u001b[1;33m(\u001b[0m\u001b[0mq\u001b[0m\u001b[1;33m+\u001b[0m\u001b[0mp\u001b[0m\u001b[1;33m)\u001b[0m\u001b[1;33m\u001b[0m\u001b[1;33m\u001b[0m\u001b[0m\n\u001b[0m\u001b[0;32m      5\u001b[0m \u001b[0mtype\u001b[0m\u001b[1;33m(\u001b[0m\u001b[0mq\u001b[0m\u001b[1;33m)\u001b[0m\u001b[1;33m\u001b[0m\u001b[1;33m\u001b[0m\u001b[0m\n",
      "\u001b[1;31mTypeError\u001b[0m: unsupported operand type(s) for +: 'int' and 'str'"
     ]
    }
   ],
   "source": [
    "q = 200\n",
    "p = \"S\"\n",
    "\n",
    "print(q+p)\n",
    "type(q)"
   ]
  },
  {
   "cell_type": "code",
   "execution_count": 41,
   "id": "7efb21d4-8515-416b-8b79-ce6af877e0b9",
   "metadata": {},
   "outputs": [
    {
     "name": "stdout",
     "output_type": "stream",
     "text": [
      "T\n"
     ]
    }
   ],
   "source": [
    "test = \"This is Python Class\"\n",
    "print(test[0])"
   ]
  },
  {
   "cell_type": "code",
   "execution_count": 54,
   "id": "441f7ea8-2327-4e6c-9b5a-2d599a9ef347",
   "metadata": {},
   "outputs": [
    {
     "name": "stdout",
     "output_type": "stream",
     "text": [
      "This is Python Cla\n"
     ]
    }
   ],
   "source": [
    "print(test[0:-2])"
   ]
  },
  {
   "cell_type": "code",
   "execution_count": null,
   "id": "078fd7d9-96a5-42b0-84db-a999443dc862",
   "metadata": {},
   "outputs": [],
   "source": [
    "# x:y => x, x+1, x+2, ..... y-1"
   ]
  },
  {
   "cell_type": "code",
   "execution_count": 46,
   "id": "b6800f13-9f3b-41f3-829a-47748aa6244b",
   "metadata": {},
   "outputs": [
    {
     "data": {
      "text/plain": [
       "20"
      ]
     },
     "execution_count": 46,
     "metadata": {},
     "output_type": "execute_result"
    }
   ],
   "source": [
    "len(test)"
   ]
  },
  {
   "cell_type": "code",
   "execution_count": 36,
   "id": "4318953c-b098-4ab5-a6a7-a097b278da21",
   "metadata": {},
   "outputs": [
    {
     "name": "stdout",
     "output_type": "stream",
     "text": [
      "This is Python Class\n"
     ]
    }
   ],
   "source": [
    "print(test[:10])"
   ]
  },
  {
   "cell_type": "code",
   "execution_count": 37,
   "id": "2dc728d5-285e-4a0f-b1e3-41b42751b8bf",
   "metadata": {},
   "outputs": [
    {
     "name": "stdout",
     "output_type": "stream",
     "text": [
      "1408966626224\n",
      "1409013224432\n"
     ]
    }
   ],
   "source": [
    "test = \"Python\"\n",
    "print(id(test))\n",
    "test = \"Code\"\n",
    "print(id(test))"
   ]
  },
  {
   "cell_type": "code",
   "execution_count": 38,
   "id": "0b738ebb-45ce-4b92-8991-13bb86d1baf1",
   "metadata": {},
   "outputs": [
    {
     "data": {
      "text/plain": [
       "1409042664240"
      ]
     },
     "execution_count": 38,
     "metadata": {},
     "output_type": "execute_result"
    }
   ],
   "source": [
    "test = \"Reassign\"\n",
    "id(test)"
   ]
  },
  {
   "cell_type": "markdown",
   "id": "b1561e28-7675-4e46-914f-294ad6ff5c1d",
   "metadata": {},
   "source": [
    "### String operations"
   ]
  },
  {
   "cell_type": "code",
   "execution_count": 40,
   "id": "483ce369-6f0f-48e2-b430-88e17242e220",
   "metadata": {},
   "outputs": [
    {
     "name": "stdout",
     "output_type": "stream",
     "text": [
      "JITIN SINGLA\n"
     ]
    }
   ],
   "source": [
    "s1 = \"JITIN \"\n",
    "s2 = \"SINGLA\"\n",
    "s3 = s1 + s2\n",
    "print(s3)"
   ]
  },
  {
   "cell_type": "code",
   "execution_count": 1,
   "id": "41bda547-bf00-453a-bfe6-070e8fb8387f",
   "metadata": {},
   "outputs": [
    {
     "name": "stdout",
     "output_type": "stream",
     "text": [
      "test testing tested.\n"
     ]
    }
   ],
   "source": [
    "string = \"test\" + \" \" + \"testing\" + \" \" + \"tested\" + \".\"\n",
    "print(string)"
   ]
  },
  {
   "cell_type": "code",
   "execution_count": 68,
   "id": "dd6cd15e-4b70-4d22-a547-7ed3048de934",
   "metadata": {},
   "outputs": [
    {
     "data": {
      "text/plain": [
       "'PROGRAMMING'"
      ]
     },
     "execution_count": 68,
     "metadata": {},
     "output_type": "execute_result"
    }
   ],
   "source": [
    "s2.upper()"
   ]
  },
  {
   "cell_type": "code",
   "execution_count": 69,
   "id": "5e86ebfb-e87d-4c36-a74f-9dc41adee4d0",
   "metadata": {},
   "outputs": [
    {
     "data": {
      "text/plain": [
       "['__add__',\n",
       " '__class__',\n",
       " '__contains__',\n",
       " '__delattr__',\n",
       " '__dir__',\n",
       " '__doc__',\n",
       " '__eq__',\n",
       " '__format__',\n",
       " '__ge__',\n",
       " '__getattribute__',\n",
       " '__getitem__',\n",
       " '__getnewargs__',\n",
       " '__gt__',\n",
       " '__hash__',\n",
       " '__init__',\n",
       " '__init_subclass__',\n",
       " '__iter__',\n",
       " '__le__',\n",
       " '__len__',\n",
       " '__lt__',\n",
       " '__mod__',\n",
       " '__mul__',\n",
       " '__ne__',\n",
       " '__new__',\n",
       " '__reduce__',\n",
       " '__reduce_ex__',\n",
       " '__repr__',\n",
       " '__rmod__',\n",
       " '__rmul__',\n",
       " '__setattr__',\n",
       " '__sizeof__',\n",
       " '__str__',\n",
       " '__subclasshook__',\n",
       " 'capitalize',\n",
       " 'casefold',\n",
       " 'center',\n",
       " 'count',\n",
       " 'encode',\n",
       " 'endswith',\n",
       " 'expandtabs',\n",
       " 'find',\n",
       " 'format',\n",
       " 'format_map',\n",
       " 'index',\n",
       " 'isalnum',\n",
       " 'isalpha',\n",
       " 'isascii',\n",
       " 'isdecimal',\n",
       " 'isdigit',\n",
       " 'isidentifier',\n",
       " 'islower',\n",
       " 'isnumeric',\n",
       " 'isprintable',\n",
       " 'isspace',\n",
       " 'istitle',\n",
       " 'isupper',\n",
       " 'join',\n",
       " 'ljust',\n",
       " 'lower',\n",
       " 'lstrip',\n",
       " 'maketrans',\n",
       " 'partition',\n",
       " 'replace',\n",
       " 'rfind',\n",
       " 'rindex',\n",
       " 'rjust',\n",
       " 'rpartition',\n",
       " 'rsplit',\n",
       " 'rstrip',\n",
       " 'split',\n",
       " 'splitlines',\n",
       " 'startswith',\n",
       " 'strip',\n",
       " 'swapcase',\n",
       " 'title',\n",
       " 'translate',\n",
       " 'upper',\n",
       " 'zfill']"
      ]
     },
     "execution_count": 69,
     "metadata": {},
     "output_type": "execute_result"
    }
   ],
   "source": [
    "dir(s2)"
   ]
  },
  {
   "cell_type": "code",
   "execution_count": 74,
   "id": "90bbdfa9-78a5-4dc7-91bd-3466c4375729",
   "metadata": {},
   "outputs": [
    {
     "data": {
      "text/plain": [
       "'Singla'"
      ]
     },
     "execution_count": 74,
     "metadata": {},
     "output_type": "execute_result"
    }
   ],
   "source": [
    "s2.capitalize()"
   ]
  },
  {
   "cell_type": "code",
   "execution_count": 12,
   "id": "173c7769-b001-4a24-94c1-9bc80a015fd8",
   "metadata": {},
   "outputs": [
    {
     "ename": "TypeError",
     "evalue": "not all arguments converted during string formatting",
     "output_type": "error",
     "traceback": [
      "\u001b[1;31m---------------------------------------------------------------------------\u001b[0m",
      "\u001b[1;31mTypeError\u001b[0m                                 Traceback (most recent call last)",
      "\u001b[1;32m<ipython-input-12-0cdc6aa49486>\u001b[0m in \u001b[0;36m<module>\u001b[1;34m\u001b[0m\n\u001b[0;32m      1\u001b[0m \u001b[0mfirst_name\u001b[0m \u001b[1;33m=\u001b[0m \u001b[1;34m\"Jitin\"\u001b[0m\u001b[1;33m\u001b[0m\u001b[1;33m\u001b[0m\u001b[0m\n\u001b[0;32m      2\u001b[0m \u001b[0mlast_name\u001b[0m \u001b[1;33m=\u001b[0m \u001b[1;34m\"Singla\"\u001b[0m\u001b[1;33m\u001b[0m\u001b[1;33m\u001b[0m\u001b[0m\n\u001b[1;32m----> 3\u001b[1;33m \u001b[0mname_string\u001b[0m \u001b[1;33m=\u001b[0m \u001b[1;34m\"My name is %s %s!\"\u001b[0m \u001b[1;33m%\u001b[0m \u001b[1;33m(\u001b[0m\u001b[0mfirst_name\u001b[0m\u001b[1;33m,\u001b[0m \u001b[0mlast_name\u001b[0m\u001b[1;33m,\u001b[0m \u001b[1;34m\"test\"\u001b[0m\u001b[1;33m)\u001b[0m\u001b[1;33m\u001b[0m\u001b[1;33m\u001b[0m\u001b[0m\n\u001b[0m\u001b[0;32m      4\u001b[0m \u001b[0mprint\u001b[0m\u001b[1;33m(\u001b[0m\u001b[0mname_string\u001b[0m\u001b[1;33m)\u001b[0m\u001b[1;33m\u001b[0m\u001b[1;33m\u001b[0m\u001b[0m\n",
      "\u001b[1;31mTypeError\u001b[0m: not all arguments converted during string formatting"
     ]
    }
   ],
   "source": [
    "first_name = \"Jitin\"\n",
    "last_name = \"Singla\"\n",
    "name_string = \"My name is %s %s!\" % (first_name, last_name, \"test\")\n",
    "print(name_string)"
   ]
  },
  {
   "cell_type": "code",
   "execution_count": 21,
   "id": "d7c72b8b-c5d4-47dc-ad23-3bfd986ef173",
   "metadata": {},
   "outputs": [
    {
     "name": "stdout",
     "output_type": "stream",
     "text": [
      "My name is Jitin Singla!\n"
     ]
    }
   ],
   "source": [
    "# dictionary: {key:value}\n",
    "first_name = \"Jitin\"\n",
    "last_name = \"Singla\"\n",
    "name_string = \"My name is %(first)s %(last)s!\" % {\"first\":first_name, \"last\":last_name}\n",
    "print(name_string)"
   ]
  },
  {
   "cell_type": "code",
   "execution_count": 18,
   "id": "ba7c3b3c-6fec-42de-b4c0-a9af7900cc92",
   "metadata": {},
   "outputs": [
    {
     "name": "stdout",
     "output_type": "stream",
     "text": [
      "This is float: 1.23655\n"
     ]
    }
   ],
   "source": [
    "float_string = \"This is float: %0.5f\" % 1.2365455\n",
    "print(float_string)"
   ]
  },
  {
   "cell_type": "code",
   "execution_count": 22,
   "id": "3c9e923e-abaf-4382-a4bd-be33cbe575fb",
   "metadata": {},
   "outputs": [
    {
     "data": {
      "text/plain": [
       "'Python is as simple as a, b, c'"
      ]
     },
     "execution_count": 22,
     "metadata": {},
     "output_type": "execute_result"
    }
   ],
   "source": [
    "\"Python is as simple as {0}, {1}, {2}\".format(\"a\", \"b\", \"c\")"
   ]
  }
 ],
 "metadata": {
  "kernelspec": {
   "display_name": "Python 3 (ipykernel)",
   "language": "python",
   "name": "python3"
  },
  "language_info": {
   "codemirror_mode": {
    "name": "ipython",
    "version": 3
   },
   "file_extension": ".py",
   "mimetype": "text/x-python",
   "name": "python",
   "nbconvert_exporter": "python",
   "pygments_lexer": "ipython3",
   "version": "3.9.7"
  }
 },
 "nbformat": 4,
 "nbformat_minor": 5
}
