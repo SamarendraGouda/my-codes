{
 "cells": [
  {
   "cell_type": "code",
   "execution_count": 1,
   "id": "13c45d41-d61b-4e3b-b8b3-a43686d47342",
   "metadata": {},
   "outputs": [
    {
     "name": "stdout",
     "output_type": "stream",
     "text": [
      "[306, 235, 319, 290, 328, 245, 260, 143, 259, 93, 368, 344, 355, 107, 88, 310, 240, 309, 101, 13, 462, 466, 10, 351, 93, 277, 256, 288, 48, 427, 232, 91, 449, 499, 199, 12, 325, 388, 278, 333, 443, 326, 191, 87, 326, 358, 206, 228, 460, 406]\n"
     ]
    }
   ],
   "source": [
    "import random\n",
    "l = [random.randrange(1,500,1) for i in range(50)]\n",
    "print(l)"
   ]
  },
  {
   "cell_type": "code",
   "execution_count": 2,
   "id": "374fc034-be23-4509-b479-39ed3dcf2a0d",
   "metadata": {},
   "outputs": [
    {
     "name": "stdout",
     "output_type": "stream",
     "text": [
      "[10, 12, 13, 48, 87, 88, 91, 93, 93, 101, 107, 143, 191, 199, 206, 228, 232, 235, 240, 245, 256, 259, 260, 277, 278, 288, 290, 306, 309, 310, 319, 325, 326, 326, 328, 333, 344, 351, 355, 358, 368, 388, 406, 427, 443, 449, 460, 462, 466, 499]\n"
     ]
    }
   ],
   "source": [
    "# For Sorting\n",
    "l.sort()\n",
    "print(l)"
   ]
  },
  {
   "cell_type": "code",
   "execution_count": 6,
   "id": "35ffef21-f32d-4947-a521-f8824ebc3f4b",
   "metadata": {},
   "outputs": [
    {
     "name": "stdout",
     "output_type": "stream",
     "text": [
      "The two largest numbers are: 466 499\n",
      "The two smallest numbers are: 10 12\n"
     ]
    }
   ],
   "source": [
    "print(\"The two largest numbers are:\",l[-2],l[-1])\n",
    "print(\"The two smallest numbers are:\",l[0],l[1])"
   ]
  },
  {
   "cell_type": "code",
   "execution_count": 23,
   "id": "a6326308-6af8-42ed-9c90-c3e1089e4b39",
   "metadata": {},
   "outputs": [
    {
     "name": "stdout",
     "output_type": "stream",
     "text": [
      "2\n",
      "3 5 7 11 13 17 19 23 29 31 37 41 43 47 53 59 61 67 71 73 79 83 89 97 101 103 107 109 113 127 131 137 139 149 151 157 163 167 173 179 181 191 193 197 199 "
     ]
    }
   ],
   "source": [
    "# Question 2\n",
    "\n",
    "# Print prime numbers between 1 to 200\n",
    "print(2)\n",
    "for n in range(3,201,2):\n",
    "    for i in range(2, int(n**(1/2))+1):\n",
    "        if n%i == 0:\n",
    "            break\n",
    "    else:\n",
    "        print(n,end=\" \")"
   ]
  },
  {
   "cell_type": "code",
   "execution_count": null,
   "id": "c844a1dd-d030-452a-9d67-63ed8c904a46",
   "metadata": {},
   "outputs": [],
   "source": []
  },
  {
   "cell_type": "code",
   "execution_count": 34,
   "id": "ed5b60a7-b790-4a24-a1d7-c9f06464fef3",
   "metadata": {},
   "outputs": [
    {
     "data": {
      "text/plain": [
       "'Everyone Hello '"
      ]
     },
     "execution_count": 34,
     "metadata": {},
     "output_type": "execute_result"
    }
   ],
   "source": [
    "s = \"Hello Everyone\"\n",
    "L = s.split(\" \")\n",
    "s_rev = ''\n",
    "for i in range(-1,-(len(L)+1),-1):\n",
    "    s_rev = s_rev+L[i]+' '\n",
    "s_rev.strip()\n",
    "s_rev"
   ]
  },
  {
   "cell_type": "code",
   "execution_count": null,
   "id": "e91e02e4-0718-4057-bcfc-6a6643e0208a",
   "metadata": {},
   "outputs": [],
   "source": []
  }
 ],
 "metadata": {
  "kernelspec": {
   "display_name": "Python 3 (ipykernel)",
   "language": "python",
   "name": "python3"
  },
  "language_info": {
   "codemirror_mode": {
    "name": "ipython",
    "version": 3
   },
   "file_extension": ".py",
   "mimetype": "text/x-python",
   "name": "python",
   "nbconvert_exporter": "python",
   "pygments_lexer": "ipython3",
   "version": "3.9.7"
  }
 },
 "nbformat": 4,
 "nbformat_minor": 5
}
